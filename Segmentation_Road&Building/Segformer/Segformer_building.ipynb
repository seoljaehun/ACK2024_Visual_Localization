{
  "cells": [
    {
      "cell_type": "code",
      "execution_count": 1,
      "metadata": {
        "colab": {
          "base_uri": "https://localhost:8080/"
        },
        "id": "zU2hdo-iuDM_",
        "outputId": "aac70485-dab6-4fe1-ab29-f8896e154574"
      },
      "outputs": [
        {
          "name": "stdout",
          "output_type": "stream",
          "text": [
            "Setup complete. Using torch 2.0.0 (NVIDIA GeForce RTX 3060)\n"
          ]
        }
      ],
      "source": [
        "import torch\n",
        "\n",
        "print(f\"Setup complete. Using torch {torch.__version__} ({torch.cuda.get_device_properties(0).name if torch.cuda.is_available() else 'CPU'})\")"
      ]
    },
    {
      "cell_type": "code",
      "execution_count": 3,
      "metadata": {
        "id": "scnWNR9VuKnB"
      },
      "outputs": [
        {
          "name": "stderr",
          "output_type": "stream",
          "text": [
            "c:\\Users\\kkm\\anaconda3\\envs\\seg\\lib\\site-packages\\mmcv\\__init__.py:20: UserWarning: On January 1, 2023, MMCV will release v2.0.0, in which it will remove components related to the training process and add a data transformation module. In addition, it will rename the package names mmcv to mmcv-lite and mmcv-full to mmcv. See https://github.com/open-mmlab/mmcv/blob/master/docs/en/compatibility.md for more details.\n",
            "  warnings.warn(\n"
          ]
        }
      ],
      "source": [
        "from mmseg.apis import inference_segmentor, init_segmentor, show_result_pyplot\n",
        "import mmcv"
      ]
    },
    {
      "cell_type": "code",
      "execution_count": 4,
      "metadata": {
        "id": "nZ7kLaEfuMhh"
      },
      "outputs": [],
      "source": [
        "import os.path as osp\n",
        "import numpy as np\n",
        "from PIL import Image\n",
        "import matplotlib.pyplot as plt"
      ]
    },
    {
      "cell_type": "code",
      "execution_count": null,
      "metadata": {
        "id": "km0JLIuRumCX"
      },
      "outputs": [],
      "source": [
        "from mmseg.datasets.builder import DATASETS\n",
        "from mmseg.datasets.custom import CustomDataset\n",
        "\n",
        "classes = ('background', 'building')\n",
        "palette = [[0, 0, 0], [48, 200, 248]]\n",
        "\n",
        "@DATASETS.register_module()\n",
        "class Dataset(CustomDataset):\n",
        "  CLASSES = classes\n",
        "  PALETTE = palette\n",
        "  def __init__(self, split, **kwargs):\n",
        "    super().__init__(img_suffix='.png', seg_map_suffix='.png', \n",
        "                     split=split, **kwargs)\n",
        "    assert osp.exists(self.img_dir) and self.split is not None"
      ]
    },
    {
      "cell_type": "code",
      "execution_count": 7,
      "metadata": {
        "colab": {
          "base_uri": "https://localhost:8080/"
        },
        "id": "Qx5ugOgwuxGW",
        "outputId": "ab4aba7e-4ff4-4fd9-a254-fad09ac19fa7"
      },
      "outputs": [
        {
          "name": "stdout",
          "output_type": "stream",
          "text": [
            "norm_cfg = dict(type='SyncBN', requires_grad=True)\n",
            "model = dict(\n",
            "    type='EncoderDecoder',\n",
            "    pretrained=None,\n",
            "    backbone=dict(\n",
            "        type='MixVisionTransformer',\n",
            "        in_channels=3,\n",
            "        embed_dims=64,\n",
            "        num_stages=4,\n",
            "        num_layers=[3, 6, 40, 3],\n",
            "        num_heads=[1, 2, 5, 8],\n",
            "        patch_sizes=[7, 3, 3, 3],\n",
            "        sr_ratios=[8, 4, 2, 1],\n",
            "        out_indices=(0, 1, 2, 3),\n",
            "        mlp_ratio=4,\n",
            "        qkv_bias=True,\n",
            "        drop_rate=0.0,\n",
            "        attn_drop_rate=0.0,\n",
            "        drop_path_rate=0.1,\n",
            "        init_cfg=dict(\n",
            "            type='Pretrained',\n",
            "            checkpoint=\n",
            "            'https://download.openmmlab.com/mmsegmentation/v0.5/pretrain/segformer/mit_b5_20220624-658746d9.pth'\n",
            "        )),\n",
            "    decode_head=dict(\n",
            "        type='SegformerHead',\n",
            "        in_channels=[64, 128, 320, 512],\n",
            "        in_index=[0, 1, 2, 3],\n",
            "        channels=256,\n",
            "        dropout_ratio=0.1,\n",
            "        num_classes=19,\n",
            "        norm_cfg=dict(type='SyncBN', requires_grad=True),\n",
            "        align_corners=False,\n",
            "        loss_decode=dict(\n",
            "            type='CrossEntropyLoss', use_sigmoid=False, loss_weight=1.0)),\n",
            "    train_cfg=dict(),\n",
            "    test_cfg=dict(mode='slide', crop_size=(1024, 1024), stride=(768, 768)))\n",
            "dataset_type = 'CityscapesDataset'\n",
            "data_root = 'data/cityscapes/'\n",
            "img_norm_cfg = dict(\n",
            "    mean=[123.675, 116.28, 103.53], std=[58.395, 57.12, 57.375], to_rgb=True)\n",
            "crop_size = (1024, 1024)\n",
            "train_pipeline = [\n",
            "    dict(type='LoadImageFromFile'),\n",
            "    dict(type='LoadAnnotations'),\n",
            "    dict(type='Resize', img_scale=(2048, 1024), ratio_range=(0.5, 2.0)),\n",
            "    dict(type='RandomCrop', crop_size=(1024, 1024), cat_max_ratio=0.75),\n",
            "    dict(type='RandomFlip', prob=0.5),\n",
            "    dict(type='PhotoMetricDistortion'),\n",
            "    dict(\n",
            "        type='Normalize',\n",
            "        mean=[123.675, 116.28, 103.53],\n",
            "        std=[58.395, 57.12, 57.375],\n",
            "        to_rgb=True),\n",
            "    dict(type='Pad', size=(1024, 1024), pad_val=0, seg_pad_val=255),\n",
            "    dict(type='DefaultFormatBundle'),\n",
            "    dict(type='Collect', keys=['img', 'gt_semantic_seg'])\n",
            "]\n",
            "test_pipeline = [\n",
            "    dict(type='LoadImageFromFile'),\n",
            "    dict(\n",
            "        type='MultiScaleFlipAug',\n",
            "        img_scale=(2048, 1024),\n",
            "        flip=False,\n",
            "        transforms=[\n",
            "            dict(type='Resize', keep_ratio=True),\n",
            "            dict(type='RandomFlip'),\n",
            "            dict(\n",
            "                type='Normalize',\n",
            "                mean=[123.675, 116.28, 103.53],\n",
            "                std=[58.395, 57.12, 57.375],\n",
            "                to_rgb=True),\n",
            "            dict(type='ImageToTensor', keys=['img']),\n",
            "            dict(type='Collect', keys=['img'])\n",
            "        ])\n",
            "]\n",
            "data = dict(\n",
            "    samples_per_gpu=1,\n",
            "    workers_per_gpu=1,\n",
            "    train=dict(\n",
            "        type='CityscapesDataset',\n",
            "        data_root='data/cityscapes/',\n",
            "        img_dir='leftImg8bit/train',\n",
            "        ann_dir='gtFine/train',\n",
            "        pipeline=[\n",
            "            dict(type='LoadImageFromFile'),\n",
            "            dict(type='LoadAnnotations'),\n",
            "            dict(\n",
            "                type='Resize', img_scale=(2048, 1024), ratio_range=(0.5, 2.0)),\n",
            "            dict(\n",
            "                type='RandomCrop', crop_size=(1024, 1024), cat_max_ratio=0.75),\n",
            "            dict(type='RandomFlip', prob=0.5),\n",
            "            dict(type='PhotoMetricDistortion'),\n",
            "            dict(\n",
            "                type='Normalize',\n",
            "                mean=[123.675, 116.28, 103.53],\n",
            "                std=[58.395, 57.12, 57.375],\n",
            "                to_rgb=True),\n",
            "            dict(type='Pad', size=(1024, 1024), pad_val=0, seg_pad_val=255),\n",
            "            dict(type='DefaultFormatBundle'),\n",
            "            dict(type='Collect', keys=['img', 'gt_semantic_seg'])\n",
            "        ]),\n",
            "    val=dict(\n",
            "        type='CityscapesDataset',\n",
            "        data_root='data/cityscapes/',\n",
            "        img_dir='leftImg8bit/val',\n",
            "        ann_dir='gtFine/val',\n",
            "        pipeline=[\n",
            "            dict(type='LoadImageFromFile'),\n",
            "            dict(\n",
            "                type='MultiScaleFlipAug',\n",
            "                img_scale=(2048, 1024),\n",
            "                flip=False,\n",
            "                transforms=[\n",
            "                    dict(type='Resize', keep_ratio=True),\n",
            "                    dict(type='RandomFlip'),\n",
            "                    dict(\n",
            "                        type='Normalize',\n",
            "                        mean=[123.675, 116.28, 103.53],\n",
            "                        std=[58.395, 57.12, 57.375],\n",
            "                        to_rgb=True),\n",
            "                    dict(type='ImageToTensor', keys=['img']),\n",
            "                    dict(type='Collect', keys=['img'])\n",
            "                ])\n",
            "        ]),\n",
            "    test=dict(\n",
            "        type='CityscapesDataset',\n",
            "        data_root='data/cityscapes/',\n",
            "        img_dir='leftImg8bit/val',\n",
            "        ann_dir='gtFine/val',\n",
            "        pipeline=[\n",
            "            dict(type='LoadImageFromFile'),\n",
            "            dict(\n",
            "                type='MultiScaleFlipAug',\n",
            "                img_scale=(2048, 1024),\n",
            "                flip=False,\n",
            "                transforms=[\n",
            "                    dict(type='Resize', keep_ratio=True),\n",
            "                    dict(type='RandomFlip'),\n",
            "                    dict(\n",
            "                        type='Normalize',\n",
            "                        mean=[123.675, 116.28, 103.53],\n",
            "                        std=[58.395, 57.12, 57.375],\n",
            "                        to_rgb=True),\n",
            "                    dict(type='ImageToTensor', keys=['img']),\n",
            "                    dict(type='Collect', keys=['img'])\n",
            "                ])\n",
            "        ]))\n",
            "log_config = dict(\n",
            "    interval=50, hooks=[dict(type='TextLoggerHook', by_epoch=False)])\n",
            "dist_params = dict(backend='nccl')\n",
            "log_level = 'INFO'\n",
            "load_from = None\n",
            "resume_from = None\n",
            "workflow = [('train', 1)]\n",
            "cudnn_benchmark = True\n",
            "optimizer = dict(\n",
            "    type='AdamW',\n",
            "    lr=6e-05,\n",
            "    betas=(0.9, 0.999),\n",
            "    weight_decay=0.01,\n",
            "    paramwise_cfg=dict(\n",
            "        custom_keys=dict(\n",
            "            pos_block=dict(decay_mult=0.0),\n",
            "            norm=dict(decay_mult=0.0),\n",
            "            head=dict(lr_mult=10.0))))\n",
            "optimizer_config = dict()\n",
            "lr_config = dict(\n",
            "    policy='poly',\n",
            "    warmup='linear',\n",
            "    warmup_iters=1500,\n",
            "    warmup_ratio=1e-06,\n",
            "    power=1.0,\n",
            "    min_lr=0.0,\n",
            "    by_epoch=False)\n",
            "runner = dict(type='IterBasedRunner', max_iters=160000)\n",
            "checkpoint_config = dict(by_epoch=False, interval=16000)\n",
            "evaluation = dict(interval=16000, metric='mIoU', pre_eval=True)\n",
            "checkpoint = 'https://download.openmmlab.com/mmsegmentation/v0.5/pretrain/segformer/mit_b5_20220624-658746d9.pth'\n",
            "\n"
          ]
        }
      ],
      "source": [
        "# config 파일을 설정하고, 다운로드 받은 pretrained 모델을 checkpoint로 설정. \n",
        "config_file = 'C:/Users/kkm/Downloads/mmsegmentation/configs/segformer/segformer_mit-b5_8x1_1024x1024_160k_cityscapes.py'\n",
        "checkpoint_file = 'C:/Users/kkm/Downloads/mmsegmentation/checkpoints/segformer_mit-b5_8x1_1024x1024_160k_cityscapes_20211206_072934-87a052ec.pth'\n",
        "\n",
        "from mmcv import Config\n",
        "\n",
        "cfg = Config.fromfile(config_file)\n",
        "print(cfg.pretty_text)"
      ]
    },
    {
      "cell_type": "code",
      "execution_count": 8,
      "metadata": {
        "id": "caVFRT7QvWE8"
      },
      "outputs": [],
      "source": [
        "cfg.norm_cfg = dict(type='BN', requires_grad=True)\n",
        "#cfg.model.backbone.norm_cfg = cfg.norm_cfg\n",
        "cfg.model.decode_head.norm_cfg = cfg.norm_cfg\n",
        "\n",
        "cfg.device='cuda'\n",
        "\n",
        "cfg.model.decode_head.num_classes = 3\n",
        "\n",
        "#cfg.data.samples_per_gpu=2\n",
        "#cfg.data.workers_per_gpu=2\n",
        "\n",
        "cfg.model.decode_head.loss_decode = [dict(type='CrossEntropyLoss', loss_weight = 1.0),\n",
        "                                     dict(type='FocalLoss', loss_weight = 1.0),\n",
        "                                     dict(type='LovaszLoss', loss_weight = 1.0, reduction='none')]\n"
      ]
    },
    {
      "cell_type": "code",
      "execution_count": 9,
      "metadata": {
        "id": "X9IpatmxvYMt"
      },
      "outputs": [],
      "source": [
        "cfg.img_norm_cfg = dict(\n",
        "    mean=[123.675, 116.28, 103.53], std=[58.395, 57.12, 57.375], to_rgb=True)\n",
        "cfg.crop_size = (512, 512)\n",
        "cfg.train_pipeline = [\n",
        "    dict(type='LoadImageFromFile'),\n",
        "    dict(type='LoadAnnotations'),\n",
        "    dict(type='Resize', img_scale=(1024, 1024), ratio_range=(0.5, 2.0)),\n",
        "    dict(type='RandomCrop', crop_size=cfg.crop_size, cat_max_ratio=0.75),\n",
        "    dict(type='RandomFlip', flip_ratio=0.5),\n",
        "    dict(type='PhotoMetricDistortion'),\n",
        "    dict(type='Normalize', **cfg.img_norm_cfg),\n",
        "    dict(type='Pad', size=cfg.crop_size, pad_val=0, seg_pad_val=255),\n",
        "    dict(type='DefaultFormatBundle'),\n",
        "    dict(type='Collect', keys=['img', 'gt_semantic_seg']),\n",
        "]\n",
        "\n",
        "cfg.val_pipeline = [\n",
        "                    dict(type='LoadImageFromFile'),\n",
        "                    dict(\n",
        "                        type='MultiScaleFlipAug',\n",
        "                        img_scale=(1024, 1024),\n",
        "                        flip=False,\n",
        "                        transforms=[\n",
        "                                    dict(type='Resize', keep_ratio=True),\n",
        "                                    dict(type='RandomFlip'),\n",
        "                                    dict(\n",
        "                                        type='Normalize',\n",
        "                                        mean=[123.675, 116.28, 103.53],\n",
        "                                        std=[58.395, 57.12, 57.375],\n",
        "                                        to_rgb=True),\n",
        "                                    dict(type='ImageToTensor', keys=['img']),\n",
        "                                    dict(type='Collect', keys=['img'])\n",
        "                                    ]),\n",
        "                    \n",
        "]\n",
        "\n",
        "\n",
        "cfg.test_pipeline = [\n",
        "    dict(type='LoadImageFromFile'),\n",
        "    dict(\n",
        "        type='MultiScaleFlipAug',\n",
        "        img_scale=(1024, 1024),\n",
        "        img_ratios=[0.5, 0.75, 1.0, 1.25, 1.5, 1.75],\n",
        "        flip=False,\n",
        "        transforms=[\n",
        "            dict(type='Resize', keep_ratio=True),\n",
        "            #dict(type='ResizeToMultiple', size_divisor=32),\n",
        "            dict(type='RandomFlip'),\n",
        "            dict(type='Normalize', **cfg.img_norm_cfg),\n",
        "            dict(type='ImageToTensor', keys=['img']),\n",
        "            dict(type='Collect', keys=['img']),\n",
        "        ])\n",
        "]"
      ]
    },
    {
      "cell_type": "code",
      "execution_count": null,
      "metadata": {
        "id": "_4PNB6hGvds4"
      },
      "outputs": [],
      "source": [
        "cfg.data.samples_per_gpu=1\n",
        "cfg.data.workers_per_gpu=0\n",
        "cfg.data.persistent_workers=False\n",
        "cfg.dataset_type = 'Dataset'\n",
        "cfg.data_root = 'D:/'\n",
        "\n",
        "cfg.data.train.type = 'Dataset'\n",
        "cfg.data.train.data_root = 'D:/'\n",
        "cfg.data.train.img_dir = 'Data_set/building_dataset/img_dir/train'\n",
        "cfg.data.train.ann_dir = 'Data_set/building_dataset/contour_ann_dir/train'\n",
        "cfg.data.train.pipeline = cfg.train_pipeline\n",
        "cfg.data.train.split = 'D:/Data_set/building_dataset/mask_dir/train/train_building.txt'\n",
        "\n",
        "cfg.data.val.type = 'Dataset'\n",
        "cfg.data.val.data_root = 'D:/'\n",
        "cfg.data.val.img_dir = 'Data_set/building_dataset/img_dir/train'\n",
        "cfg.data.val.ann_dir = 'Data_set/building_dataset/contour_ann_dir/train'\n",
        "cfg.data.val.pipeline = cfg.test_pipeline\n",
        "cfg.data.val.split = 'D:/Data_set/building_dataset/mask_dir/train/val_building.txt'\n",
        "\n",
        "cfg.data.test.type = 'Dataset'\n",
        "cfg.data.test.data_root = 'D:/'\n",
        "cfg.data.test.img_dir = 'Data_set/building_dataset/img_dir/val'\n",
        "cfg.data.test.ann_dir = 'Data_set/building_dataset/contour_ann_dir/val'\n",
        "cfg.data.test.pipeline = cfg.test_pipeline\n",
        "cfg.data.test.split = 'D:/Data_set/building_dataset/mask_dir/val/test.txt'\n"
      ]
    },
    {
      "cell_type": "code",
      "execution_count": null,
      "metadata": {
        "id": "l1Gc8ttSvw8e"
      },
      "outputs": [],
      "source": [
        "cfg.load_from = 'C:/Users/kkm/Downloads/mmsegmentation/checkpoints/segformer_mit-b5_8x1_1024x1024_160k_cityscapes_20211206_072934-87a052ec.pth'\n",
        "\n",
        "# Set up working dir to save files and logs.\n",
        "cfg.work_dir = 'D:/checkpoint/Segformer/building/'"
      ]
    },
    {
      "cell_type": "code",
      "execution_count": null,
      "metadata": {
        "colab": {
          "base_uri": "https://localhost:8080/"
        },
        "id": "vvSIfRurv0sm",
        "outputId": "aa7fcf67-8869-4b9f-84fa-b5b366a5d2f5"
      },
      "outputs": [],
      "source": [
        "cfg.runner.max_iteTrs = 200\n",
        "cfg.log_config.interval = 100\n",
        "cfg.evaluation.interval = 1000  # 모델 학습시 평가를 몇 번째 iteration마다 할 것인지 지정\n",
        "cfg.checkpoint_config.interval = 1000  # 모델 학습시 학습한 모델을 몇 번째 iteration마다 저장할 것인지 지정\n",
        "\n",
        "cfg.runner = dict(type='IterBasedRunner', max_iters=20000)  # Iteration으로 동작, Epoch로 동작하게 변경할 수도 있음\n",
        "# cfg.runner = dict(type='EpochBasedRunner', max_epochs=4000)  # Epoch로 변경\n",
        "cfg.workflow = [('train', 1)]\n",
        "\n",
        "# Set seed to facitate reproducing the result\n",
        "cfg.seed = 0\n",
        "#set_random_seed(0, deterministic=False)\n",
        "cfg.gpu_ids = range(1)\n",
        "\n",
        "# Let's have a look at the final config used for training\n",
        "print(f'Config:\\n{cfg.pretty_text}')"
      ]
    },
    {
      "cell_type": "code",
      "execution_count": null,
      "metadata": {
        "colab": {
          "base_uri": "https://localhost:8080/"
        },
        "id": "8IlH2WxNwFFW",
        "outputId": "fd17a788-5499-41ea-e3d9-80e4f66b141c"
      },
      "outputs": [],
      "source": [
        "from mmseg.datasets import build_dataset\n",
        "from mmseg.models import build_segmentor\n",
        "from mmseg.apis import train_segmentor\n",
        "\n",
        "# Build the dataset\n",
        "datasets = [build_dataset(cfg.data.train)]\n",
        "\n",
        "# Build the detector\n",
        "model = build_segmentor(\n",
        "    cfg.model, train_cfg=cfg.get('train_cfg'), test_cfg=cfg.get('test_cfg'))\n",
        "\n",
        "# Add an attribute for visualization convenience\n",
        "model.CLASSES = datasets[0].CLASSES\n",
        "\n",
        "# Create work_dir\n",
        "mmcv.mkdir_or_exist(osp.abspath(cfg.work_dir))\n",
        "train_segmentor(model, datasets, cfg, distributed=False, validate=True,\n",
        "                meta=dict(CLASSES=classes, PALETTE=palette))"
      ]
    }
  ],
  "metadata": {
    "accelerator": "GPU",
    "colab": {
      "collapsed_sections": [],
      "machine_shape": "hm",
      "name": "Segformer_building_512x512_iter_20k_contour_dice_focal_lovasz.ipynb",
      "provenance": []
    },
    "kernelspec": {
      "display_name": "seg",
      "language": "python",
      "name": "python3"
    },
    "language_info": {
      "codemirror_mode": {
        "name": "ipython",
        "version": 3
      },
      "file_extension": ".py",
      "mimetype": "text/x-python",
      "name": "python",
      "nbconvert_exporter": "python",
      "pygments_lexer": "ipython3",
      "version": "3.9.0"
    }
  },
  "nbformat": 4,
  "nbformat_minor": 0
}
