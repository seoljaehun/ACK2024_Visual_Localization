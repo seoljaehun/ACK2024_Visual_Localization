{
 "cells": [
  {
   "cell_type": "code",
   "execution_count": 2,
   "metadata": {},
   "outputs": [
    {
     "name": "stdout",
     "output_type": "stream",
     "text": [
      "New https://pypi.org/project/ultralytics/8.3.74 available  Update with 'pip install -U ultralytics'\n",
      "Ultralytics 8.3.70  Python-3.9.21 torch-1.9.1+cu111 CUDA:0 (NVIDIA GeForce RTX 3060, 12287MiB)\n",
      "WARNING  Upgrade to torch>=2.0.0 for deterministic training.\n",
      "\u001b[34m\u001b[1mengine\\trainer: \u001b[0mtask=segment, mode=train, model=yolo11x-seg.pt, data=D:/019./road_dataset.yaml, epochs=50, time=None, patience=100, batch=8, imgsz=640, save=True, save_period=-1, cache=False, device=cuda, workers=0, project=None, name=train3, exist_ok=False, pretrained=True, optimizer=auto, verbose=True, seed=0, deterministic=True, single_cls=False, rect=False, cos_lr=False, close_mosaic=10, resume=False, amp=True, fraction=1.0, profile=False, freeze=None, multi_scale=False, overlap_mask=True, mask_ratio=4, dropout=0.0, val=True, split=val, save_json=False, save_hybrid=False, conf=None, iou=0.2, max_det=300, half=False, dnn=False, plots=True, source=None, vid_stride=1, stream_buffer=False, visualize=False, augment=False, agnostic_nms=False, classes=None, retina_masks=False, embed=None, show=False, save_frames=False, save_txt=False, save_conf=False, save_crop=False, show_labels=True, show_conf=True, show_boxes=True, line_width=None, format=torchscript, keras=False, optimize=False, int8=False, dynamic=False, simplify=True, opset=None, workspace=None, nms=False, lr0=0.01, lrf=0.2, momentum=0.937, weight_decay=0.0005, warmup_epochs=3.0, warmup_momentum=0.8, warmup_bias_lr=0.1, box=0.05, cls=0.5, dfl=1.5, pose=12.0, kobj=1.0, nbs=64, hsv_h=0.015, hsv_s=0.7, hsv_v=0.4, degrees=30.0, translate=0.2, scale=0.3, shear=2.0, perspective=0.001, flipud=0.5, fliplr=0.5, bgr=0.0, mosaic=1.0, mixup=0.0, copy_paste=0.0, copy_paste_mode=flip, auto_augment=randaugment, erasing=0.6, crop_fraction=1.0, cfg=None, tracker=botsort.yaml, save_dir=runs\\segment\\train3\n",
      "Overriding model.yaml nc=80 with nc=1\n",
      "\n",
      "                   from  n    params  module                                       arguments                     \n",
      "  0                  -1  1      2784  ultralytics.nn.modules.conv.Conv             [3, 96, 3, 2]                 \n",
      "  1                  -1  1    166272  ultralytics.nn.modules.conv.Conv             [96, 192, 3, 2]               \n",
      "  2                  -1  2    389760  ultralytics.nn.modules.block.C3k2            [192, 384, 2, True, 0.25]     \n",
      "  3                  -1  1   1327872  ultralytics.nn.modules.conv.Conv             [384, 384, 3, 2]              \n",
      "  4                  -1  2   1553664  ultralytics.nn.modules.block.C3k2            [384, 768, 2, True, 0.25]     \n",
      "  5                  -1  1   5309952  ultralytics.nn.modules.conv.Conv             [768, 768, 3, 2]              \n",
      "  6                  -1  2   5022720  ultralytics.nn.modules.block.C3k2            [768, 768, 2, True]           \n",
      "  7                  -1  1   5309952  ultralytics.nn.modules.conv.Conv             [768, 768, 3, 2]              \n",
      "  8                  -1  2   5022720  ultralytics.nn.modules.block.C3k2            [768, 768, 2, True]           \n",
      "  9                  -1  1   1476864  ultralytics.nn.modules.block.SPPF            [768, 768, 5]                 \n",
      " 10                  -1  2   3264768  ultralytics.nn.modules.block.C2PSA           [768, 768, 2]                 \n",
      " 11                  -1  1         0  torch.nn.modules.upsampling.Upsample         [None, 2, 'nearest']          \n",
      " 12             [-1, 6]  1         0  ultralytics.nn.modules.conv.Concat           [1]                           \n",
      " 13                  -1  2   5612544  ultralytics.nn.modules.block.C3k2            [1536, 768, 2, True]          \n",
      " 14                  -1  1         0  torch.nn.modules.upsampling.Upsample         [None, 2, 'nearest']          \n",
      " 15             [-1, 4]  1         0  ultralytics.nn.modules.conv.Concat           [1]                           \n",
      " 16                  -1  2   1700352  ultralytics.nn.modules.block.C3k2            [1536, 384, 2, True]          \n",
      " 17                  -1  1   1327872  ultralytics.nn.modules.conv.Conv             [384, 384, 3, 2]              \n",
      " 18            [-1, 13]  1         0  ultralytics.nn.modules.conv.Concat           [1]                           \n",
      " 19                  -1  2   5317632  ultralytics.nn.modules.block.C3k2            [1152, 768, 2, True]          \n",
      " 20                  -1  1   5309952  ultralytics.nn.modules.conv.Conv             [768, 768, 3, 2]              \n",
      " 21            [-1, 10]  1         0  ultralytics.nn.modules.conv.Concat           [1]                           \n",
      " 22                  -1  2   5612544  ultralytics.nn.modules.block.C3k2            [1536, 768, 2, True]          \n",
      " 23        [16, 19, 22]  1   8323187  ultralytics.nn.modules.head.Segment          [1, 32, 384, [384, 768, 768]] \n",
      "YOLO11x-seg summary: 667 layers, 62,051,411 parameters, 62,051,395 gradients, 319.7 GFLOPs\n",
      "\n",
      "Transferred 1071/1077 items from pretrained weights\n",
      "Freezing layer 'model.23.dfl.conv.weight'\n",
      "\u001b[34m\u001b[1mAMP: \u001b[0mrunning Automatic Mixed Precision (AMP) checks...\n",
      "\u001b[34m\u001b[1mAMP: \u001b[0mchecks passed \n"
     ]
    },
    {
     "name": "stderr",
     "output_type": "stream",
     "text": [
      "\u001b[34m\u001b[1mtrain: \u001b[0mScanning D:\\019.위성영상객체판독\\1.Training\\train_road\\labels.cache... 2760 images, 0 backgrounds, 312 corrupt: 100%|██████████| 2760/2760 [00:00<?, ?it/s]"
     ]
    },
    {
     "name": "stdout",
     "output_type": "stream",
     "text": [
      "\u001b[34m\u001b[1mtrain: \u001b[0mWARNING  D:\\019.\\1.Training\\train_road\\images\\BLD00001_PS3_K3A_NIA0276.png: ignoring corrupt image/label: non-normalized or out of bounds coordinates [     1.0554      1.0003]\n",
      "\u001b[34m\u001b[1mtrain: \u001b[0mWARNING  D:\\019.\\1.Training\\train_road\\images\\BLD00001_PS3_K3A_NIA0276_1.png: ignoring corrupt image/label: non-normalized or out of bounds coordinates [     1.0554      1.0003]\n",
      "\u001b[34m\u001b[1mtrain: \u001b[0mWARNING  D:\\019.\\1.Training\\train_road\\images\\BLD00001_PS3_K3A_NIA0276_1_2.png: ignoring corrupt image/label: non-normalized or out of bounds coordinates [     1.0554      1.0003]\n",
      "\u001b[34m\u001b[1mtrain: \u001b[0mWARNING  D:\\019.\\1.Training\\train_road\\images\\BLD00019_PS3_K3A_NIA0276.png: ignoring corrupt image/label: non-normalized or out of bounds coordinates [     1.0002]\n",
      "\u001b[34m\u001b[1mtrain: \u001b[0mWARNING  D:\\019.\\1.Training\\train_road\\images\\BLD00019_PS3_K3A_NIA0276_1.png: ignoring corrupt image/label: non-normalized or out of bounds coordinates [     1.0002]\n",
      "\u001b[34m\u001b[1mtrain: \u001b[0mWARNING  D:\\019.\\1.Training\\train_road\\images\\BLD00019_PS3_K3A_NIA0276_1_2.png: ignoring corrupt image/label: non-normalized or out of bounds coordinates [     1.0002]\n",
      "\u001b[34m\u001b[1mtrain: \u001b[0mWARNING  D:\\019.\\1.Training\\train_road\\images\\BLD00028_PS3_K3A_NIA0276.png: ignoring corrupt image/label: non-normalized or out of bounds coordinates [     1.0003      1.0015      1.0004]\n",
      "\u001b[34m\u001b[1mtrain: \u001b[0mWARNING  D:\\019.\\1.Training\\train_road\\images\\BLD00028_PS3_K3A_NIA0276_1.png: ignoring corrupt image/label: non-normalized or out of bounds coordinates [     1.0003      1.0015      1.0004]\n",
      "\u001b[34m\u001b[1mtrain: \u001b[0mWARNING  D:\\019.\\1.Training\\train_road\\images\\BLD00028_PS3_K3A_NIA0276_1_2.png: ignoring corrupt image/label: non-normalized or out of bounds coordinates [     1.0003      1.0015      1.0004]\n",
      "\u001b[34m\u001b[1mtrain: \u001b[0mWARNING  D:\\019.\\1.Training\\train_road\\images\\BLD00039_PS3_K3A_NIA0276.png: ignoring corrupt image/label: non-normalized or out of bounds coordinates [     1.0005]\n",
      "\u001b[34m\u001b[1mtrain: \u001b[0mWARNING  D:\\019.\\1.Training\\train_road\\images\\BLD00039_PS3_K3A_NIA0276_1.png: ignoring corrupt image/label: non-normalized or out of bounds coordinates [     1.0005]\n",
      "\u001b[34m\u001b[1mtrain: \u001b[0mWARNING  D:\\019.\\1.Training\\train_road\\images\\BLD00039_PS3_K3A_NIA0276_1_2.png: ignoring corrupt image/label: non-normalized or out of bounds coordinates [     1.0005]\n",
      "\u001b[34m\u001b[1mtrain: \u001b[0mWARNING  D:\\019.\\1.Training\\train_road\\images\\BLD00042_PS3_K3A_NIA0276.png: ignoring corrupt image/label: non-normalized or out of bounds coordinates [     1.0006      1.0017]\n",
      "\u001b[34m\u001b[1mtrain: \u001b[0mWARNING  D:\\019.\\1.Training\\train_road\\images\\BLD00042_PS3_K3A_NIA0276_1.png: ignoring corrupt image/label: non-normalized or out of bounds coordinates [     1.0006      1.0017]\n",
      "\u001b[34m\u001b[1mtrain: \u001b[0mWARNING  D:\\019.\\1.Training\\train_road\\images\\BLD00042_PS3_K3A_NIA0276_1_2.png: ignoring corrupt image/label: non-normalized or out of bounds coordinates [     1.0006      1.0017]\n",
      "\u001b[34m\u001b[1mtrain: \u001b[0mWARNING  D:\\019.\\1.Training\\train_road\\images\\BLD00053_PS3_K3A_NIA0276.png: ignoring corrupt image/label: non-normalized or out of bounds coordinates [     1.0008]\n",
      "\u001b[34m\u001b[1mtrain: \u001b[0mWARNING  D:\\019.\\1.Training\\train_road\\images\\BLD00053_PS3_K3A_NIA0276_1.png: ignoring corrupt image/label: non-normalized or out of bounds coordinates [     1.0008]\n",
      "\u001b[34m\u001b[1mtrain: \u001b[0mWARNING  D:\\019.\\1.Training\\train_road\\images\\BLD00053_PS3_K3A_NIA0276_1_2.png: ignoring corrupt image/label: non-normalized or out of bounds coordinates [     1.0008]\n",
      "\u001b[34m\u001b[1mtrain: \u001b[0mWARNING  D:\\019.\\1.Training\\train_road\\images\\BLD00055_PS3_K3A_NIA0276.png: ignoring corrupt image/label: non-normalized or out of bounds coordinates [     1.0004      1.0006]\n",
      "\u001b[34m\u001b[1mtrain: \u001b[0mWARNING  D:\\019.\\1.Training\\train_road\\images\\BLD00055_PS3_K3A_NIA0276_1.png: ignoring corrupt image/label: non-normalized or out of bounds coordinates [     1.0004      1.0006]\n",
      "\u001b[34m\u001b[1mtrain: \u001b[0mWARNING  D:\\019.\\1.Training\\train_road\\images\\BLD00055_PS3_K3A_NIA0276_1_2.png: ignoring corrupt image/label: non-normalized or out of bounds coordinates [     1.0004      1.0006]\n",
      "\u001b[34m\u001b[1mtrain: \u001b[0mWARNING  D:\\019.\\1.Training\\train_road\\images\\BLD00058_PS3_K3A_NIA0276.png: ignoring corrupt image/label: non-normalized or out of bounds coordinates [     1.0009       1.001]\n",
      "\u001b[34m\u001b[1mtrain: \u001b[0mWARNING  D:\\019.\\1.Training\\train_road\\images\\BLD00058_PS3_K3A_NIA0276_1.png: ignoring corrupt image/label: non-normalized or out of bounds coordinates [     1.0009       1.001]\n",
      "\u001b[34m\u001b[1mtrain: \u001b[0mWARNING  D:\\019.\\1.Training\\train_road\\images\\BLD00058_PS3_K3A_NIA0276_1_2.png: ignoring corrupt image/label: non-normalized or out of bounds coordinates [     1.0009       1.001]\n",
      "\u001b[34m\u001b[1mtrain: \u001b[0mWARNING  D:\\019.\\1.Training\\train_road\\images\\BLD00068_PS3_K3A_NIA0276.png: ignoring corrupt image/label: non-normalized or out of bounds coordinates [     1.0369]\n",
      "\u001b[34m\u001b[1mtrain: \u001b[0mWARNING  D:\\019.\\1.Training\\train_road\\images\\BLD00068_PS3_K3A_NIA0276_1.png: ignoring corrupt image/label: non-normalized or out of bounds coordinates [     1.0369]\n",
      "\u001b[34m\u001b[1mtrain: \u001b[0mWARNING  D:\\019.\\1.Training\\train_road\\images\\BLD00068_PS3_K3A_NIA0276_1_2.png: ignoring corrupt image/label: non-normalized or out of bounds coordinates [     1.0369]\n",
      "\u001b[34m\u001b[1mtrain: \u001b[0mWARNING  D:\\019.\\1.Training\\train_road\\images\\BLD00070_PS3_K3A_NIA0276.png: ignoring corrupt image/label: non-normalized or out of bounds coordinates [     1.0005]\n",
      "\u001b[34m\u001b[1mtrain: \u001b[0mWARNING  D:\\019.\\1.Training\\train_road\\images\\BLD00070_PS3_K3A_NIA0276_1.png: ignoring corrupt image/label: non-normalized or out of bounds coordinates [     1.0005]\n",
      "\u001b[34m\u001b[1mtrain: \u001b[0mWARNING  D:\\019.\\1.Training\\train_road\\images\\BLD00070_PS3_K3A_NIA0276_1_2.png: ignoring corrupt image/label: non-normalized or out of bounds coordinates [     1.0005]\n",
      "\u001b[34m\u001b[1mtrain: \u001b[0mWARNING  D:\\019.\\1.Training\\train_road\\images\\BLD00112_PS3_K3A_NIA0276.png: ignoring corrupt image/label: non-normalized or out of bounds coordinates [     1.0028      1.0001]\n",
      "\u001b[34m\u001b[1mtrain: \u001b[0mWARNING  D:\\019.\\1.Training\\train_road\\images\\BLD00112_PS3_K3A_NIA0276_1.png: ignoring corrupt image/label: non-normalized or out of bounds coordinates [     1.0028      1.0001]\n",
      "\u001b[34m\u001b[1mtrain: \u001b[0mWARNING  D:\\019.\\1.Training\\train_road\\images\\BLD00112_PS3_K3A_NIA0276_1_2.png: ignoring corrupt image/label: non-normalized or out of bounds coordinates [     1.0028      1.0001]\n",
      "\u001b[34m\u001b[1mtrain: \u001b[0mWARNING  D:\\019.\\1.Training\\train_road\\images\\BLD00117_PS3_K3A_NIA0276.png: ignoring corrupt image/label: non-normalized or out of bounds coordinates [     1.0005]\n",
      "\u001b[34m\u001b[1mtrain: \u001b[0mWARNING  D:\\019.\\1.Training\\train_road\\images\\BLD00117_PS3_K3A_NIA0276_1.png: ignoring corrupt image/label: non-normalized or out of bounds coordinates [     1.0005]\n",
      "\u001b[34m\u001b[1mtrain: \u001b[0mWARNING  D:\\019.\\1.Training\\train_road\\images\\BLD00117_PS3_K3A_NIA0276_1_2.png: ignoring corrupt image/label: non-normalized or out of bounds coordinates [     1.0005]\n",
      "\u001b[34m\u001b[1mtrain: \u001b[0mWARNING  D:\\019.\\1.Training\\train_road\\images\\BLD00126_PS3_K3A_NIA0276.png: ignoring corrupt image/label: non-normalized or out of bounds coordinates [     1.0003      1.0003]\n",
      "\u001b[34m\u001b[1mtrain: \u001b[0mWARNING  D:\\019.\\1.Training\\train_road\\images\\BLD00126_PS3_K3A_NIA0276_1.png: ignoring corrupt image/label: non-normalized or out of bounds coordinates [     1.0003      1.0003]\n",
      "\u001b[34m\u001b[1mtrain: \u001b[0mWARNING  D:\\019.\\1.Training\\train_road\\images\\BLD00126_PS3_K3A_NIA0276_1_2.png: ignoring corrupt image/label: non-normalized or out of bounds coordinates [     1.0003      1.0003]\n",
      "\u001b[34m\u001b[1mtrain: \u001b[0mWARNING  D:\\019.\\1.Training\\train_road\\images\\BLD00129_PS3_K3A_NIA0276.png: ignoring corrupt image/label: non-normalized or out of bounds coordinates [     1.0002]\n",
      "\u001b[34m\u001b[1mtrain: \u001b[0mWARNING  D:\\019.\\1.Training\\train_road\\images\\BLD00129_PS3_K3A_NIA0276_1.png: ignoring corrupt image/label: non-normalized or out of bounds coordinates [     1.0002]\n",
      "\u001b[34m\u001b[1mtrain: \u001b[0mWARNING  D:\\019.\\1.Training\\train_road\\images\\BLD00129_PS3_K3A_NIA0276_1_2.png: ignoring corrupt image/label: non-normalized or out of bounds coordinates [     1.0002]\n",
      "\u001b[34m\u001b[1mtrain: \u001b[0mWARNING  D:\\019.\\1.Training\\train_road\\images\\BLD00140_PS3_K3A_NIA0276.png: ignoring corrupt image/label: non-normalized or out of bounds coordinates [     1.0003      1.0003]\n",
      "\u001b[34m\u001b[1mtrain: \u001b[0mWARNING  D:\\019.\\1.Training\\train_road\\images\\BLD00140_PS3_K3A_NIA0276_1.png: ignoring corrupt image/label: non-normalized or out of bounds coordinates [     1.0003      1.0003]\n",
      "\u001b[34m\u001b[1mtrain: \u001b[0mWARNING  D:\\019.\\1.Training\\train_road\\images\\BLD00140_PS3_K3A_NIA0276_1_2.png: ignoring corrupt image/label: non-normalized or out of bounds coordinates [     1.0003      1.0003]\n",
      "\u001b[34m\u001b[1mtrain: \u001b[0mWARNING  D:\\019.\\1.Training\\train_road\\images\\BLD00146_PS3_K3A_NIA0276.png: ignoring corrupt image/label: non-normalized or out of bounds coordinates [     1.0009]\n",
      "\u001b[34m\u001b[1mtrain: \u001b[0mWARNING  D:\\019.\\1.Training\\train_road\\images\\BLD00146_PS3_K3A_NIA0276_1.png: ignoring corrupt image/label: non-normalized or out of bounds coordinates [     1.0009]\n",
      "\u001b[34m\u001b[1mtrain: \u001b[0mWARNING  D:\\019.\\1.Training\\train_road\\images\\BLD00146_PS3_K3A_NIA0276_1_2.png: ignoring corrupt image/label: non-normalized or out of bounds coordinates [     1.0009]\n",
      "\u001b[34m\u001b[1mtrain: \u001b[0mWARNING  D:\\019.\\1.Training\\train_road\\images\\BLD00157_PS3_K3A_NIA0276.png: ignoring corrupt image/label: non-normalized or out of bounds coordinates [     1.0011      1.0006]\n",
      "\u001b[34m\u001b[1mtrain: \u001b[0mWARNING  D:\\019.\\1.Training\\train_road\\images\\BLD00157_PS3_K3A_NIA0276_1.png: ignoring corrupt image/label: non-normalized or out of bounds coordinates [     1.0011      1.0006]\n",
      "\u001b[34m\u001b[1mtrain: \u001b[0mWARNING  D:\\019.\\1.Training\\train_road\\images\\BLD00157_PS3_K3A_NIA0276_1_2.png: ignoring corrupt image/label: non-normalized or out of bounds coordinates [     1.0011      1.0006]\n",
      "\u001b[34m\u001b[1mtrain: \u001b[0mWARNING  D:\\019.\\1.Training\\train_road\\images\\BLD00159_PS3_K3A_NIA0276.png: ignoring corrupt image/label: non-normalized or out of bounds coordinates [     1.0002]\n",
      "\u001b[34m\u001b[1mtrain: \u001b[0mWARNING  D:\\019.\\1.Training\\train_road\\images\\BLD00159_PS3_K3A_NIA0276_1.png: ignoring corrupt image/label: non-normalized or out of bounds coordinates [     1.0002]\n",
      "\u001b[34m\u001b[1mtrain: \u001b[0mWARNING  D:\\019.\\1.Training\\train_road\\images\\BLD00159_PS3_K3A_NIA0276_1_2.png: ignoring corrupt image/label: non-normalized or out of bounds coordinates [     1.0002]\n",
      "\u001b[34m\u001b[1mtrain: \u001b[0mWARNING  D:\\019.\\1.Training\\train_road\\images\\BLD00190_PS3_K3A_NIA0276.png: ignoring corrupt image/label: non-normalized or out of bounds coordinates [     1.0009]\n",
      "\u001b[34m\u001b[1mtrain: \u001b[0mWARNING  D:\\019.\\1.Training\\train_road\\images\\BLD00190_PS3_K3A_NIA0276_1.png: ignoring corrupt image/label: non-normalized or out of bounds coordinates [     1.0009]\n",
      "\u001b[34m\u001b[1mtrain: \u001b[0mWARNING  D:\\019.\\1.Training\\train_road\\images\\BLD00190_PS3_K3A_NIA0276_1_2.png: ignoring corrupt image/label: non-normalized or out of bounds coordinates [     1.0009]\n",
      "\u001b[34m\u001b[1mtrain: \u001b[0mWARNING  D:\\019.\\1.Training\\train_road\\images\\BLD00192_PS3_K3A_NIA0276.png: ignoring corrupt image/label: non-normalized or out of bounds coordinates [     1.0001]\n",
      "\u001b[34m\u001b[1mtrain: \u001b[0mWARNING  D:\\019.\\1.Training\\train_road\\images\\BLD00192_PS3_K3A_NIA0276_1.png: ignoring corrupt image/label: non-normalized or out of bounds coordinates [     1.0001]\n",
      "\u001b[34m\u001b[1mtrain: \u001b[0mWARNING  D:\\019.\\1.Training\\train_road\\images\\BLD00192_PS3_K3A_NIA0276_1_2.png: ignoring corrupt image/label: non-normalized or out of bounds coordinates [     1.0001]\n",
      "\u001b[34m\u001b[1mtrain: \u001b[0mWARNING  D:\\019.\\1.Training\\train_road\\images\\BLD00200_PS3_K3A_NIA0276.png: ignoring corrupt image/label: non-normalized or out of bounds coordinates [      1.002       1.002       1.002       1.002       1.002]\n",
      "\u001b[34m\u001b[1mtrain: \u001b[0mWARNING  D:\\019.\\1.Training\\train_road\\images\\BLD00200_PS3_K3A_NIA0276_1.png: ignoring corrupt image/label: non-normalized or out of bounds coordinates [      1.002       1.002       1.002       1.002       1.002]\n",
      "\u001b[34m\u001b[1mtrain: \u001b[0mWARNING  D:\\019.\\1.Training\\train_road\\images\\BLD00200_PS3_K3A_NIA0276_1_2.png: ignoring corrupt image/label: non-normalized or out of bounds coordinates [      1.002       1.002       1.002       1.002       1.002]\n",
      "\u001b[34m\u001b[1mtrain: \u001b[0mWARNING  D:\\019.\\1.Training\\train_road\\images\\BLD00208_PS3_K3A_NIA0276.png: ignoring corrupt image/label: non-normalized or out of bounds coordinates [     1.0029]\n",
      "\u001b[34m\u001b[1mtrain: \u001b[0mWARNING  D:\\019.\\1.Training\\train_road\\images\\BLD00208_PS3_K3A_NIA0276_1.png: ignoring corrupt image/label: non-normalized or out of bounds coordinates [     1.0029]\n",
      "\u001b[34m\u001b[1mtrain: \u001b[0mWARNING  D:\\019.\\1.Training\\train_road\\images\\BLD00208_PS3_K3A_NIA0276_1_2.png: ignoring corrupt image/label: non-normalized or out of bounds coordinates [     1.0029]\n",
      "\u001b[34m\u001b[1mtrain: \u001b[0mWARNING  D:\\019.\\1.Training\\train_road\\images\\BLD00217_PS3_K3A_NIA0276.png: ignoring corrupt image/label: non-normalized or out of bounds coordinates [     1.0005      1.0005]\n",
      "\u001b[34m\u001b[1mtrain: \u001b[0mWARNING  D:\\019.\\1.Training\\train_road\\images\\BLD00217_PS3_K3A_NIA0276_1.png: ignoring corrupt image/label: non-normalized or out of bounds coordinates [     1.0005      1.0005]\n",
      "\u001b[34m\u001b[1mtrain: \u001b[0mWARNING  D:\\019.\\1.Training\\train_road\\images\\BLD00217_PS3_K3A_NIA0276_1_2.png: ignoring corrupt image/label: non-normalized or out of bounds coordinates [     1.0005      1.0005]\n",
      "\u001b[34m\u001b[1mtrain: \u001b[0mWARNING  D:\\019.\\1.Training\\train_road\\images\\BLD00232_PS3_K3A_NIA0276.png: ignoring corrupt image/label: non-normalized or out of bounds coordinates [     1.0011]\n",
      "\u001b[34m\u001b[1mtrain: \u001b[0mWARNING  D:\\019.\\1.Training\\train_road\\images\\BLD00232_PS3_K3A_NIA0276_1.png: ignoring corrupt image/label: non-normalized or out of bounds coordinates [     1.0011]\n",
      "\u001b[34m\u001b[1mtrain: \u001b[0mWARNING  D:\\019.\\1.Training\\train_road\\images\\BLD00232_PS3_K3A_NIA0276_1_2.png: ignoring corrupt image/label: non-normalized or out of bounds coordinates [     1.0011]\n",
      "\u001b[34m\u001b[1mtrain: \u001b[0mWARNING  D:\\019.\\1.Training\\train_road\\images\\BLD00236_PS3_K3A_NIA0276.png: ignoring corrupt image/label: non-normalized or out of bounds coordinates [     1.0004]\n",
      "\u001b[34m\u001b[1mtrain: \u001b[0mWARNING  D:\\019.\\1.Training\\train_road\\images\\BLD00236_PS3_K3A_NIA0276_1.png: ignoring corrupt image/label: non-normalized or out of bounds coordinates [     1.0004]\n",
      "\u001b[34m\u001b[1mtrain: \u001b[0mWARNING  D:\\019.\\1.Training\\train_road\\images\\BLD00236_PS3_K3A_NIA0276_1_2.png: ignoring corrupt image/label: non-normalized or out of bounds coordinates [     1.0004]\n",
      "\u001b[34m\u001b[1mtrain: \u001b[0mWARNING  D:\\019.\\1.Training\\train_road\\images\\BLD00245_PS3_K3A_NIA0276.png: ignoring corrupt image/label: non-normalized or out of bounds coordinates [     1.0008      1.0002]\n",
      "\u001b[34m\u001b[1mtrain: \u001b[0mWARNING  D:\\019.\\1.Training\\train_road\\images\\BLD00245_PS3_K3A_NIA0276_1.png: ignoring corrupt image/label: non-normalized or out of bounds coordinates [     1.0008      1.0002]\n",
      "\u001b[34m\u001b[1mtrain: \u001b[0mWARNING  D:\\019.\\1.Training\\train_road\\images\\BLD00245_PS3_K3A_NIA0276_1_2.png: ignoring corrupt image/label: non-normalized or out of bounds coordinates [     1.0008      1.0002]\n",
      "\u001b[34m\u001b[1mtrain: \u001b[0mWARNING  D:\\019.\\1.Training\\train_road\\images\\BLD00250_PS3_K3A_NIA0276.png: ignoring corrupt image/label: non-normalized or out of bounds coordinates [     1.0017]\n",
      "\u001b[34m\u001b[1mtrain: \u001b[0mWARNING  D:\\019.\\1.Training\\train_road\\images\\BLD00250_PS3_K3A_NIA0276_1.png: ignoring corrupt image/label: non-normalized or out of bounds coordinates [     1.0017]\n",
      "\u001b[34m\u001b[1mtrain: \u001b[0mWARNING  D:\\019.\\1.Training\\train_road\\images\\BLD00250_PS3_K3A_NIA0276_1_2.png: ignoring corrupt image/label: non-normalized or out of bounds coordinates [     1.0017]\n",
      "\u001b[34m\u001b[1mtrain: \u001b[0mWARNING  D:\\019.\\1.Training\\train_road\\images\\BLD00254_PS3_K3A_NIA0276.png: ignoring corrupt image/label: non-normalized or out of bounds coordinates [     1.0008]\n",
      "\u001b[34m\u001b[1mtrain: \u001b[0mWARNING  D:\\019.\\1.Training\\train_road\\images\\BLD00254_PS3_K3A_NIA0276_1.png: ignoring corrupt image/label: non-normalized or out of bounds coordinates [     1.0008]\n",
      "\u001b[34m\u001b[1mtrain: \u001b[0mWARNING  D:\\019.\\1.Training\\train_road\\images\\BLD00254_PS3_K3A_NIA0276_1_2.png: ignoring corrupt image/label: non-normalized or out of bounds coordinates [     1.0008]\n",
      "\u001b[34m\u001b[1mtrain: \u001b[0mWARNING  D:\\019.\\1.Training\\train_road\\images\\BLD00258_PS3_K3A_NIA0276.png: ignoring corrupt image/label: non-normalized or out of bounds coordinates [     1.0005]\n",
      "\u001b[34m\u001b[1mtrain: \u001b[0mWARNING  D:\\019.\\1.Training\\train_road\\images\\BLD00258_PS3_K3A_NIA0276_1.png: ignoring corrupt image/label: non-normalized or out of bounds coordinates [     1.0005]\n",
      "\u001b[34m\u001b[1mtrain: \u001b[0mWARNING  D:\\019.\\1.Training\\train_road\\images\\BLD00258_PS3_K3A_NIA0276_1_2.png: ignoring corrupt image/label: non-normalized or out of bounds coordinates [     1.0005]\n",
      "\u001b[34m\u001b[1mtrain: \u001b[0mWARNING  D:\\019.\\1.Training\\train_road\\images\\BLD00317_PS3_K3A_NIA0276.png: ignoring corrupt image/label: non-normalized or out of bounds coordinates [     1.0007]\n",
      "\u001b[34m\u001b[1mtrain: \u001b[0mWARNING  D:\\019.\\1.Training\\train_road\\images\\BLD00317_PS3_K3A_NIA0276_1.png: ignoring corrupt image/label: non-normalized or out of bounds coordinates [     1.0007]\n",
      "\u001b[34m\u001b[1mtrain: \u001b[0mWARNING  D:\\019.\\1.Training\\train_road\\images\\BLD00317_PS3_K3A_NIA0276_1_2.png: ignoring corrupt image/label: non-normalized or out of bounds coordinates [     1.0007]\n",
      "\u001b[34m\u001b[1mtrain: \u001b[0mWARNING  D:\\019.\\1.Training\\train_road\\images\\BLD00321_PS3_K3A_NIA0276.png: ignoring corrupt image/label: non-normalized or out of bounds coordinates [     1.0004]\n",
      "\u001b[34m\u001b[1mtrain: \u001b[0mWARNING  D:\\019.\\1.Training\\train_road\\images\\BLD00321_PS3_K3A_NIA0276_1.png: ignoring corrupt image/label: non-normalized or out of bounds coordinates [     1.0004]\n",
      "\u001b[34m\u001b[1mtrain: \u001b[0mWARNING  D:\\019.\\1.Training\\train_road\\images\\BLD00321_PS3_K3A_NIA0276_1_2.png: ignoring corrupt image/label: non-normalized or out of bounds coordinates [     1.0004]\n",
      "\u001b[34m\u001b[1mtrain: \u001b[0mWARNING  D:\\019.\\1.Training\\train_road\\images\\BLD00324_PS3_K3A_NIA0276.png: ignoring corrupt image/label: non-normalized or out of bounds coordinates [     1.0015]\n",
      "\u001b[34m\u001b[1mtrain: \u001b[0mWARNING  D:\\019.\\1.Training\\train_road\\images\\BLD00324_PS3_K3A_NIA0276_1.png: ignoring corrupt image/label: non-normalized or out of bounds coordinates [     1.0015]\n",
      "\u001b[34m\u001b[1mtrain: \u001b[0mWARNING  D:\\019.\\1.Training\\train_road\\images\\BLD00324_PS3_K3A_NIA0276_1_2.png: ignoring corrupt image/label: non-normalized or out of bounds coordinates [     1.0015]\n",
      "\u001b[34m\u001b[1mtrain: \u001b[0mWARNING  D:\\019.\\1.Training\\train_road\\images\\BLD00351_PS3_K3A_NIA0276.png: ignoring corrupt image/label: non-normalized or out of bounds coordinates [     1.0005]\n",
      "\u001b[34m\u001b[1mtrain: \u001b[0mWARNING  D:\\019.\\1.Training\\train_road\\images\\BLD00351_PS3_K3A_NIA0276_1.png: ignoring corrupt image/label: non-normalized or out of bounds coordinates [     1.0005]\n",
      "\u001b[34m\u001b[1mtrain: \u001b[0mWARNING  D:\\019.\\1.Training\\train_road\\images\\BLD00351_PS3_K3A_NIA0276_1_2.png: ignoring corrupt image/label: non-normalized or out of bounds coordinates [     1.0005]\n",
      "\u001b[34m\u001b[1mtrain: \u001b[0mWARNING  D:\\019.\\1.Training\\train_road\\images\\BLD00558_PS3_K3A_NIA0276.png: ignoring corrupt image/label: non-normalized or out of bounds coordinates [     1.0008]\n",
      "\u001b[34m\u001b[1mtrain: \u001b[0mWARNING  D:\\019.\\1.Training\\train_road\\images\\BLD00558_PS3_K3A_NIA0276_1.png: ignoring corrupt image/label: non-normalized or out of bounds coordinates [     1.0008]\n",
      "\u001b[34m\u001b[1mtrain: \u001b[0mWARNING  D:\\019.\\1.Training\\train_road\\images\\BLD00558_PS3_K3A_NIA0276_1_2.png: ignoring corrupt image/label: non-normalized or out of bounds coordinates [     1.0008]\n",
      "\u001b[34m\u001b[1mtrain: \u001b[0mWARNING  D:\\019.\\1.Training\\train_road\\images\\BLD00559_PS3_K3A_NIA0276.png: ignoring corrupt image/label: non-normalized or out of bounds coordinates [     1.0003]\n",
      "\u001b[34m\u001b[1mtrain: \u001b[0mWARNING  D:\\019.\\1.Training\\train_road\\images\\BLD00559_PS3_K3A_NIA0276_1.png: ignoring corrupt image/label: non-normalized or out of bounds coordinates [     1.0003]\n",
      "\u001b[34m\u001b[1mtrain: \u001b[0mWARNING  D:\\019.\\1.Training\\train_road\\images\\BLD00559_PS3_K3A_NIA0276_1_2.png: ignoring corrupt image/label: non-normalized or out of bounds coordinates [     1.0003]\n",
      "\u001b[34m\u001b[1mtrain: \u001b[0mWARNING  D:\\019.\\1.Training\\train_road\\images\\BLD00593_PS3_K3A_NIA0277.png: ignoring corrupt image/label: non-normalized or out of bounds coordinates [      1.002       1.002]\n",
      "\u001b[34m\u001b[1mtrain: \u001b[0mWARNING  D:\\019.\\1.Training\\train_road\\images\\BLD00593_PS3_K3A_NIA0277_1.png: ignoring corrupt image/label: non-normalized or out of bounds coordinates [      1.002       1.002]\n",
      "\u001b[34m\u001b[1mtrain: \u001b[0mWARNING  D:\\019.\\1.Training\\train_road\\images\\BLD00593_PS3_K3A_NIA0277_1_2.png: ignoring corrupt image/label: non-normalized or out of bounds coordinates [      1.002       1.002]\n",
      "\u001b[34m\u001b[1mtrain: \u001b[0mWARNING  D:\\019.\\1.Training\\train_road\\images\\BLD00602_PS3_K3A_NIA0277.png: ignoring corrupt image/label: non-normalized or out of bounds coordinates [      1.003]\n",
      "\u001b[34m\u001b[1mtrain: \u001b[0mWARNING  D:\\019.\\1.Training\\train_road\\images\\BLD00602_PS3_K3A_NIA0277_1.png: ignoring corrupt image/label: non-normalized or out of bounds coordinates [      1.003]\n",
      "\u001b[34m\u001b[1mtrain: \u001b[0mWARNING  D:\\019.\\1.Training\\train_road\\images\\BLD00602_PS3_K3A_NIA0277_1_2.png: ignoring corrupt image/label: non-normalized or out of bounds coordinates [      1.003]\n",
      "\u001b[34m\u001b[1mtrain: \u001b[0mWARNING  D:\\019.\\1.Training\\train_road\\images\\BLD00650_PS3_K3A_NIA0277.png: ignoring corrupt image/label: non-normalized or out of bounds coordinates [     1.0005      1.0005]\n",
      "\u001b[34m\u001b[1mtrain: \u001b[0mWARNING  D:\\019.\\1.Training\\train_road\\images\\BLD00650_PS3_K3A_NIA0277_1.png: ignoring corrupt image/label: non-normalized or out of bounds coordinates [     1.0005      1.0005]\n",
      "\u001b[34m\u001b[1mtrain: \u001b[0mWARNING  D:\\019.\\1.Training\\train_road\\images\\BLD00650_PS3_K3A_NIA0277_1_2.png: ignoring corrupt image/label: non-normalized or out of bounds coordinates [     1.0005      1.0005]\n",
      "\u001b[34m\u001b[1mtrain: \u001b[0mWARNING  D:\\019.\\1.Training\\train_road\\images\\BLD00694_PS3_K3A_NIA0277.png: ignoring corrupt image/label: non-normalized or out of bounds coordinates [     1.0006      1.0021]\n",
      "\u001b[34m\u001b[1mtrain: \u001b[0mWARNING  D:\\019.\\1.Training\\train_road\\images\\BLD00694_PS3_K3A_NIA0277_1.png: ignoring corrupt image/label: non-normalized or out of bounds coordinates [     1.0006      1.0021]\n",
      "\u001b[34m\u001b[1mtrain: \u001b[0mWARNING  D:\\019.\\1.Training\\train_road\\images\\BLD00694_PS3_K3A_NIA0277_1_2.png: ignoring corrupt image/label: non-normalized or out of bounds coordinates [     1.0006      1.0021]\n",
      "\u001b[34m\u001b[1mtrain: \u001b[0mWARNING  D:\\019.\\1.Training\\train_road\\images\\BLD00706_PS3_K3A_NIA0277.png: ignoring corrupt image/label: non-normalized or out of bounds coordinates [     1.0016]\n",
      "\u001b[34m\u001b[1mtrain: \u001b[0mWARNING  D:\\019.\\1.Training\\train_road\\images\\BLD00706_PS3_K3A_NIA0277_1.png: ignoring corrupt image/label: non-normalized or out of bounds coordinates [     1.0016]\n",
      "\u001b[34m\u001b[1mtrain: \u001b[0mWARNING  D:\\019.\\1.Training\\train_road\\images\\BLD00706_PS3_K3A_NIA0277_1_2.png: ignoring corrupt image/label: non-normalized or out of bounds coordinates [     1.0016]\n",
      "\u001b[34m\u001b[1mtrain: \u001b[0mWARNING  D:\\019.\\1.Training\\train_road\\images\\BLD00729_PS3_K3A_NIA0277.png: ignoring corrupt image/label: non-normalized or out of bounds coordinates [     1.0006      1.0005]\n",
      "\u001b[34m\u001b[1mtrain: \u001b[0mWARNING  D:\\019.\\1.Training\\train_road\\images\\BLD00729_PS3_K3A_NIA0277_1.png: ignoring corrupt image/label: non-normalized or out of bounds coordinates [     1.0006      1.0005]\n",
      "\u001b[34m\u001b[1mtrain: \u001b[0mWARNING  D:\\019.\\1.Training\\train_road\\images\\BLD00729_PS3_K3A_NIA0277_1_2.png: ignoring corrupt image/label: non-normalized or out of bounds coordinates [     1.0006      1.0005]\n",
      "\u001b[34m\u001b[1mtrain: \u001b[0mWARNING  D:\\019.\\1.Training\\train_road\\images\\BLD00741_PS3_K3A_NIA0277.png: ignoring corrupt image/label: non-normalized or out of bounds coordinates [     1.0009      1.0002]\n",
      "\u001b[34m\u001b[1mtrain: \u001b[0mWARNING  D:\\019.\\1.Training\\train_road\\images\\BLD00741_PS3_K3A_NIA0277_1.png: ignoring corrupt image/label: non-normalized or out of bounds coordinates [     1.0009      1.0002]\n",
      "\u001b[34m\u001b[1mtrain: \u001b[0mWARNING  D:\\019.\\1.Training\\train_road\\images\\BLD00741_PS3_K3A_NIA0277_1_2.png: ignoring corrupt image/label: non-normalized or out of bounds coordinates [     1.0009      1.0002]\n",
      "\u001b[34m\u001b[1mtrain: \u001b[0mWARNING  D:\\019.\\1.Training\\train_road\\images\\BLD00798_PS3_K3A_NIA0277.png: ignoring corrupt image/label: non-normalized or out of bounds coordinates [     1.0005]\n",
      "\u001b[34m\u001b[1mtrain: \u001b[0mWARNING  D:\\019.\\1.Training\\train_road\\images\\BLD00798_PS3_K3A_NIA0277_1.png: ignoring corrupt image/label: non-normalized or out of bounds coordinates [     1.0005]\n",
      "\u001b[34m\u001b[1mtrain: \u001b[0mWARNING  D:\\019.\\1.Training\\train_road\\images\\BLD00798_PS3_K3A_NIA0277_1_2.png: ignoring corrupt image/label: non-normalized or out of bounds coordinates [     1.0005]\n",
      "\u001b[34m\u001b[1mtrain: \u001b[0mWARNING  D:\\019.\\1.Training\\train_road\\images\\BLD00808_PS3_K3A_NIA0277.png: ignoring corrupt image/label: non-normalized or out of bounds coordinates [      1.001]\n",
      "\u001b[34m\u001b[1mtrain: \u001b[0mWARNING  D:\\019.\\1.Training\\train_road\\images\\BLD00808_PS3_K3A_NIA0277_1.png: ignoring corrupt image/label: non-normalized or out of bounds coordinates [      1.001]\n",
      "\u001b[34m\u001b[1mtrain: \u001b[0mWARNING  D:\\019.\\1.Training\\train_road\\images\\BLD00808_PS3_K3A_NIA0277_1_2.png: ignoring corrupt image/label: non-normalized or out of bounds coordinates [      1.001]\n",
      "\u001b[34m\u001b[1mtrain: \u001b[0mWARNING  D:\\019.\\1.Training\\train_road\\images\\BLD00887_PS3_K3A_NIA0277.png: ignoring corrupt image/label: non-normalized or out of bounds coordinates [      1.001]\n",
      "\u001b[34m\u001b[1mtrain: \u001b[0mWARNING  D:\\019.\\1.Training\\train_road\\images\\BLD00887_PS3_K3A_NIA0277_1.png: ignoring corrupt image/label: non-normalized or out of bounds coordinates [      1.001]\n",
      "\u001b[34m\u001b[1mtrain: \u001b[0mWARNING  D:\\019.\\1.Training\\train_road\\images\\BLD00887_PS3_K3A_NIA0277_1_2.png: ignoring corrupt image/label: non-normalized or out of bounds coordinates [      1.001]\n",
      "\u001b[34m\u001b[1mtrain: \u001b[0mWARNING  D:\\019.\\1.Training\\train_road\\images\\BLD00929_PS3_K3A_NIA0277.png: ignoring corrupt image/label: non-normalized or out of bounds coordinates [     1.0006]\n",
      "\u001b[34m\u001b[1mtrain: \u001b[0mWARNING  D:\\019.\\1.Training\\train_road\\images\\BLD00929_PS3_K3A_NIA0277_1.png: ignoring corrupt image/label: non-normalized or out of bounds coordinates [     1.0006]\n",
      "\u001b[34m\u001b[1mtrain: \u001b[0mWARNING  D:\\019.\\1.Training\\train_road\\images\\BLD00929_PS3_K3A_NIA0277_1_2.png: ignoring corrupt image/label: non-normalized or out of bounds coordinates [     1.0006]\n",
      "\u001b[34m\u001b[1mtrain: \u001b[0mWARNING  D:\\019.\\1.Training\\train_road\\images\\BLD00985_PS3_K3A_NIA0277.png: ignoring corrupt image/label: non-normalized or out of bounds coordinates [     1.0008]\n",
      "\u001b[34m\u001b[1mtrain: \u001b[0mWARNING  D:\\019.\\1.Training\\train_road\\images\\BLD00985_PS3_K3A_NIA0277_1.png: ignoring corrupt image/label: non-normalized or out of bounds coordinates [     1.0008]\n",
      "\u001b[34m\u001b[1mtrain: \u001b[0mWARNING  D:\\019.\\1.Training\\train_road\\images\\BLD00985_PS3_K3A_NIA0277_1_2.png: ignoring corrupt image/label: non-normalized or out of bounds coordinates [     1.0008]\n",
      "\u001b[34m\u001b[1mtrain: \u001b[0mWARNING  D:\\019.\\1.Training\\train_road\\images\\BLD00989_PS3_K3A_NIA0277.png: ignoring corrupt image/label: non-normalized or out of bounds coordinates [     1.0006]\n",
      "\u001b[34m\u001b[1mtrain: \u001b[0mWARNING  D:\\019.\\1.Training\\train_road\\images\\BLD00989_PS3_K3A_NIA0277_1.png: ignoring corrupt image/label: non-normalized or out of bounds coordinates [     1.0006]\n",
      "\u001b[34m\u001b[1mtrain: \u001b[0mWARNING  D:\\019.\\1.Training\\train_road\\images\\BLD00989_PS3_K3A_NIA0277_1_2.png: ignoring corrupt image/label: non-normalized or out of bounds coordinates [     1.0006]\n",
      "\u001b[34m\u001b[1mtrain: \u001b[0mWARNING  D:\\019.\\1.Training\\train_road\\images\\BLD01032_PS3_K3A_NIA0277.png: ignoring corrupt image/label: non-normalized or out of bounds coordinates [     1.0022]\n",
      "\u001b[34m\u001b[1mtrain: \u001b[0mWARNING  D:\\019.\\1.Training\\train_road\\images\\BLD01032_PS3_K3A_NIA0277_1.png: ignoring corrupt image/label: non-normalized or out of bounds coordinates [     1.0022]\n",
      "\u001b[34m\u001b[1mtrain: \u001b[0mWARNING  D:\\019.\\1.Training\\train_road\\images\\BLD01032_PS3_K3A_NIA0277_1_2.png: ignoring corrupt image/label: non-normalized or out of bounds coordinates [     1.0022]\n",
      "\u001b[34m\u001b[1mtrain: \u001b[0mWARNING  D:\\019.\\1.Training\\train_road\\images\\BLD01037_PS3_K3A_NIA0277.png: ignoring corrupt image/label: non-normalized or out of bounds coordinates [     1.0008]\n",
      "\u001b[34m\u001b[1mtrain: \u001b[0mWARNING  D:\\019.\\1.Training\\train_road\\images\\BLD01037_PS3_K3A_NIA0277_1.png: ignoring corrupt image/label: non-normalized or out of bounds coordinates [     1.0008]\n",
      "\u001b[34m\u001b[1mtrain: \u001b[0mWARNING  D:\\019.\\1.Training\\train_road\\images\\BLD01037_PS3_K3A_NIA0277_1_2.png: ignoring corrupt image/label: non-normalized or out of bounds coordinates [     1.0008]\n",
      "\u001b[34m\u001b[1mtrain: \u001b[0mWARNING  D:\\019.\\1.Training\\train_road\\images\\BLD01040_PS3_K3A_NIA0277.png: ignoring corrupt image/label: non-normalized or out of bounds coordinates [     1.0006]\n",
      "\u001b[34m\u001b[1mtrain: \u001b[0mWARNING  D:\\019.\\1.Training\\train_road\\images\\BLD01040_PS3_K3A_NIA0277_1.png: ignoring corrupt image/label: non-normalized or out of bounds coordinates [     1.0006]\n",
      "\u001b[34m\u001b[1mtrain: \u001b[0mWARNING  D:\\019.\\1.Training\\train_road\\images\\BLD01040_PS3_K3A_NIA0277_1_2.png: ignoring corrupt image/label: non-normalized or out of bounds coordinates [     1.0006]\n",
      "\u001b[34m\u001b[1mtrain: \u001b[0mWARNING  D:\\019.\\1.Training\\train_road\\images\\BLD01043_PS3_K3A_NIA0277.png: ignoring corrupt image/label: non-normalized or out of bounds coordinates [      1.002]\n",
      "\u001b[34m\u001b[1mtrain: \u001b[0mWARNING  D:\\019.\\1.Training\\train_road\\images\\BLD01043_PS3_K3A_NIA0277_1.png: ignoring corrupt image/label: non-normalized or out of bounds coordinates [      1.002]\n",
      "\u001b[34m\u001b[1mtrain: \u001b[0mWARNING  D:\\019.\\1.Training\\train_road\\images\\BLD01043_PS3_K3A_NIA0277_1_2.png: ignoring corrupt image/label: non-normalized or out of bounds coordinates [      1.002]\n",
      "\u001b[34m\u001b[1mtrain: \u001b[0mWARNING  D:\\019.\\1.Training\\train_road\\images\\BLD01068_PS3_K3A_NIA0277.png: ignoring corrupt image/label: non-normalized or out of bounds coordinates [     1.0011]\n",
      "\u001b[34m\u001b[1mtrain: \u001b[0mWARNING  D:\\019.\\1.Training\\train_road\\images\\BLD01068_PS3_K3A_NIA0277_1.png: ignoring corrupt image/label: non-normalized or out of bounds coordinates [     1.0011]\n",
      "\u001b[34m\u001b[1mtrain: \u001b[0mWARNING  D:\\019.\\1.Training\\train_road\\images\\BLD01068_PS3_K3A_NIA0277_1_2.png: ignoring corrupt image/label: non-normalized or out of bounds coordinates [     1.0011]\n",
      "\u001b[34m\u001b[1mtrain: \u001b[0mWARNING  D:\\019.\\1.Training\\train_road\\images\\BLD01077_PS3_K3A_NIA0277.png: ignoring corrupt image/label: non-normalized or out of bounds coordinates [     1.0002]\n",
      "\u001b[34m\u001b[1mtrain: \u001b[0mWARNING  D:\\019.\\1.Training\\train_road\\images\\BLD01077_PS3_K3A_NIA0277_1.png: ignoring corrupt image/label: non-normalized or out of bounds coordinates [     1.0002]\n",
      "\u001b[34m\u001b[1mtrain: \u001b[0mWARNING  D:\\019.\\1.Training\\train_road\\images\\BLD01077_PS3_K3A_NIA0277_1_2.png: ignoring corrupt image/label: non-normalized or out of bounds coordinates [     1.0002]\n",
      "\u001b[34m\u001b[1mtrain: \u001b[0mWARNING  D:\\019.\\1.Training\\train_road\\images\\BLD01080_PS3_K3A_NIA0277.png: ignoring corrupt image/label: non-normalized or out of bounds coordinates [     1.0037      1.0014]\n",
      "\u001b[34m\u001b[1mtrain: \u001b[0mWARNING  D:\\019.\\1.Training\\train_road\\images\\BLD01080_PS3_K3A_NIA0277_1.png: ignoring corrupt image/label: non-normalized or out of bounds coordinates [     1.0037      1.0014]\n",
      "\u001b[34m\u001b[1mtrain: \u001b[0mWARNING  D:\\019.\\1.Training\\train_road\\images\\BLD01080_PS3_K3A_NIA0277_1_2.png: ignoring corrupt image/label: non-normalized or out of bounds coordinates [     1.0037      1.0014]\n",
      "\u001b[34m\u001b[1mtrain: \u001b[0mWARNING  D:\\019.\\1.Training\\train_road\\images\\BLD01086_PS3_K3A_NIA0277.png: ignoring corrupt image/label: non-normalized or out of bounds coordinates [     1.0003]\n",
      "\u001b[34m\u001b[1mtrain: \u001b[0mWARNING  D:\\019.\\1.Training\\train_road\\images\\BLD01086_PS3_K3A_NIA0277_1.png: ignoring corrupt image/label: non-normalized or out of bounds coordinates [     1.0003]\n",
      "\u001b[34m\u001b[1mtrain: \u001b[0mWARNING  D:\\019.\\1.Training\\train_road\\images\\BLD01086_PS3_K3A_NIA0277_1_2.png: ignoring corrupt image/label: non-normalized or out of bounds coordinates [     1.0003]\n",
      "\u001b[34m\u001b[1mtrain: \u001b[0mWARNING  D:\\019.\\1.Training\\train_road\\images\\BLD01101_PS3_K3A_NIA0277.png: ignoring corrupt image/label: non-normalized or out of bounds coordinates [     1.0013      1.0038]\n",
      "\u001b[34m\u001b[1mtrain: \u001b[0mWARNING  D:\\019.\\1.Training\\train_road\\images\\BLD01101_PS3_K3A_NIA0277_1.png: ignoring corrupt image/label: non-normalized or out of bounds coordinates [     1.0013      1.0038]\n",
      "\u001b[34m\u001b[1mtrain: \u001b[0mWARNING  D:\\019.\\1.Training\\train_road\\images\\BLD01101_PS3_K3A_NIA0277_1_2.png: ignoring corrupt image/label: non-normalized or out of bounds coordinates [     1.0013      1.0038]\n",
      "\u001b[34m\u001b[1mtrain: \u001b[0mWARNING  D:\\019.\\1.Training\\train_road\\images\\BLD01110_PS3_K3A_NIA0277.png: ignoring corrupt image/label: non-normalized or out of bounds coordinates [     1.0001]\n",
      "\u001b[34m\u001b[1mtrain: \u001b[0mWARNING  D:\\019.\\1.Training\\train_road\\images\\BLD01110_PS3_K3A_NIA0277_1.png: ignoring corrupt image/label: non-normalized or out of bounds coordinates [     1.0001]\n",
      "\u001b[34m\u001b[1mtrain: \u001b[0mWARNING  D:\\019.\\1.Training\\train_road\\images\\BLD01110_PS3_K3A_NIA0277_1_2.png: ignoring corrupt image/label: non-normalized or out of bounds coordinates [     1.0001]\n",
      "\u001b[34m\u001b[1mtrain: \u001b[0mWARNING  D:\\019.\\1.Training\\train_road\\images\\BLD01123_PS3_K3A_NIA0277.png: ignoring corrupt image/label: non-normalized or out of bounds coordinates [      1.001      1.0039]\n",
      "\u001b[34m\u001b[1mtrain: \u001b[0mWARNING  D:\\019.\\1.Training\\train_road\\images\\BLD01123_PS3_K3A_NIA0277_1.png: ignoring corrupt image/label: non-normalized or out of bounds coordinates [      1.001      1.0039]\n",
      "\u001b[34m\u001b[1mtrain: \u001b[0mWARNING  D:\\019.\\1.Training\\train_road\\images\\BLD01123_PS3_K3A_NIA0277_1_2.png: ignoring corrupt image/label: non-normalized or out of bounds coordinates [      1.001      1.0039]\n",
      "\u001b[34m\u001b[1mtrain: \u001b[0mWARNING  D:\\019.\\1.Training\\train_road\\images\\BLD01138_PS3_K3A_NIA0277.png: ignoring corrupt image/label: non-normalized or out of bounds coordinates [     1.0005]\n",
      "\u001b[34m\u001b[1mtrain: \u001b[0mWARNING  D:\\019.\\1.Training\\train_road\\images\\BLD01138_PS3_K3A_NIA0277_1.png: ignoring corrupt image/label: non-normalized or out of bounds coordinates [     1.0005]\n",
      "\u001b[34m\u001b[1mtrain: \u001b[0mWARNING  D:\\019.\\1.Training\\train_road\\images\\BLD01138_PS3_K3A_NIA0277_1_2.png: ignoring corrupt image/label: non-normalized or out of bounds coordinates [     1.0005]\n",
      "\u001b[34m\u001b[1mtrain: \u001b[0mWARNING  D:\\019.\\1.Training\\train_road\\images\\BLD01283_PS3_K3A_NIA0373.png: ignoring corrupt image/label: non-normalized or out of bounds coordinates [     1.0005]\n",
      "\u001b[34m\u001b[1mtrain: \u001b[0mWARNING  D:\\019.\\1.Training\\train_road\\images\\BLD01283_PS3_K3A_NIA0373_1.png: ignoring corrupt image/label: non-normalized or out of bounds coordinates [     1.0005]\n",
      "\u001b[34m\u001b[1mtrain: \u001b[0mWARNING  D:\\019.\\1.Training\\train_road\\images\\BLD01283_PS3_K3A_NIA0373_1_2.png: ignoring corrupt image/label: non-normalized or out of bounds coordinates [     1.0005]\n",
      "\u001b[34m\u001b[1mtrain: \u001b[0mWARNING  D:\\019.\\1.Training\\train_road\\images\\BLD01294_PS3_K3A_NIA0373.png: ignoring corrupt image/label: non-normalized or out of bounds coordinates [     1.0002]\n",
      "\u001b[34m\u001b[1mtrain: \u001b[0mWARNING  D:\\019.\\1.Training\\train_road\\images\\BLD01294_PS3_K3A_NIA0373_1.png: ignoring corrupt image/label: non-normalized or out of bounds coordinates [     1.0002]\n",
      "\u001b[34m\u001b[1mtrain: \u001b[0mWARNING  D:\\019.\\1.Training\\train_road\\images\\BLD01294_PS3_K3A_NIA0373_1_2.png: ignoring corrupt image/label: non-normalized or out of bounds coordinates [     1.0002]\n",
      "\u001b[34m\u001b[1mtrain: \u001b[0mWARNING  D:\\019.\\1.Training\\train_road\\images\\BLD01337_PS3_K3A_NIA0373.png: ignoring corrupt image/label: non-normalized or out of bounds coordinates [     1.0004       1.002      1.0031]\n",
      "\u001b[34m\u001b[1mtrain: \u001b[0mWARNING  D:\\019.\\1.Training\\train_road\\images\\BLD01337_PS3_K3A_NIA0373_1.png: ignoring corrupt image/label: non-normalized or out of bounds coordinates [     1.0004       1.002      1.0031]\n",
      "\u001b[34m\u001b[1mtrain: \u001b[0mWARNING  D:\\019.\\1.Training\\train_road\\images\\BLD01337_PS3_K3A_NIA0373_1_2.png: ignoring corrupt image/label: non-normalized or out of bounds coordinates [     1.0004       1.002      1.0031]\n",
      "\u001b[34m\u001b[1mtrain: \u001b[0mWARNING  D:\\019.\\1.Training\\train_road\\images\\BLD01410_PS3_K3A_NIA0373.png: ignoring corrupt image/label: non-normalized or out of bounds coordinates [     1.0015]\n",
      "\u001b[34m\u001b[1mtrain: \u001b[0mWARNING  D:\\019.\\1.Training\\train_road\\images\\BLD01410_PS3_K3A_NIA0373_1.png: ignoring corrupt image/label: non-normalized or out of bounds coordinates [     1.0015]\n",
      "\u001b[34m\u001b[1mtrain: \u001b[0mWARNING  D:\\019.\\1.Training\\train_road\\images\\BLD01410_PS3_K3A_NIA0373_1_2.png: ignoring corrupt image/label: non-normalized or out of bounds coordinates [     1.0015]\n",
      "\u001b[34m\u001b[1mtrain: \u001b[0mWARNING  D:\\019.\\1.Training\\train_road\\images\\BLD01436_PS3_K3A_NIA0373.png: ignoring corrupt image/label: non-normalized or out of bounds coordinates [     1.0017      1.0014]\n",
      "\u001b[34m\u001b[1mtrain: \u001b[0mWARNING  D:\\019.\\1.Training\\train_road\\images\\BLD01436_PS3_K3A_NIA0373_1.png: ignoring corrupt image/label: non-normalized or out of bounds coordinates [     1.0017      1.0014]\n",
      "\u001b[34m\u001b[1mtrain: \u001b[0mWARNING  D:\\019.\\1.Training\\train_road\\images\\BLD01436_PS3_K3A_NIA0373_1_2.png: ignoring corrupt image/label: non-normalized or out of bounds coordinates [     1.0017      1.0014]\n",
      "\u001b[34m\u001b[1mtrain: \u001b[0mWARNING  D:\\019.\\1.Training\\train_road\\images\\BLD01481_PS3_K3A_NIA0373.png: ignoring corrupt image/label: non-normalized or out of bounds coordinates [     1.0007]\n",
      "\u001b[34m\u001b[1mtrain: \u001b[0mWARNING  D:\\019.\\1.Training\\train_road\\images\\BLD01481_PS3_K3A_NIA0373_1.png: ignoring corrupt image/label: non-normalized or out of bounds coordinates [     1.0007]\n",
      "\u001b[34m\u001b[1mtrain: \u001b[0mWARNING  D:\\019.\\1.Training\\train_road\\images\\BLD01481_PS3_K3A_NIA0373_1_2.png: ignoring corrupt image/label: non-normalized or out of bounds coordinates [     1.0007]\n",
      "\u001b[34m\u001b[1mtrain: \u001b[0mWARNING  D:\\019.\\1.Training\\train_road\\images\\BLD01549_PS3_K3A_NIA0373.png: ignoring corrupt image/label: non-normalized or out of bounds coordinates [     1.0018]\n",
      "\u001b[34m\u001b[1mtrain: \u001b[0mWARNING  D:\\019.\\1.Training\\train_road\\images\\BLD01549_PS3_K3A_NIA0373_1.png: ignoring corrupt image/label: non-normalized or out of bounds coordinates [     1.0018]\n",
      "\u001b[34m\u001b[1mtrain: \u001b[0mWARNING  D:\\019.\\1.Training\\train_road\\images\\BLD01549_PS3_K3A_NIA0373_1_2.png: ignoring corrupt image/label: non-normalized or out of bounds coordinates [     1.0018]\n",
      "\u001b[34m\u001b[1mtrain: \u001b[0mWARNING  D:\\019.\\1.Training\\train_road\\images\\BLD01578_PS3_K3A_NIA0373.png: ignoring corrupt image/label: non-normalized or out of bounds coordinates [     1.0003]\n",
      "\u001b[34m\u001b[1mtrain: \u001b[0mWARNING  D:\\019.\\1.Training\\train_road\\images\\BLD01578_PS3_K3A_NIA0373_1.png: ignoring corrupt image/label: non-normalized or out of bounds coordinates [     1.0003]\n",
      "\u001b[34m\u001b[1mtrain: \u001b[0mWARNING  D:\\019.\\1.Training\\train_road\\images\\BLD01578_PS3_K3A_NIA0373_1_2.png: ignoring corrupt image/label: non-normalized or out of bounds coordinates [     1.0003]\n",
      "\u001b[34m\u001b[1mtrain: \u001b[0mWARNING  D:\\019.\\1.Training\\train_road\\images\\BLD01704_PS3_K3A_NIA0373.png: ignoring corrupt image/label: non-normalized or out of bounds coordinates [     1.0004      1.0004]\n",
      "\u001b[34m\u001b[1mtrain: \u001b[0mWARNING  D:\\019.\\1.Training\\train_road\\images\\BLD01704_PS3_K3A_NIA0373_1.png: ignoring corrupt image/label: non-normalized or out of bounds coordinates [     1.0004      1.0004]\n",
      "\u001b[34m\u001b[1mtrain: \u001b[0mWARNING  D:\\019.\\1.Training\\train_road\\images\\BLD01704_PS3_K3A_NIA0373_1_2.png: ignoring corrupt image/label: non-normalized or out of bounds coordinates [     1.0004      1.0004]\n",
      "\u001b[34m\u001b[1mtrain: \u001b[0mWARNING  D:\\019.\\1.Training\\train_road\\images\\BLD01708_PS3_K3A_NIA0373.png: ignoring corrupt image/label: non-normalized or out of bounds coordinates [     1.0025]\n",
      "\u001b[34m\u001b[1mtrain: \u001b[0mWARNING  D:\\019.\\1.Training\\train_road\\images\\BLD01708_PS3_K3A_NIA0373_1.png: ignoring corrupt image/label: non-normalized or out of bounds coordinates [     1.0025]\n",
      "\u001b[34m\u001b[1mtrain: \u001b[0mWARNING  D:\\019.\\1.Training\\train_road\\images\\BLD01708_PS3_K3A_NIA0373_1_2.png: ignoring corrupt image/label: non-normalized or out of bounds coordinates [     1.0025]\n",
      "\u001b[34m\u001b[1mtrain: \u001b[0mWARNING  D:\\019.\\1.Training\\train_road\\images\\BLD01709_PS3_K3A_NIA0373.png: ignoring corrupt image/label: non-normalized or out of bounds coordinates [     1.0022      1.0013]\n",
      "\u001b[34m\u001b[1mtrain: \u001b[0mWARNING  D:\\019.\\1.Training\\train_road\\images\\BLD01709_PS3_K3A_NIA0373_1.png: ignoring corrupt image/label: non-normalized or out of bounds coordinates [     1.0022      1.0013]\n",
      "\u001b[34m\u001b[1mtrain: \u001b[0mWARNING  D:\\019.\\1.Training\\train_road\\images\\BLD01709_PS3_K3A_NIA0373_1_2.png: ignoring corrupt image/label: non-normalized or out of bounds coordinates [     1.0022      1.0013]\n",
      "\u001b[34m\u001b[1mtrain: \u001b[0mWARNING  D:\\019.\\1.Training\\train_road\\images\\BLD01761_PS3_K3A_NIA0373.png: ignoring corrupt image/label: non-normalized or out of bounds coordinates [     1.0004]\n",
      "\u001b[34m\u001b[1mtrain: \u001b[0mWARNING  D:\\019.\\1.Training\\train_road\\images\\BLD01761_PS3_K3A_NIA0373_1.png: ignoring corrupt image/label: non-normalized or out of bounds coordinates [     1.0004]\n",
      "\u001b[34m\u001b[1mtrain: \u001b[0mWARNING  D:\\019.\\1.Training\\train_road\\images\\BLD01761_PS3_K3A_NIA0373_1_2.png: ignoring corrupt image/label: non-normalized or out of bounds coordinates [     1.0004]\n",
      "\u001b[34m\u001b[1mtrain: \u001b[0mWARNING  D:\\019.\\1.Training\\train_road\\images\\BLD01861_PS3_K3A_NIA0374.png: ignoring corrupt image/label: non-normalized or out of bounds coordinates [      1.002]\n",
      "\u001b[34m\u001b[1mtrain: \u001b[0mWARNING  D:\\019.\\1.Training\\train_road\\images\\BLD01861_PS3_K3A_NIA0374_1.png: ignoring corrupt image/label: non-normalized or out of bounds coordinates [      1.002]\n",
      "\u001b[34m\u001b[1mtrain: \u001b[0mWARNING  D:\\019.\\1.Training\\train_road\\images\\BLD01861_PS3_K3A_NIA0374_1_2.png: ignoring corrupt image/label: non-normalized or out of bounds coordinates [      1.002]\n",
      "\u001b[34m\u001b[1mtrain: \u001b[0mWARNING  D:\\019.\\1.Training\\train_road\\images\\BLD02065_PS3_K3A_NIA0374.png: ignoring corrupt image/label: non-normalized or out of bounds coordinates [      1.002       1.002]\n",
      "\u001b[34m\u001b[1mtrain: \u001b[0mWARNING  D:\\019.\\1.Training\\train_road\\images\\BLD02065_PS3_K3A_NIA0374_1.png: ignoring corrupt image/label: non-normalized or out of bounds coordinates [      1.002       1.002]\n",
      "\u001b[34m\u001b[1mtrain: \u001b[0mWARNING  D:\\019.\\1.Training\\train_road\\images\\BLD02065_PS3_K3A_NIA0374_1_2.png: ignoring corrupt image/label: non-normalized or out of bounds coordinates [      1.002       1.002]\n",
      "\u001b[34m\u001b[1mtrain: \u001b[0mWARNING  D:\\019.\\1.Training\\train_road\\images\\BLD02072_PS3_K3A_NIA0374.png: ignoring corrupt image/label: non-normalized or out of bounds coordinates [     1.0006]\n",
      "\u001b[34m\u001b[1mtrain: \u001b[0mWARNING  D:\\019.\\1.Training\\train_road\\images\\BLD02072_PS3_K3A_NIA0374_1.png: ignoring corrupt image/label: non-normalized or out of bounds coordinates [     1.0006]\n",
      "\u001b[34m\u001b[1mtrain: \u001b[0mWARNING  D:\\019.\\1.Training\\train_road\\images\\BLD02072_PS3_K3A_NIA0374_1_2.png: ignoring corrupt image/label: non-normalized or out of bounds coordinates [     1.0006]\n",
      "\u001b[34m\u001b[1mtrain: \u001b[0mWARNING  D:\\019.\\1.Training\\train_road\\images\\BLD02118_PS3_K3A_NIA0374.png: ignoring corrupt image/label: non-normalized or out of bounds coordinates [     1.0013]\n",
      "\u001b[34m\u001b[1mtrain: \u001b[0mWARNING  D:\\019.\\1.Training\\train_road\\images\\BLD02118_PS3_K3A_NIA0374_1.png: ignoring corrupt image/label: non-normalized or out of bounds coordinates [     1.0013]\n",
      "\u001b[34m\u001b[1mtrain: \u001b[0mWARNING  D:\\019.\\1.Training\\train_road\\images\\BLD02118_PS3_K3A_NIA0374_1_2.png: ignoring corrupt image/label: non-normalized or out of bounds coordinates [     1.0013]\n",
      "\u001b[34m\u001b[1mtrain: \u001b[0mWARNING  D:\\019.\\1.Training\\train_road\\images\\BLD02120_PS3_K3A_NIA0374.png: ignoring corrupt image/label: non-normalized or out of bounds coordinates [      1.002]\n",
      "\u001b[34m\u001b[1mtrain: \u001b[0mWARNING  D:\\019.\\1.Training\\train_road\\images\\BLD02120_PS3_K3A_NIA0374_1.png: ignoring corrupt image/label: non-normalized or out of bounds coordinates [      1.002]\n",
      "\u001b[34m\u001b[1mtrain: \u001b[0mWARNING  D:\\019.\\1.Training\\train_road\\images\\BLD02120_PS3_K3A_NIA0374_1_2.png: ignoring corrupt image/label: non-normalized or out of bounds coordinates [      1.002]\n",
      "\u001b[34m\u001b[1mtrain: \u001b[0mWARNING  D:\\019.\\1.Training\\train_road\\images\\BLD02174_PS3_K3A_NIA0374.png: ignoring corrupt image/label: non-normalized or out of bounds coordinates [      1.002]\n",
      "\u001b[34m\u001b[1mtrain: \u001b[0mWARNING  D:\\019.\\1.Training\\train_road\\images\\BLD02174_PS3_K3A_NIA0374_1.png: ignoring corrupt image/label: non-normalized or out of bounds coordinates [      1.002]\n",
      "\u001b[34m\u001b[1mtrain: \u001b[0mWARNING  D:\\019.\\1.Training\\train_road\\images\\BLD02174_PS3_K3A_NIA0374_1_2.png: ignoring corrupt image/label: non-normalized or out of bounds coordinates [      1.002]\n",
      "\u001b[34m\u001b[1mtrain: \u001b[0mWARNING  D:\\019.\\1.Training\\train_road\\images\\BLD02224_PS3_K3A_NIA0374.png: ignoring corrupt image/label: non-normalized or out of bounds coordinates [      1.013      1.0075]\n",
      "\u001b[34m\u001b[1mtrain: \u001b[0mWARNING  D:\\019.\\1.Training\\train_road\\images\\BLD02224_PS3_K3A_NIA0374_1.png: ignoring corrupt image/label: non-normalized or out of bounds coordinates [      1.013      1.0075]\n",
      "\u001b[34m\u001b[1mtrain: \u001b[0mWARNING  D:\\019.\\1.Training\\train_road\\images\\BLD02224_PS3_K3A_NIA0374_1_2.png: ignoring corrupt image/label: non-normalized or out of bounds coordinates [      1.013      1.0075]\n",
      "\u001b[34m\u001b[1mtrain: \u001b[0mWARNING  D:\\019.\\1.Training\\train_road\\images\\BLD02265_PS3_K3A_NIA0374.png: ignoring corrupt image/label: non-normalized or out of bounds coordinates [     1.0002]\n",
      "\u001b[34m\u001b[1mtrain: \u001b[0mWARNING  D:\\019.\\1.Training\\train_road\\images\\BLD02265_PS3_K3A_NIA0374_1.png: ignoring corrupt image/label: non-normalized or out of bounds coordinates [     1.0002]\n",
      "\u001b[34m\u001b[1mtrain: \u001b[0mWARNING  D:\\019.\\1.Training\\train_road\\images\\BLD02265_PS3_K3A_NIA0374_1_2.png: ignoring corrupt image/label: non-normalized or out of bounds coordinates [     1.0002]\n",
      "\u001b[34m\u001b[1mtrain: \u001b[0mWARNING  D:\\019.\\1.Training\\train_road\\images\\BLD02274_PS3_K3A_NIA0374.png: ignoring corrupt image/label: non-normalized or out of bounds coordinates [     1.0009]\n",
      "\u001b[34m\u001b[1mtrain: \u001b[0mWARNING  D:\\019.\\1.Training\\train_road\\images\\BLD02274_PS3_K3A_NIA0374_1.png: ignoring corrupt image/label: non-normalized or out of bounds coordinates [     1.0009]\n",
      "\u001b[34m\u001b[1mtrain: \u001b[0mWARNING  D:\\019.\\1.Training\\train_road\\images\\BLD02274_PS3_K3A_NIA0374_1_2.png: ignoring corrupt image/label: non-normalized or out of bounds coordinates [     1.0009]\n",
      "\u001b[34m\u001b[1mtrain: \u001b[0mWARNING  D:\\019.\\1.Training\\train_road\\images\\BLD02364_PS3_K3A_NIA0374.png: ignoring corrupt image/label: non-normalized or out of bounds coordinates [      1.002       1.002]\n",
      "\u001b[34m\u001b[1mtrain: \u001b[0mWARNING  D:\\019.\\1.Training\\train_road\\images\\BLD02364_PS3_K3A_NIA0374_1.png: ignoring corrupt image/label: non-normalized or out of bounds coordinates [      1.002       1.002]\n",
      "\u001b[34m\u001b[1mtrain: \u001b[0mWARNING  D:\\019.\\1.Training\\train_road\\images\\BLD02364_PS3_K3A_NIA0374_1_2.png: ignoring corrupt image/label: non-normalized or out of bounds coordinates [      1.002       1.002]\n",
      "\u001b[34m\u001b[1mtrain: \u001b[0mWARNING  D:\\019.\\1.Training\\train_road\\images\\BLD02371_PS3_K3A_NIA0374.png: ignoring corrupt image/label: non-normalized or out of bounds coordinates [     1.0006      1.0019]\n",
      "\u001b[34m\u001b[1mtrain: \u001b[0mWARNING  D:\\019.\\1.Training\\train_road\\images\\BLD02371_PS3_K3A_NIA0374_1.png: ignoring corrupt image/label: non-normalized or out of bounds coordinates [     1.0006      1.0019]\n",
      "\u001b[34m\u001b[1mtrain: \u001b[0mWARNING  D:\\019.\\1.Training\\train_road\\images\\BLD02371_PS3_K3A_NIA0374_1_2.png: ignoring corrupt image/label: non-normalized or out of bounds coordinates [     1.0006      1.0019]\n",
      "\u001b[34m\u001b[1mtrain: \u001b[0mWARNING  D:\\019.\\1.Training\\train_road\\images\\BLD02372_PS3_K3A_NIA0374.png: ignoring corrupt image/label: non-normalized or out of bounds coordinates [     1.0011]\n",
      "\u001b[34m\u001b[1mtrain: \u001b[0mWARNING  D:\\019.\\1.Training\\train_road\\images\\BLD02372_PS3_K3A_NIA0374_1.png: ignoring corrupt image/label: non-normalized or out of bounds coordinates [     1.0011]\n",
      "\u001b[34m\u001b[1mtrain: \u001b[0mWARNING  D:\\019.\\1.Training\\train_road\\images\\BLD02372_PS3_K3A_NIA0374_1_2.png: ignoring corrupt image/label: non-normalized or out of bounds coordinates [     1.0011]\n",
      "\u001b[34m\u001b[1mtrain: \u001b[0mWARNING  D:\\019.\\1.Training\\train_road\\images\\BLD02379_PS3_K3A_NIA0374.png: ignoring corrupt image/label: non-normalized or out of bounds coordinates [     1.0003]\n",
      "\u001b[34m\u001b[1mtrain: \u001b[0mWARNING  D:\\019.\\1.Training\\train_road\\images\\BLD02379_PS3_K3A_NIA0374_1.png: ignoring corrupt image/label: non-normalized or out of bounds coordinates [     1.0003]\n",
      "\u001b[34m\u001b[1mtrain: \u001b[0mWARNING  D:\\019.\\1.Training\\train_road\\images\\BLD02379_PS3_K3A_NIA0374_1_2.png: ignoring corrupt image/label: non-normalized or out of bounds coordinates [     1.0003]\n",
      "\u001b[34m\u001b[1mtrain: \u001b[0mWARNING  D:\\019.\\1.Training\\train_road\\images\\BLD02425_PS3_K3A_NIA0375.png: ignoring corrupt image/label: non-normalized or out of bounds coordinates [     1.0009      1.0015]\n",
      "\u001b[34m\u001b[1mtrain: \u001b[0mWARNING  D:\\019.\\1.Training\\train_road\\images\\BLD02425_PS3_K3A_NIA0375_1.png: ignoring corrupt image/label: non-normalized or out of bounds coordinates [     1.0009      1.0015]\n",
      "\u001b[34m\u001b[1mtrain: \u001b[0mWARNING  D:\\019.\\1.Training\\train_road\\images\\BLD02425_PS3_K3A_NIA0375_1_2.png: ignoring corrupt image/label: non-normalized or out of bounds coordinates [     1.0009      1.0015]\n",
      "\u001b[34m\u001b[1mtrain: \u001b[0mWARNING  D:\\019.\\1.Training\\train_road\\images\\BLD02426_PS3_K3A_NIA0375.png: ignoring corrupt image/label: non-normalized or out of bounds coordinates [     1.0004]\n",
      "\u001b[34m\u001b[1mtrain: \u001b[0mWARNING  D:\\019.\\1.Training\\train_road\\images\\BLD02426_PS3_K3A_NIA0375_1.png: ignoring corrupt image/label: non-normalized or out of bounds coordinates [     1.0004]\n",
      "\u001b[34m\u001b[1mtrain: \u001b[0mWARNING  D:\\019.\\1.Training\\train_road\\images\\BLD02426_PS3_K3A_NIA0375_1_2.png: ignoring corrupt image/label: non-normalized or out of bounds coordinates [     1.0004]\n",
      "\u001b[34m\u001b[1mtrain: \u001b[0mWARNING  D:\\019.\\1.Training\\train_road\\images\\BLD02431_PS3_K3A_NIA0375.png: ignoring corrupt image/label: non-normalized or out of bounds coordinates [      1.002      1.0058       1.002      1.0059]\n",
      "\u001b[34m\u001b[1mtrain: \u001b[0mWARNING  D:\\019.\\1.Training\\train_road\\images\\BLD02431_PS3_K3A_NIA0375_1.png: ignoring corrupt image/label: non-normalized or out of bounds coordinates [      1.002      1.0058       1.002      1.0059]\n",
      "\u001b[34m\u001b[1mtrain: \u001b[0mWARNING  D:\\019.\\1.Training\\train_road\\images\\BLD02431_PS3_K3A_NIA0375_1_2.png: ignoring corrupt image/label: non-normalized or out of bounds coordinates [      1.002      1.0058       1.002      1.0059]\n",
      "\u001b[34m\u001b[1mtrain: \u001b[0mWARNING  D:\\019.\\1.Training\\train_road\\images\\BLD02433_PS3_K3A_NIA0375.png: ignoring corrupt image/label: non-normalized or out of bounds coordinates [     1.0014]\n",
      "\u001b[34m\u001b[1mtrain: \u001b[0mWARNING  D:\\019.\\1.Training\\train_road\\images\\BLD02433_PS3_K3A_NIA0375_1.png: ignoring corrupt image/label: non-normalized or out of bounds coordinates [     1.0014]\n",
      "\u001b[34m\u001b[1mtrain: \u001b[0mWARNING  D:\\019.\\1.Training\\train_road\\images\\BLD02433_PS3_K3A_NIA0375_1_2.png: ignoring corrupt image/label: non-normalized or out of bounds coordinates [     1.0014]\n",
      "\u001b[34m\u001b[1mtrain: \u001b[0mWARNING  D:\\019.\\1.Training\\train_road\\images\\BLD02486_PS3_K3A_NIA0375.png: ignoring corrupt image/label: non-normalized or out of bounds coordinates [     1.0009]\n",
      "\u001b[34m\u001b[1mtrain: \u001b[0mWARNING  D:\\019.\\1.Training\\train_road\\images\\BLD02486_PS3_K3A_NIA0375_1.png: ignoring corrupt image/label: non-normalized or out of bounds coordinates [     1.0009]\n",
      "\u001b[34m\u001b[1mtrain: \u001b[0mWARNING  D:\\019.\\1.Training\\train_road\\images\\BLD02486_PS3_K3A_NIA0375_1_2.png: ignoring corrupt image/label: non-normalized or out of bounds coordinates [     1.0009]\n",
      "\u001b[34m\u001b[1mtrain: \u001b[0mWARNING  D:\\019.\\1.Training\\train_road\\images\\BLD02515_PS3_K3A_NIA0375.png: ignoring corrupt image/label: non-normalized or out of bounds coordinates [     1.0039      1.0039]\n",
      "\u001b[34m\u001b[1mtrain: \u001b[0mWARNING  D:\\019.\\1.Training\\train_road\\images\\BLD02515_PS3_K3A_NIA0375_1.png: ignoring corrupt image/label: non-normalized or out of bounds coordinates [     1.0039      1.0039]\n",
      "\u001b[34m\u001b[1mtrain: \u001b[0mWARNING  D:\\019.\\1.Training\\train_road\\images\\BLD02515_PS3_K3A_NIA0375_1_2.png: ignoring corrupt image/label: non-normalized or out of bounds coordinates [     1.0039      1.0039]\n",
      "\u001b[34m\u001b[1mtrain: \u001b[0mWARNING  D:\\019.\\1.Training\\train_road\\images\\BLD02545_PS3_K3A_NIA0375.png: ignoring corrupt image/label: non-normalized or out of bounds coordinates [      1.004      1.0039]\n",
      "\u001b[34m\u001b[1mtrain: \u001b[0mWARNING  D:\\019.\\1.Training\\train_road\\images\\BLD02545_PS3_K3A_NIA0375_1.png: ignoring corrupt image/label: non-normalized or out of bounds coordinates [      1.004      1.0039]\n",
      "\u001b[34m\u001b[1mtrain: \u001b[0mWARNING  D:\\019.\\1.Training\\train_road\\images\\BLD02545_PS3_K3A_NIA0375_1_2.png: ignoring corrupt image/label: non-normalized or out of bounds coordinates [      1.004      1.0039]\n",
      "\u001b[34m\u001b[1mtrain: \u001b[0mWARNING  D:\\019.\\1.Training\\train_road\\images\\BLD02597_PS3_K3A_NIA0375.png: ignoring corrupt image/label: non-normalized or out of bounds coordinates [      1.002]\n",
      "\u001b[34m\u001b[1mtrain: \u001b[0mWARNING  D:\\019.\\1.Training\\train_road\\images\\BLD02597_PS3_K3A_NIA0375_1.png: ignoring corrupt image/label: non-normalized or out of bounds coordinates [      1.002]\n",
      "\u001b[34m\u001b[1mtrain: \u001b[0mWARNING  D:\\019.\\1.Training\\train_road\\images\\BLD02597_PS3_K3A_NIA0375_1_2.png: ignoring corrupt image/label: non-normalized or out of bounds coordinates [      1.002]\n",
      "\u001b[34m\u001b[1mtrain: \u001b[0mWARNING  D:\\019.\\1.Training\\train_road\\images\\BLD02816_PS3_K3A_NIA0375.png: ignoring corrupt image/label: non-normalized or out of bounds coordinates [          1]\n",
      "\u001b[34m\u001b[1mtrain: \u001b[0mWARNING  D:\\019.\\1.Training\\train_road\\images\\BLD02816_PS3_K3A_NIA0375_1.png: ignoring corrupt image/label: non-normalized or out of bounds coordinates [          1]\n",
      "\u001b[34m\u001b[1mtrain: \u001b[0mWARNING  D:\\019.\\1.Training\\train_road\\images\\BLD02816_PS3_K3A_NIA0375_1_2.png: ignoring corrupt image/label: non-normalized or out of bounds coordinates [          1]\n",
      "\u001b[34m\u001b[1mtrain: \u001b[0mWARNING  D:\\019.\\1.Training\\train_road\\images\\BLD03407_PS3_K3A_NIA0376.png: ignoring corrupt image/label: non-normalized or out of bounds coordinates [     1.0004]\n",
      "\u001b[34m\u001b[1mtrain: \u001b[0mWARNING  D:\\019.\\1.Training\\train_road\\images\\BLD03407_PS3_K3A_NIA0376_1.png: ignoring corrupt image/label: non-normalized or out of bounds coordinates [     1.0004]\n",
      "\u001b[34m\u001b[1mtrain: \u001b[0mWARNING  D:\\019.\\1.Training\\train_road\\images\\BLD03407_PS3_K3A_NIA0376_1_2.png: ignoring corrupt image/label: non-normalized or out of bounds coordinates [     1.0004]\n",
      "\u001b[34m\u001b[1mtrain: \u001b[0mWARNING  D:\\019.\\1.Training\\train_road\\images\\BLD03474_PS3_K3A_NIA0376.png: ignoring corrupt image/label: non-normalized or out of bounds coordinates [     1.0005]\n",
      "\u001b[34m\u001b[1mtrain: \u001b[0mWARNING  D:\\019.\\1.Training\\train_road\\images\\BLD03474_PS3_K3A_NIA0376_1.png: ignoring corrupt image/label: non-normalized or out of bounds coordinates [     1.0005]\n",
      "\u001b[34m\u001b[1mtrain: \u001b[0mWARNING  D:\\019.\\1.Training\\train_road\\images\\BLD03474_PS3_K3A_NIA0376_1_2.png: ignoring corrupt image/label: non-normalized or out of bounds coordinates [     1.0005]\n",
      "\u001b[34m\u001b[1mtrain: \u001b[0mWARNING  D:\\019.\\1.Training\\train_road\\images\\BLD03533_PS3_K3A_NIA0376.png: ignoring corrupt image/label: non-normalized or out of bounds coordinates [     1.0017      1.0032]\n",
      "\u001b[34m\u001b[1mtrain: \u001b[0mWARNING  D:\\019.\\1.Training\\train_road\\images\\BLD03533_PS3_K3A_NIA0376_1.png: ignoring corrupt image/label: non-normalized or out of bounds coordinates [     1.0017      1.0032]\n",
      "\u001b[34m\u001b[1mtrain: \u001b[0mWARNING  D:\\019.\\1.Training\\train_road\\images\\BLD03533_PS3_K3A_NIA0376_1_2.png: ignoring corrupt image/label: non-normalized or out of bounds coordinates [     1.0017      1.0032]\n",
      "\u001b[34m\u001b[1mtrain: \u001b[0mWARNING  D:\\019.\\1.Training\\train_road\\images\\BLD03686_PS3_K3A_NIA0376.png: ignoring corrupt image/label: non-normalized or out of bounds coordinates [     1.0002]\n",
      "\u001b[34m\u001b[1mtrain: \u001b[0mWARNING  D:\\019.\\1.Training\\train_road\\images\\BLD03686_PS3_K3A_NIA0376_1.png: ignoring corrupt image/label: non-normalized or out of bounds coordinates [     1.0002]\n",
      "\u001b[34m\u001b[1mtrain: \u001b[0mWARNING  D:\\019.\\1.Training\\train_road\\images\\BLD03686_PS3_K3A_NIA0376_1_2.png: ignoring corrupt image/label: non-normalized or out of bounds coordinates [     1.0002]\n",
      "\u001b[34m\u001b[1mtrain: \u001b[0mWARNING  D:\\019.\\1.Training\\train_road\\images\\BLD03691_PS3_K3A_NIA0376.png: ignoring corrupt image/label: non-normalized or out of bounds coordinates [     1.0004]\n",
      "\u001b[34m\u001b[1mtrain: \u001b[0mWARNING  D:\\019.\\1.Training\\train_road\\images\\BLD03691_PS3_K3A_NIA0376_1.png: ignoring corrupt image/label: non-normalized or out of bounds coordinates [     1.0004]\n",
      "\u001b[34m\u001b[1mtrain: \u001b[0mWARNING  D:\\019.\\1.Training\\train_road\\images\\BLD03691_PS3_K3A_NIA0376_1_2.png: ignoring corrupt image/label: non-normalized or out of bounds coordinates [     1.0004]\n",
      "\u001b[34m\u001b[1mtrain: \u001b[0mWARNING  D:\\019.\\1.Training\\train_road\\images\\BLD03698_PS3_K3A_NIA0376.png: ignoring corrupt image/label: non-normalized or out of bounds coordinates [     1.0001      1.0001]\n",
      "\u001b[34m\u001b[1mtrain: \u001b[0mWARNING  D:\\019.\\1.Training\\train_road\\images\\BLD03698_PS3_K3A_NIA0376_1.png: ignoring corrupt image/label: non-normalized or out of bounds coordinates [     1.0001      1.0001]\n",
      "\u001b[34m\u001b[1mtrain: \u001b[0mWARNING  D:\\019.\\1.Training\\train_road\\images\\BLD03698_PS3_K3A_NIA0376_1_2.png: ignoring corrupt image/label: non-normalized or out of bounds coordinates [     1.0001      1.0001]\n",
      "\u001b[34m\u001b[1mtrain: \u001b[0mWARNING  D:\\019.\\1.Training\\train_road\\images\\BLD03790_PS3_K3A_NIA0377.png: ignoring corrupt image/label: non-normalized or out of bounds coordinates [     1.0006]\n",
      "\u001b[34m\u001b[1mtrain: \u001b[0mWARNING  D:\\019.\\1.Training\\train_road\\images\\BLD03790_PS3_K3A_NIA0377_1.png: ignoring corrupt image/label: non-normalized or out of bounds coordinates [     1.0006]\n",
      "\u001b[34m\u001b[1mtrain: \u001b[0mWARNING  D:\\019.\\1.Training\\train_road\\images\\BLD03790_PS3_K3A_NIA0377_1_2.png: ignoring corrupt image/label: non-normalized or out of bounds coordinates [     1.0006]\n",
      "\u001b[34m\u001b[1mtrain: \u001b[0mWARNING  D:\\019.\\1.Training\\train_road\\images\\BLD03824_PS3_K3A_NIA0377.png: ignoring corrupt image/label: non-normalized or out of bounds coordinates [     1.0004]\n",
      "\u001b[34m\u001b[1mtrain: \u001b[0mWARNING  D:\\019.\\1.Training\\train_road\\images\\BLD03824_PS3_K3A_NIA0377_1.png: ignoring corrupt image/label: non-normalized or out of bounds coordinates [     1.0004]\n",
      "\u001b[34m\u001b[1mtrain: \u001b[0mWARNING  D:\\019.\\1.Training\\train_road\\images\\BLD03824_PS3_K3A_NIA0377_1_2.png: ignoring corrupt image/label: non-normalized or out of bounds coordinates [     1.0004]\n",
      "\u001b[34m\u001b[1mtrain: \u001b[0mWARNING  D:\\019.\\1.Training\\train_road\\images\\BLD03871_PS3_K3A_NIA0377.png: ignoring corrupt image/label: non-normalized or out of bounds coordinates [     1.0039]\n",
      "\u001b[34m\u001b[1mtrain: \u001b[0mWARNING  D:\\019.\\1.Training\\train_road\\images\\BLD03871_PS3_K3A_NIA0377_1.png: ignoring corrupt image/label: non-normalized or out of bounds coordinates [     1.0039]\n",
      "\u001b[34m\u001b[1mtrain: \u001b[0mWARNING  D:\\019.\\1.Training\\train_road\\images\\BLD03871_PS3_K3A_NIA0377_1_2.png: ignoring corrupt image/label: non-normalized or out of bounds coordinates [     1.0039]\n",
      "\u001b[34m\u001b[1mtrain: \u001b[0mWARNING  D:\\019.\\1.Training\\train_road\\images\\BLD03964_PS3_K3A_NIA0377.png: ignoring corrupt image/label: non-normalized or out of bounds coordinates [     1.0008]\n",
      "\u001b[34m\u001b[1mtrain: \u001b[0mWARNING  D:\\019.\\1.Training\\train_road\\images\\BLD03964_PS3_K3A_NIA0377_1.png: ignoring corrupt image/label: non-normalized or out of bounds coordinates [     1.0008]\n",
      "\u001b[34m\u001b[1mtrain: \u001b[0mWARNING  D:\\019.\\1.Training\\train_road\\images\\BLD03964_PS3_K3A_NIA0377_1_2.png: ignoring corrupt image/label: non-normalized or out of bounds coordinates [     1.0008]\n"
     ]
    },
    {
     "name": "stderr",
     "output_type": "stream",
     "text": [
      "\n",
      "\u001b[34m\u001b[1mval: \u001b[0mScanning D:\\019.위성영상객체판독\\2.Validation\\valid_road\\labels.cache... 918 images, 0 backgrounds, 111 corrupt: 100%|██████████| 918/918 [00:00<?, ?it/s]"
     ]
    },
    {
     "name": "stdout",
     "output_type": "stream",
     "text": [
      "\u001b[34m\u001b[1mval: \u001b[0mWARNING  D:\\019.\\2.Validation\\valid_road\\images\\BLD00047_PS3_K3A_NIA0276.png: ignoring corrupt image/label: non-normalized or out of bounds coordinates [     1.0022]\n",
      "\u001b[34m\u001b[1mval: \u001b[0mWARNING  D:\\019.\\2.Validation\\valid_road\\images\\BLD00047_PS3_K3A_NIA0276_1.png: ignoring corrupt image/label: non-normalized or out of bounds coordinates [     1.0022]\n",
      "\u001b[34m\u001b[1mval: \u001b[0mWARNING  D:\\019.\\2.Validation\\valid_road\\images\\BLD00047_PS3_K3A_NIA0276_1_2.png: ignoring corrupt image/label: non-normalized or out of bounds coordinates [     1.0022]\n",
      "\u001b[34m\u001b[1mval: \u001b[0mWARNING  D:\\019.\\2.Validation\\valid_road\\images\\BLD00358_PS3_K3A_NIA0276.png: ignoring corrupt image/label: non-normalized or out of bounds coordinates [     1.0013]\n",
      "\u001b[34m\u001b[1mval: \u001b[0mWARNING  D:\\019.\\2.Validation\\valid_road\\images\\BLD00358_PS3_K3A_NIA0276_1.png: ignoring corrupt image/label: non-normalized or out of bounds coordinates [     1.0013]\n",
      "\u001b[34m\u001b[1mval: \u001b[0mWARNING  D:\\019.\\2.Validation\\valid_road\\images\\BLD00358_PS3_K3A_NIA0276_1_2.png: ignoring corrupt image/label: non-normalized or out of bounds coordinates [     1.0013]\n",
      "\u001b[34m\u001b[1mval: \u001b[0mWARNING  D:\\019.\\2.Validation\\valid_road\\images\\BLD00594_PS3_K3A_NIA0277.png: ignoring corrupt image/label: non-normalized or out of bounds coordinates [     1.0009]\n",
      "\u001b[34m\u001b[1mval: \u001b[0mWARNING  D:\\019.\\2.Validation\\valid_road\\images\\BLD00594_PS3_K3A_NIA0277_1.png: ignoring corrupt image/label: non-normalized or out of bounds coordinates [     1.0009]\n",
      "\u001b[34m\u001b[1mval: \u001b[0mWARNING  D:\\019.\\2.Validation\\valid_road\\images\\BLD00594_PS3_K3A_NIA0277_1_2.png: ignoring corrupt image/label: non-normalized or out of bounds coordinates [     1.0009]\n",
      "\u001b[34m\u001b[1mval: \u001b[0mWARNING  D:\\019.\\2.Validation\\valid_road\\images\\BLD00647_PS3_K3A_NIA0277.png: ignoring corrupt image/label: non-normalized or out of bounds coordinates [     1.0013      1.0006]\n",
      "\u001b[34m\u001b[1mval: \u001b[0mWARNING  D:\\019.\\2.Validation\\valid_road\\images\\BLD00647_PS3_K3A_NIA0277_1.png: ignoring corrupt image/label: non-normalized or out of bounds coordinates [     1.0013      1.0006]\n",
      "\u001b[34m\u001b[1mval: \u001b[0mWARNING  D:\\019.\\2.Validation\\valid_road\\images\\BLD00647_PS3_K3A_NIA0277_1_2.png: ignoring corrupt image/label: non-normalized or out of bounds coordinates [     1.0013      1.0006]\n",
      "\u001b[34m\u001b[1mval: \u001b[0mWARNING  D:\\019.\\2.Validation\\valid_road\\images\\BLD00665_PS3_K3A_NIA0277.png: ignoring corrupt image/label: non-normalized or out of bounds coordinates [     1.0009]\n",
      "\u001b[34m\u001b[1mval: \u001b[0mWARNING  D:\\019.\\2.Validation\\valid_road\\images\\BLD00665_PS3_K3A_NIA0277_1.png: ignoring corrupt image/label: non-normalized or out of bounds coordinates [     1.0009]\n",
      "\u001b[34m\u001b[1mval: \u001b[0mWARNING  D:\\019.\\2.Validation\\valid_road\\images\\BLD00665_PS3_K3A_NIA0277_1_2.png: ignoring corrupt image/label: non-normalized or out of bounds coordinates [     1.0009]\n",
      "\u001b[34m\u001b[1mval: \u001b[0mWARNING  D:\\019.\\2.Validation\\valid_road\\images\\BLD00836_PS3_K3A_NIA0277.png: ignoring corrupt image/label: non-normalized or out of bounds coordinates [     1.0006      1.0011]\n",
      "\u001b[34m\u001b[1mval: \u001b[0mWARNING  D:\\019.\\2.Validation\\valid_road\\images\\BLD00836_PS3_K3A_NIA0277_1.png: ignoring corrupt image/label: non-normalized or out of bounds coordinates [     1.0006      1.0011]\n",
      "\u001b[34m\u001b[1mval: \u001b[0mWARNING  D:\\019.\\2.Validation\\valid_road\\images\\BLD00836_PS3_K3A_NIA0277_1_2.png: ignoring corrupt image/label: non-normalized or out of bounds coordinates [     1.0006      1.0011]\n",
      "\u001b[34m\u001b[1mval: \u001b[0mWARNING  D:\\019.\\2.Validation\\valid_road\\images\\BLD00882_PS3_K3A_NIA0277.png: ignoring corrupt image/label: non-normalized or out of bounds coordinates [     1.0032]\n",
      "\u001b[34m\u001b[1mval: \u001b[0mWARNING  D:\\019.\\2.Validation\\valid_road\\images\\BLD00882_PS3_K3A_NIA0277_1.png: ignoring corrupt image/label: non-normalized or out of bounds coordinates [     1.0032]\n",
      "\u001b[34m\u001b[1mval: \u001b[0mWARNING  D:\\019.\\2.Validation\\valid_road\\images\\BLD00882_PS3_K3A_NIA0277_1_2.png: ignoring corrupt image/label: non-normalized or out of bounds coordinates [     1.0032]\n",
      "\u001b[34m\u001b[1mval: \u001b[0mWARNING  D:\\019.\\2.Validation\\valid_road\\images\\BLD01648_PS3_K3A_NIA0373.png: ignoring corrupt image/label: non-normalized or out of bounds coordinates [     1.0009      1.0005]\n",
      "\u001b[34m\u001b[1mval: \u001b[0mWARNING  D:\\019.\\2.Validation\\valid_road\\images\\BLD01648_PS3_K3A_NIA0373_1.png: ignoring corrupt image/label: non-normalized or out of bounds coordinates [     1.0009      1.0005]\n",
      "\u001b[34m\u001b[1mval: \u001b[0mWARNING  D:\\019.\\2.Validation\\valid_road\\images\\BLD01648_PS3_K3A_NIA0373_1_2.png: ignoring corrupt image/label: non-normalized or out of bounds coordinates [     1.0009      1.0005]\n",
      "\u001b[34m\u001b[1mval: \u001b[0mWARNING  D:\\019.\\2.Validation\\valid_road\\images\\BLD02429_PS3_K3A_NIA0375.png: 15 duplicate labels removed\n",
      "\u001b[34m\u001b[1mval: \u001b[0mWARNING  D:\\019.\\2.Validation\\valid_road\\images\\BLD02429_PS3_K3A_NIA0375_1.png: 15 duplicate labels removed\n",
      "\u001b[34m\u001b[1mval: \u001b[0mWARNING  D:\\019.\\2.Validation\\valid_road\\images\\BLD02429_PS3_K3A_NIA0375_1_2.png: 15 duplicate labels removed\n",
      "\u001b[34m\u001b[1mval: \u001b[0mWARNING  D:\\019.\\2.Validation\\valid_road\\images\\BLD03193_PS3_K3A_NIA0376.png: ignoring corrupt image/label: non-normalized or out of bounds coordinates [     1.0004]\n",
      "\u001b[34m\u001b[1mval: \u001b[0mWARNING  D:\\019.\\2.Validation\\valid_road\\images\\BLD03193_PS3_K3A_NIA0376_1.png: ignoring corrupt image/label: non-normalized or out of bounds coordinates [     1.0004]\n",
      "\u001b[34m\u001b[1mval: \u001b[0mWARNING  D:\\019.\\2.Validation\\valid_road\\images\\BLD03193_PS3_K3A_NIA0376_1_2.png: ignoring corrupt image/label: non-normalized or out of bounds coordinates [     1.0004]\n",
      "\u001b[34m\u001b[1mval: \u001b[0mWARNING  D:\\019.\\2.Validation\\valid_road\\images\\BLD03632_PS3_K3A_NIA0376.png: ignoring corrupt image/label: non-normalized or out of bounds coordinates [     1.0009]\n",
      "\u001b[34m\u001b[1mval: \u001b[0mWARNING  D:\\019.\\2.Validation\\valid_road\\images\\BLD03632_PS3_K3A_NIA0376_1.png: ignoring corrupt image/label: non-normalized or out of bounds coordinates [     1.0009]\n",
      "\u001b[34m\u001b[1mval: \u001b[0mWARNING  D:\\019.\\2.Validation\\valid_road\\images\\BLD03632_PS3_K3A_NIA0376_1_2.png: ignoring corrupt image/label: non-normalized or out of bounds coordinates [     1.0009]\n",
      "\u001b[34m\u001b[1mval: \u001b[0mWARNING  D:\\019.\\2.Validation\\valid_road\\images\\BLD05458_PS3_K3A_NIA0380.png: ignoring corrupt image/label: non-normalized or out of bounds coordinates [     1.0034]\n",
      "\u001b[34m\u001b[1mval: \u001b[0mWARNING  D:\\019.\\2.Validation\\valid_road\\images\\BLD05458_PS3_K3A_NIA0380_1.png: ignoring corrupt image/label: non-normalized or out of bounds coordinates [     1.0034]\n",
      "\u001b[34m\u001b[1mval: \u001b[0mWARNING  D:\\019.\\2.Validation\\valid_road\\images\\BLD05458_PS3_K3A_NIA0380_1_2.png: ignoring corrupt image/label: non-normalized or out of bounds coordinates [     1.0034]\n",
      "\u001b[34m\u001b[1mval: \u001b[0mWARNING  D:\\019.\\2.Validation\\valid_road\\images\\BLD05507_PS3_K3A_NIA0380.png: ignoring corrupt image/label: non-normalized or out of bounds coordinates [     1.0006]\n",
      "\u001b[34m\u001b[1mval: \u001b[0mWARNING  D:\\019.\\2.Validation\\valid_road\\images\\BLD05507_PS3_K3A_NIA0380_1.png: ignoring corrupt image/label: non-normalized or out of bounds coordinates [     1.0006]\n",
      "\u001b[34m\u001b[1mval: \u001b[0mWARNING  D:\\019.\\2.Validation\\valid_road\\images\\BLD05507_PS3_K3A_NIA0380_1_2.png: ignoring corrupt image/label: non-normalized or out of bounds coordinates [     1.0006]\n",
      "\u001b[34m\u001b[1mval: \u001b[0mWARNING  D:\\019.\\2.Validation\\valid_road\\images\\BLD05665_PS3_K3A_NIA0380.png: ignoring corrupt image/label: non-normalized or out of bounds coordinates [     1.0013]\n",
      "\u001b[34m\u001b[1mval: \u001b[0mWARNING  D:\\019.\\2.Validation\\valid_road\\images\\BLD05665_PS3_K3A_NIA0380_1.png: ignoring corrupt image/label: non-normalized or out of bounds coordinates [     1.0013]\n",
      "\u001b[34m\u001b[1mval: \u001b[0mWARNING  D:\\019.\\2.Validation\\valid_road\\images\\BLD05665_PS3_K3A_NIA0380_1_2.png: ignoring corrupt image/label: non-normalized or out of bounds coordinates [     1.0013]\n",
      "\u001b[34m\u001b[1mval: \u001b[0mWARNING  D:\\019.\\2.Validation\\valid_road\\images\\BLD05673_PS3_K3A_NIA0380.png: ignoring corrupt image/label: non-normalized or out of bounds coordinates [     1.0018]\n",
      "\u001b[34m\u001b[1mval: \u001b[0mWARNING  D:\\019.\\2.Validation\\valid_road\\images\\BLD05673_PS3_K3A_NIA0380_1.png: ignoring corrupt image/label: non-normalized or out of bounds coordinates [     1.0018]\n",
      "\u001b[34m\u001b[1mval: \u001b[0mWARNING  D:\\019.\\2.Validation\\valid_road\\images\\BLD05673_PS3_K3A_NIA0380_1_2.png: ignoring corrupt image/label: non-normalized or out of bounds coordinates [     1.0018]\n",
      "\u001b[34m\u001b[1mval: \u001b[0mWARNING  D:\\019.\\2.Validation\\valid_road\\images\\BLD06217_PS3_K3A_NIA0381.png: ignoring corrupt image/label: non-normalized or out of bounds coordinates [     1.0003]\n",
      "\u001b[34m\u001b[1mval: \u001b[0mWARNING  D:\\019.\\2.Validation\\valid_road\\images\\BLD06217_PS3_K3A_NIA0381_1.png: ignoring corrupt image/label: non-normalized or out of bounds coordinates [     1.0003]\n",
      "\u001b[34m\u001b[1mval: \u001b[0mWARNING  D:\\019.\\2.Validation\\valid_road\\images\\BLD06217_PS3_K3A_NIA0381_1_2.png: ignoring corrupt image/label: non-normalized or out of bounds coordinates [     1.0003]\n",
      "\u001b[34m\u001b[1mval: \u001b[0mWARNING  D:\\019.\\2.Validation\\valid_road\\images\\BLD06439_PS3_K3A_NIA0381.png: ignoring corrupt image/label: non-normalized or out of bounds coordinates [          1]\n",
      "\u001b[34m\u001b[1mval: \u001b[0mWARNING  D:\\019.\\2.Validation\\valid_road\\images\\BLD06439_PS3_K3A_NIA0381_1.png: ignoring corrupt image/label: non-normalized or out of bounds coordinates [          1]\n",
      "\u001b[34m\u001b[1mval: \u001b[0mWARNING  D:\\019.\\2.Validation\\valid_road\\images\\BLD06439_PS3_K3A_NIA0381_1_2.png: ignoring corrupt image/label: non-normalized or out of bounds coordinates [          1]\n",
      "\u001b[34m\u001b[1mval: \u001b[0mWARNING  D:\\019.\\2.Validation\\valid_road\\images\\BLD06550_PS3_K3A_NIA0381.png: ignoring corrupt image/label: non-normalized or out of bounds coordinates [     1.0011]\n",
      "\u001b[34m\u001b[1mval: \u001b[0mWARNING  D:\\019.\\2.Validation\\valid_road\\images\\BLD06550_PS3_K3A_NIA0381_1.png: ignoring corrupt image/label: non-normalized or out of bounds coordinates [     1.0011]\n",
      "\u001b[34m\u001b[1mval: \u001b[0mWARNING  D:\\019.\\2.Validation\\valid_road\\images\\BLD06550_PS3_K3A_NIA0381_1_2.png: ignoring corrupt image/label: non-normalized or out of bounds coordinates [     1.0011]\n",
      "\u001b[34m\u001b[1mval: \u001b[0mWARNING  D:\\019.\\2.Validation\\valid_road\\images\\BLD07110_PS3_K3A_NIA0382.png: ignoring corrupt image/label: non-normalized or out of bounds coordinates [     1.0005]\n",
      "\u001b[34m\u001b[1mval: \u001b[0mWARNING  D:\\019.\\2.Validation\\valid_road\\images\\BLD07110_PS3_K3A_NIA0382_1.png: ignoring corrupt image/label: non-normalized or out of bounds coordinates [     1.0005]\n",
      "\u001b[34m\u001b[1mval: \u001b[0mWARNING  D:\\019.\\2.Validation\\valid_road\\images\\BLD07110_PS3_K3A_NIA0382_1_2.png: ignoring corrupt image/label: non-normalized or out of bounds coordinates [     1.0005]\n",
      "\u001b[34m\u001b[1mval: \u001b[0mWARNING  D:\\019.\\2.Validation\\valid_road\\images\\BLD07819_PS3_K3A_NIA0383.png: ignoring corrupt image/label: non-normalized or out of bounds coordinates [     1.0004      1.0006]\n",
      "\u001b[34m\u001b[1mval: \u001b[0mWARNING  D:\\019.\\2.Validation\\valid_road\\images\\BLD07819_PS3_K3A_NIA0383_1.png: ignoring corrupt image/label: non-normalized or out of bounds coordinates [     1.0004      1.0006]\n",
      "\u001b[34m\u001b[1mval: \u001b[0mWARNING  D:\\019.\\2.Validation\\valid_road\\images\\BLD07819_PS3_K3A_NIA0383_1_2.png: ignoring corrupt image/label: non-normalized or out of bounds coordinates [     1.0004      1.0006]\n",
      "\u001b[34m\u001b[1mval: \u001b[0mWARNING  D:\\019.\\2.Validation\\valid_road\\images\\BLD07845_PS3_K3A_NIA0383.png: ignoring corrupt image/label: non-normalized or out of bounds coordinates [     1.0011]\n",
      "\u001b[34m\u001b[1mval: \u001b[0mWARNING  D:\\019.\\2.Validation\\valid_road\\images\\BLD07845_PS3_K3A_NIA0383_1.png: ignoring corrupt image/label: non-normalized or out of bounds coordinates [     1.0011]\n",
      "\u001b[34m\u001b[1mval: \u001b[0mWARNING  D:\\019.\\2.Validation\\valid_road\\images\\BLD07845_PS3_K3A_NIA0383_1_2.png: ignoring corrupt image/label: non-normalized or out of bounds coordinates [     1.0011]\n",
      "\u001b[34m\u001b[1mval: \u001b[0mWARNING  D:\\019.\\2.Validation\\valid_road\\images\\BLD08016_PS3_K3A_NIA0384.png: ignoring corrupt image/label: non-normalized or out of bounds coordinates [     1.0008]\n",
      "\u001b[34m\u001b[1mval: \u001b[0mWARNING  D:\\019.\\2.Validation\\valid_road\\images\\BLD08016_PS3_K3A_NIA0384_1.png: ignoring corrupt image/label: non-normalized or out of bounds coordinates [     1.0008]\n",
      "\u001b[34m\u001b[1mval: \u001b[0mWARNING  D:\\019.\\2.Validation\\valid_road\\images\\BLD08016_PS3_K3A_NIA0384_1_2.png: ignoring corrupt image/label: non-normalized or out of bounds coordinates [     1.0008]\n",
      "\u001b[34m\u001b[1mval: \u001b[0mWARNING  D:\\019.\\2.Validation\\valid_road\\images\\BLD08066_PS3_K3A_NIA0384.png: ignoring corrupt image/label: non-normalized or out of bounds coordinates [     1.0001]\n",
      "\u001b[34m\u001b[1mval: \u001b[0mWARNING  D:\\019.\\2.Validation\\valid_road\\images\\BLD08066_PS3_K3A_NIA0384_1.png: ignoring corrupt image/label: non-normalized or out of bounds coordinates [     1.0001]\n",
      "\u001b[34m\u001b[1mval: \u001b[0mWARNING  D:\\019.\\2.Validation\\valid_road\\images\\BLD08066_PS3_K3A_NIA0384_1_2.png: ignoring corrupt image/label: non-normalized or out of bounds coordinates [     1.0001]\n",
      "\u001b[34m\u001b[1mval: \u001b[0mWARNING  D:\\019.\\2.Validation\\valid_road\\images\\BLD09356_PS3_K3A_NIA0386.png: ignoring corrupt image/label: non-normalized or out of bounds coordinates [     1.0012]\n",
      "\u001b[34m\u001b[1mval: \u001b[0mWARNING  D:\\019.\\2.Validation\\valid_road\\images\\BLD09356_PS3_K3A_NIA0386_1.png: ignoring corrupt image/label: non-normalized or out of bounds coordinates [     1.0012]\n",
      "\u001b[34m\u001b[1mval: \u001b[0mWARNING  D:\\019.\\2.Validation\\valid_road\\images\\BLD09356_PS3_K3A_NIA0386_1_2.png: ignoring corrupt image/label: non-normalized or out of bounds coordinates [     1.0012]\n",
      "\u001b[34m\u001b[1mval: \u001b[0mWARNING  D:\\019.\\2.Validation\\valid_road\\images\\BLD09375_PS3_K3A_NIA0386.png: ignoring corrupt image/label: non-normalized or out of bounds coordinates [     1.0004]\n",
      "\u001b[34m\u001b[1mval: \u001b[0mWARNING  D:\\019.\\2.Validation\\valid_road\\images\\BLD09375_PS3_K3A_NIA0386_1.png: ignoring corrupt image/label: non-normalized or out of bounds coordinates [     1.0004]\n",
      "\u001b[34m\u001b[1mval: \u001b[0mWARNING  D:\\019.\\2.Validation\\valid_road\\images\\BLD09375_PS3_K3A_NIA0386_1_2.png: ignoring corrupt image/label: non-normalized or out of bounds coordinates [     1.0004]\n",
      "\u001b[34m\u001b[1mval: \u001b[0mWARNING  D:\\019.\\2.Validation\\valid_road\\images\\BLD09420_PS3_K3A_NIA0386.png: ignoring corrupt image/label: non-normalized or out of bounds coordinates [     1.0013]\n",
      "\u001b[34m\u001b[1mval: \u001b[0mWARNING  D:\\019.\\2.Validation\\valid_road\\images\\BLD09420_PS3_K3A_NIA0386_1.png: ignoring corrupt image/label: non-normalized or out of bounds coordinates [     1.0013]\n",
      "\u001b[34m\u001b[1mval: \u001b[0mWARNING  D:\\019.\\2.Validation\\valid_road\\images\\BLD09420_PS3_K3A_NIA0386_1_2.png: ignoring corrupt image/label: non-normalized or out of bounds coordinates [     1.0013]\n",
      "\u001b[34m\u001b[1mval: \u001b[0mWARNING  D:\\019.\\2.Validation\\valid_road\\images\\BLD09875_PS3_K3A_NIA0387.png: ignoring corrupt image/label: non-normalized or out of bounds coordinates [     1.0039]\n",
      "\u001b[34m\u001b[1mval: \u001b[0mWARNING  D:\\019.\\2.Validation\\valid_road\\images\\BLD09875_PS3_K3A_NIA0387_1.png: ignoring corrupt image/label: non-normalized or out of bounds coordinates [     1.0039]\n",
      "\u001b[34m\u001b[1mval: \u001b[0mWARNING  D:\\019.\\2.Validation\\valid_road\\images\\BLD09875_PS3_K3A_NIA0387_1_2.png: ignoring corrupt image/label: non-normalized or out of bounds coordinates [     1.0039]\n",
      "\u001b[34m\u001b[1mval: \u001b[0mWARNING  D:\\019.\\2.Validation\\valid_road\\images\\BLD09922_PS3_K3A_NIA0387.png: ignoring corrupt image/label: non-normalized or out of bounds coordinates [     1.0015]\n",
      "\u001b[34m\u001b[1mval: \u001b[0mWARNING  D:\\019.\\2.Validation\\valid_road\\images\\BLD09922_PS3_K3A_NIA0387_1.png: ignoring corrupt image/label: non-normalized or out of bounds coordinates [     1.0015]\n",
      "\u001b[34m\u001b[1mval: \u001b[0mWARNING  D:\\019.\\2.Validation\\valid_road\\images\\BLD09922_PS3_K3A_NIA0387_1_2.png: ignoring corrupt image/label: non-normalized or out of bounds coordinates [     1.0015]\n",
      "\u001b[34m\u001b[1mval: \u001b[0mWARNING  D:\\019.\\2.Validation\\valid_road\\images\\BLD10506_PS3_K3A_NIA0388.png: ignoring corrupt image/label: non-normalized or out of bounds coordinates [     1.0005]\n",
      "\u001b[34m\u001b[1mval: \u001b[0mWARNING  D:\\019.\\2.Validation\\valid_road\\images\\BLD10506_PS3_K3A_NIA0388_1.png: ignoring corrupt image/label: non-normalized or out of bounds coordinates [     1.0005]\n",
      "\u001b[34m\u001b[1mval: \u001b[0mWARNING  D:\\019.\\2.Validation\\valid_road\\images\\BLD10506_PS3_K3A_NIA0388_1_2.png: ignoring corrupt image/label: non-normalized or out of bounds coordinates [     1.0005]\n",
      "\u001b[34m\u001b[1mval: \u001b[0mWARNING  D:\\019.\\2.Validation\\valid_road\\images\\BLD10541_PS3_K3A_NIA0389.png: ignoring corrupt image/label: non-normalized or out of bounds coordinates [     1.0012]\n",
      "\u001b[34m\u001b[1mval: \u001b[0mWARNING  D:\\019.\\2.Validation\\valid_road\\images\\BLD10541_PS3_K3A_NIA0389_1.png: ignoring corrupt image/label: non-normalized or out of bounds coordinates [     1.0012]\n",
      "\u001b[34m\u001b[1mval: \u001b[0mWARNING  D:\\019.\\2.Validation\\valid_road\\images\\BLD10541_PS3_K3A_NIA0389_1_2.png: ignoring corrupt image/label: non-normalized or out of bounds coordinates [     1.0012]\n",
      "\u001b[34m\u001b[1mval: \u001b[0mWARNING  D:\\019.\\2.Validation\\valid_road\\images\\BLD10878_PS3_K3A_NIA0389.png: ignoring corrupt image/label: non-normalized or out of bounds coordinates [     1.0007      1.0002]\n",
      "\u001b[34m\u001b[1mval: \u001b[0mWARNING  D:\\019.\\2.Validation\\valid_road\\images\\BLD10878_PS3_K3A_NIA0389_1.png: ignoring corrupt image/label: non-normalized or out of bounds coordinates [     1.0007      1.0002]\n",
      "\u001b[34m\u001b[1mval: \u001b[0mWARNING  D:\\019.\\2.Validation\\valid_road\\images\\BLD10878_PS3_K3A_NIA0389_1_2.png: ignoring corrupt image/label: non-normalized or out of bounds coordinates [     1.0007      1.0002]\n",
      "\u001b[34m\u001b[1mval: \u001b[0mWARNING  D:\\019.\\2.Validation\\valid_road\\images\\BLD11131_PS3_K3A_NIA0389.png: ignoring corrupt image/label: non-normalized or out of bounds coordinates [     1.0004]\n",
      "\u001b[34m\u001b[1mval: \u001b[0mWARNING  D:\\019.\\2.Validation\\valid_road\\images\\BLD11131_PS3_K3A_NIA0389_1.png: ignoring corrupt image/label: non-normalized or out of bounds coordinates [     1.0004]\n",
      "\u001b[34m\u001b[1mval: \u001b[0mWARNING  D:\\019.\\2.Validation\\valid_road\\images\\BLD11131_PS3_K3A_NIA0389_1_2.png: ignoring corrupt image/label: non-normalized or out of bounds coordinates [     1.0004]\n",
      "\u001b[34m\u001b[1mval: \u001b[0mWARNING  D:\\019.\\2.Validation\\valid_road\\images\\BLD11154_PS3_K3A_NIA0390.png: ignoring corrupt image/label: non-normalized or out of bounds coordinates [     1.0078]\n",
      "\u001b[34m\u001b[1mval: \u001b[0mWARNING  D:\\019.\\2.Validation\\valid_road\\images\\BLD11154_PS3_K3A_NIA0390_1.png: ignoring corrupt image/label: non-normalized or out of bounds coordinates [     1.0078]\n",
      "\u001b[34m\u001b[1mval: \u001b[0mWARNING  D:\\019.\\2.Validation\\valid_road\\images\\BLD11154_PS3_K3A_NIA0390_1_2.png: ignoring corrupt image/label: non-normalized or out of bounds coordinates [     1.0078]\n",
      "\u001b[34m\u001b[1mval: \u001b[0mWARNING  D:\\019.\\2.Validation\\valid_road\\images\\BLD11213_PS3_K3A_NIA0390.png: ignoring corrupt image/label: non-normalized or out of bounds coordinates [     1.0004]\n",
      "\u001b[34m\u001b[1mval: \u001b[0mWARNING  D:\\019.\\2.Validation\\valid_road\\images\\BLD11213_PS3_K3A_NIA0390_1.png: ignoring corrupt image/label: non-normalized or out of bounds coordinates [     1.0004]\n",
      "\u001b[34m\u001b[1mval: \u001b[0mWARNING  D:\\019.\\2.Validation\\valid_road\\images\\BLD11213_PS3_K3A_NIA0390_1_2.png: ignoring corrupt image/label: non-normalized or out of bounds coordinates [     1.0004]\n",
      "\u001b[34m\u001b[1mval: \u001b[0mWARNING  D:\\019.\\2.Validation\\valid_road\\images\\BLD11822_PS3_K3A_NIA0391.png: ignoring corrupt image/label: non-normalized or out of bounds coordinates [     1.0038      1.0014]\n",
      "\u001b[34m\u001b[1mval: \u001b[0mWARNING  D:\\019.\\2.Validation\\valid_road\\images\\BLD11822_PS3_K3A_NIA0391_1.png: ignoring corrupt image/label: non-normalized or out of bounds coordinates [     1.0038      1.0014]\n",
      "\u001b[34m\u001b[1mval: \u001b[0mWARNING  D:\\019.\\2.Validation\\valid_road\\images\\BLD11822_PS3_K3A_NIA0391_1_2.png: ignoring corrupt image/label: non-normalized or out of bounds coordinates [     1.0038      1.0014]\n",
      "\u001b[34m\u001b[1mval: \u001b[0mWARNING  D:\\019.\\2.Validation\\valid_road\\images\\BLD12006_PS3_K3A_NIA0391.png: ignoring corrupt image/label: non-normalized or out of bounds coordinates [     1.0003]\n",
      "\u001b[34m\u001b[1mval: \u001b[0mWARNING  D:\\019.\\2.Validation\\valid_road\\images\\BLD12006_PS3_K3A_NIA0391_1.png: ignoring corrupt image/label: non-normalized or out of bounds coordinates [     1.0003]\n",
      "\u001b[34m\u001b[1mval: \u001b[0mWARNING  D:\\019.\\2.Validation\\valid_road\\images\\BLD12006_PS3_K3A_NIA0391_1_2.png: ignoring corrupt image/label: non-normalized or out of bounds coordinates [     1.0003]\n",
      "\u001b[34m\u001b[1mval: \u001b[0mWARNING  D:\\019.\\2.Validation\\valid_road\\images\\BLD12071_PS3_K3A_NIA0391.png: ignoring corrupt image/label: non-normalized or out of bounds coordinates [     1.0016]\n",
      "\u001b[34m\u001b[1mval: \u001b[0mWARNING  D:\\019.\\2.Validation\\valid_road\\images\\BLD12071_PS3_K3A_NIA0391_1.png: ignoring corrupt image/label: non-normalized or out of bounds coordinates [     1.0016]\n",
      "\u001b[34m\u001b[1mval: \u001b[0mWARNING  D:\\019.\\2.Validation\\valid_road\\images\\BLD12071_PS3_K3A_NIA0391_1_2.png: ignoring corrupt image/label: non-normalized or out of bounds coordinates [     1.0016]\n",
      "\u001b[34m\u001b[1mval: \u001b[0mWARNING  D:\\019.\\2.Validation\\valid_road\\images\\BLD12257_PS3_K3A_NIA0391.png: ignoring corrupt image/label: non-normalized or out of bounds coordinates [     1.0002]\n",
      "\u001b[34m\u001b[1mval: \u001b[0mWARNING  D:\\019.\\2.Validation\\valid_road\\images\\BLD12257_PS3_K3A_NIA0391_1.png: ignoring corrupt image/label: non-normalized or out of bounds coordinates [     1.0002]\n",
      "\u001b[34m\u001b[1mval: \u001b[0mWARNING  D:\\019.\\2.Validation\\valid_road\\images\\BLD12257_PS3_K3A_NIA0391_1_2.png: ignoring corrupt image/label: non-normalized or out of bounds coordinates [     1.0002]\n",
      "Plotting labels to runs\\segment\\train3\\labels.jpg... \n"
     ]
    },
    {
     "name": "stderr",
     "output_type": "stream",
     "text": [
      "\n"
     ]
    },
    {
     "name": "stdout",
     "output_type": "stream",
     "text": [
      "\u001b[34m\u001b[1moptimizer:\u001b[0m 'optimizer=auto' found, ignoring 'lr0=0.01' and 'momentum=0.937' and determining best 'optimizer', 'lr0' and 'momentum' automatically... \n",
      "\u001b[34m\u001b[1moptimizer:\u001b[0m AdamW(lr=0.002, momentum=0.9) with parameter groups 176 weight(decay=0.0), 187 weight(decay=0.0005), 186 bias(decay=0.0)\n",
      "Image sizes 640 train, 640 val\n",
      "Using 0 dataloader workers\n",
      "Logging results to \u001b[1mruns\\segment\\train3\u001b[0m\n",
      "Starting training for 50 epochs...\n",
      "\n",
      "      Epoch    GPU_mem   box_loss   seg_loss   cls_loss   dfl_loss  Instances       Size\n"
     ]
    },
    {
     "name": "stderr",
     "output_type": "stream",
     "text": [
      "       1/50      12.2G     0.0146      0.022      2.176      2.003        338        640: 100%|██████████| 306/306 [18:19<00:00,  3.59s/it]\n",
      "                 Class     Images  Instances      Box(P          R      mAP50  mAP50-95)     Mask(P          R      mAP50  mAP50-95): 100%|██████████| 51/51 [21:37<00:00, 25.44s/it]"
     ]
    },
    {
     "name": "stdout",
     "output_type": "stream",
     "text": [
      "                   all        807      26754      0.087     0.0926     0.0342     0.0115     0.0142     0.0214     0.0029   0.000669\n"
     ]
    },
    {
     "name": "stderr",
     "output_type": "stream",
     "text": [
      "\n"
     ]
    },
    {
     "name": "stdout",
     "output_type": "stream",
     "text": [
      "\n",
      "      Epoch    GPU_mem   box_loss   seg_loss   cls_loss   dfl_loss  Instances       Size\n"
     ]
    },
    {
     "name": "stderr",
     "output_type": "stream",
     "text": [
      "       2/50      12.5G    0.01452    0.02151      2.176      2.014        251        640: 100%|██████████| 306/306 [17:09<00:00,  3.36s/it]\n",
      "                 Class     Images  Instances      Box(P          R      mAP50  mAP50-95)     Mask(P          R      mAP50  mAP50-95): 100%|██████████| 51/51 [02:03<00:00,  2.41s/it]"
     ]
    },
    {
     "name": "stdout",
     "output_type": "stream",
     "text": [
      "                   all        807      26754      0.194      0.176     0.0876     0.0313     0.0806     0.0828     0.0168    0.00428\n"
     ]
    },
    {
     "name": "stderr",
     "output_type": "stream",
     "text": [
      "\n"
     ]
    },
    {
     "name": "stdout",
     "output_type": "stream",
     "text": [
      "\n",
      "      Epoch    GPU_mem   box_loss   seg_loss   cls_loss   dfl_loss  Instances       Size\n"
     ]
    },
    {
     "name": "stderr",
     "output_type": "stream",
     "text": [
      "       3/50      12.5G    0.01395    0.02114      2.119      1.951        227        640: 100%|██████████| 306/306 [12:20<00:00,  2.42s/it]\n",
      "                 Class     Images  Instances      Box(P          R      mAP50  mAP50-95)     Mask(P          R      mAP50  mAP50-95): 100%|██████████| 51/51 [19:03<00:00, 22.43s/it]"
     ]
    },
    {
     "name": "stdout",
     "output_type": "stream",
     "text": [
      "                   all        807      26754      0.239      0.176      0.109      0.041     0.0882     0.0658     0.0175    0.00416\n"
     ]
    },
    {
     "name": "stderr",
     "output_type": "stream",
     "text": [
      "\n"
     ]
    },
    {
     "name": "stdout",
     "output_type": "stream",
     "text": [
      "\n",
      "      Epoch    GPU_mem   box_loss   seg_loss   cls_loss   dfl_loss  Instances       Size\n"
     ]
    },
    {
     "name": "stderr",
     "output_type": "stream",
     "text": [
      "       4/50      12.4G    0.01347    0.02067      2.041      1.892        445        640: 100%|██████████| 306/306 [17:16<00:00,  3.39s/it]\n",
      "                 Class     Images  Instances      Box(P          R      mAP50  mAP50-95)     Mask(P          R      mAP50  mAP50-95): 100%|██████████| 51/51 [02:47<00:00,  3.29s/it]"
     ]
    },
    {
     "name": "stdout",
     "output_type": "stream",
     "text": [
      "                   all        807      26754      0.199      0.146     0.0843     0.0335       0.07     0.0553     0.0165    0.00416\n"
     ]
    },
    {
     "name": "stderr",
     "output_type": "stream",
     "text": [
      "\n"
     ]
    },
    {
     "name": "stdout",
     "output_type": "stream",
     "text": [
      "\n",
      "      Epoch    GPU_mem   box_loss   seg_loss   cls_loss   dfl_loss  Instances       Size\n"
     ]
    },
    {
     "name": "stderr",
     "output_type": "stream",
     "text": [
      "       5/50      12.5G    0.01315    0.02031      2.004      1.865        202        640: 100%|██████████| 306/306 [12:11<00:00,  2.39s/it]\n",
      "                 Class     Images  Instances      Box(P          R      mAP50  mAP50-95)     Mask(P          R      mAP50  mAP50-95): 100%|██████████| 51/51 [18:55<00:00, 22.27s/it]"
     ]
    },
    {
     "name": "stdout",
     "output_type": "stream",
     "text": [
      "                   all        807      26754      0.266      0.172      0.115     0.0453      0.105     0.0696      0.019     0.0053\n"
     ]
    },
    {
     "name": "stderr",
     "output_type": "stream",
     "text": [
      "\n"
     ]
    },
    {
     "name": "stdout",
     "output_type": "stream",
     "text": [
      "\n",
      "      Epoch    GPU_mem   box_loss   seg_loss   cls_loss   dfl_loss  Instances       Size\n"
     ]
    },
    {
     "name": "stderr",
     "output_type": "stream",
     "text": [
      "       6/50      12.6G    0.01275    0.01987      1.939      1.817        234        640: 100%|██████████| 306/306 [12:20<00:00,  2.42s/it]\n",
      "                 Class     Images  Instances      Box(P          R      mAP50  mAP50-95)     Mask(P          R      mAP50  mAP50-95): 100%|██████████| 51/51 [03:19<00:00,  3.92s/it]"
     ]
    },
    {
     "name": "stdout",
     "output_type": "stream",
     "text": [
      "                   all        807      26754      0.277      0.216      0.138     0.0569      0.128     0.0991      0.029    0.00776\n"
     ]
    },
    {
     "name": "stderr",
     "output_type": "stream",
     "text": [
      "\n"
     ]
    },
    {
     "name": "stdout",
     "output_type": "stream",
     "text": [
      "\n",
      "      Epoch    GPU_mem   box_loss   seg_loss   cls_loss   dfl_loss  Instances       Size\n"
     ]
    },
    {
     "name": "stderr",
     "output_type": "stream",
     "text": [
      "       7/50      12.6G    0.01242    0.01955      1.881      1.779        278        640: 100%|██████████| 306/306 [09:53<00:00,  1.94s/it]\n",
      "                 Class     Images  Instances      Box(P          R      mAP50  mAP50-95)     Mask(P          R      mAP50  mAP50-95): 100%|██████████| 51/51 [21:41<00:00, 25.52s/it]"
     ]
    },
    {
     "name": "stdout",
     "output_type": "stream",
     "text": [
      "                   all        807      26754      0.277      0.184      0.123     0.0498       0.11     0.0771     0.0216    0.00601\n"
     ]
    },
    {
     "name": "stderr",
     "output_type": "stream",
     "text": [
      "\n"
     ]
    },
    {
     "name": "stdout",
     "output_type": "stream",
     "text": [
      "\n",
      "      Epoch    GPU_mem   box_loss   seg_loss   cls_loss   dfl_loss  Instances       Size\n"
     ]
    },
    {
     "name": "stderr",
     "output_type": "stream",
     "text": [
      "       8/50      12.3G    0.01228    0.01937      1.863      1.759        284        640: 100%|██████████| 306/306 [15:37<00:00,  3.06s/it]\n",
      "                 Class     Images  Instances      Box(P          R      mAP50  mAP50-95)     Mask(P          R      mAP50  mAP50-95): 100%|██████████| 51/51 [03:45<00:00,  4.41s/it]"
     ]
    },
    {
     "name": "stdout",
     "output_type": "stream",
     "text": [
      "                   all        807      26754      0.283      0.227      0.145     0.0622      0.117      0.105     0.0303    0.00759\n"
     ]
    },
    {
     "name": "stderr",
     "output_type": "stream",
     "text": [
      "\n"
     ]
    },
    {
     "name": "stdout",
     "output_type": "stream",
     "text": [
      "\n",
      "      Epoch    GPU_mem   box_loss   seg_loss   cls_loss   dfl_loss  Instances       Size\n"
     ]
    },
    {
     "name": "stderr",
     "output_type": "stream",
     "text": [
      "       9/50      12.7G    0.01211    0.01914      1.862      1.742        235        640: 100%|██████████| 306/306 [12:00<00:00,  2.36s/it]\n",
      "                 Class     Images  Instances      Box(P          R      mAP50  mAP50-95)     Mask(P          R      mAP50  mAP50-95): 100%|██████████| 51/51 [20:50<00:00, 24.52s/it]"
     ]
    },
    {
     "name": "stdout",
     "output_type": "stream",
     "text": [
      "                   all        807      26754      0.293       0.21      0.147     0.0649      0.146      0.102     0.0338    0.00959\n"
     ]
    },
    {
     "name": "stderr",
     "output_type": "stream",
     "text": [
      "\n"
     ]
    },
    {
     "name": "stdout",
     "output_type": "stream",
     "text": [
      "\n",
      "      Epoch    GPU_mem   box_loss   seg_loss   cls_loss   dfl_loss  Instances       Size\n"
     ]
    },
    {
     "name": "stderr",
     "output_type": "stream",
     "text": [
      "      10/50      12.5G     0.0119    0.01893      1.832      1.714        307        640: 100%|██████████| 306/306 [10:34<00:00,  2.07s/it]\n",
      "                 Class     Images  Instances      Box(P          R      mAP50  mAP50-95)     Mask(P          R      mAP50  mAP50-95): 100%|██████████| 51/51 [03:45<00:00,  4.43s/it]"
     ]
    },
    {
     "name": "stdout",
     "output_type": "stream",
     "text": [
      "                   all        807      26754      0.305      0.236      0.162     0.0691      0.141      0.113     0.0376     0.0099\n"
     ]
    },
    {
     "name": "stderr",
     "output_type": "stream",
     "text": [
      "\n"
     ]
    },
    {
     "name": "stdout",
     "output_type": "stream",
     "text": [
      "\n",
      "      Epoch    GPU_mem   box_loss   seg_loss   cls_loss   dfl_loss  Instances       Size\n"
     ]
    },
    {
     "name": "stderr",
     "output_type": "stream",
     "text": [
      "      11/50      12.5G    0.01171    0.01875      1.788      1.697        212        640: 100%|██████████| 306/306 [12:12<00:00,  2.39s/it]\n",
      "                 Class     Images  Instances      Box(P          R      mAP50  mAP50-95)     Mask(P          R      mAP50  mAP50-95): 100%|██████████| 51/51 [19:28<00:00, 22.92s/it]"
     ]
    },
    {
     "name": "stdout",
     "output_type": "stream",
     "text": [
      "                   all        807      26754      0.315      0.235       0.17     0.0761      0.153       0.11     0.0358    0.00987\n"
     ]
    },
    {
     "name": "stderr",
     "output_type": "stream",
     "text": [
      "\n"
     ]
    },
    {
     "name": "stdout",
     "output_type": "stream",
     "text": [
      "\n",
      "      Epoch    GPU_mem   box_loss   seg_loss   cls_loss   dfl_loss  Instances       Size\n"
     ]
    },
    {
     "name": "stderr",
     "output_type": "stream",
     "text": [
      "      12/50      12.6G    0.01164    0.01859      1.772      1.687        216        640: 100%|██████████| 306/306 [11:11<00:00,  2.20s/it]\n",
      "                 Class     Images  Instances      Box(P          R      mAP50  mAP50-95)     Mask(P          R      mAP50  mAP50-95): 100%|██████████| 51/51 [03:09<00:00,  3.72s/it]"
     ]
    },
    {
     "name": "stdout",
     "output_type": "stream",
     "text": [
      "                   all        807      26754      0.312      0.251      0.177     0.0792      0.145      0.123     0.0407     0.0106\n"
     ]
    },
    {
     "name": "stderr",
     "output_type": "stream",
     "text": [
      "\n"
     ]
    },
    {
     "name": "stdout",
     "output_type": "stream",
     "text": [
      "\n",
      "      Epoch    GPU_mem   box_loss   seg_loss   cls_loss   dfl_loss  Instances       Size\n"
     ]
    },
    {
     "name": "stderr",
     "output_type": "stream",
     "text": [
      "      13/50      12.4G    0.01144    0.01847      1.739       1.67        273        640:  84%|████████▍ | 258/306 [07:57<01:31,  1.91s/it]C:\\Users\\kkm\\ultralytics\\ultralytics\\data\\augment.py:1144: RuntimeWarning: divide by zero encountered in divide\n",
      "  xy = xy[:, :2] / xy[:, 2:3]\n",
      "      13/50      12.4G    0.01144    0.01844      1.742       1.67        154        640: 100%|██████████| 306/306 [09:28<00:00,  1.86s/it]\n",
      "                 Class     Images  Instances      Box(P          R      mAP50  mAP50-95)     Mask(P          R      mAP50  mAP50-95): 100%|██████████| 51/51 [20:05<00:00, 23.64s/it]"
     ]
    },
    {
     "name": "stdout",
     "output_type": "stream",
     "text": [
      "                   all        807      26754      0.318      0.244      0.173     0.0778      0.165      0.127     0.0427     0.0114\n"
     ]
    },
    {
     "name": "stderr",
     "output_type": "stream",
     "text": [
      "\n"
     ]
    },
    {
     "name": "stdout",
     "output_type": "stream",
     "text": [
      "\n",
      "      Epoch    GPU_mem   box_loss   seg_loss   cls_loss   dfl_loss  Instances       Size\n"
     ]
    },
    {
     "name": "stderr",
     "output_type": "stream",
     "text": [
      "      14/50      12.5G    0.01143    0.01834      1.731      1.663        321        640: 100%|██████████| 306/306 [09:58<00:00,  1.95s/it]\n",
      "                 Class     Images  Instances      Box(P          R      mAP50  mAP50-95)     Mask(P          R      mAP50  mAP50-95): 100%|██████████| 51/51 [02:58<00:00,  3.50s/it]"
     ]
    },
    {
     "name": "stdout",
     "output_type": "stream",
     "text": [
      "                   all        807      26754      0.319      0.263      0.186     0.0839      0.161      0.132      0.046     0.0121\n"
     ]
    },
    {
     "name": "stderr",
     "output_type": "stream",
     "text": [
      "\n"
     ]
    },
    {
     "name": "stdout",
     "output_type": "stream",
     "text": [
      "\n",
      "      Epoch    GPU_mem   box_loss   seg_loss   cls_loss   dfl_loss  Instances       Size\n"
     ]
    },
    {
     "name": "stderr",
     "output_type": "stream",
     "text": [
      "      15/50      12.4G    0.01123    0.01815      1.734      1.655        213        640: 100%|██████████| 306/306 [09:58<00:00,  1.96s/it]\n",
      "                 Class     Images  Instances      Box(P          R      mAP50  mAP50-95)     Mask(P          R      mAP50  mAP50-95): 100%|██████████| 51/51 [18:49<00:00, 22.15s/it]"
     ]
    },
    {
     "name": "stdout",
     "output_type": "stream",
     "text": [
      "                   all        807      26754      0.307      0.227      0.162     0.0761       0.17      0.124     0.0465     0.0131\n"
     ]
    },
    {
     "name": "stderr",
     "output_type": "stream",
     "text": [
      "\n"
     ]
    },
    {
     "name": "stdout",
     "output_type": "stream",
     "text": [
      "\n",
      "      Epoch    GPU_mem   box_loss   seg_loss   cls_loss   dfl_loss  Instances       Size\n"
     ]
    },
    {
     "name": "stderr",
     "output_type": "stream",
     "text": [
      "      16/50      12.4G    0.01118    0.01799      1.695      1.638        306        640: 100%|██████████| 306/306 [11:36<00:00,  2.28s/it]\n",
      "                 Class     Images  Instances      Box(P          R      mAP50  mAP50-95)     Mask(P          R      mAP50  mAP50-95): 100%|██████████| 51/51 [02:49<00:00,  3.32s/it]"
     ]
    },
    {
     "name": "stdout",
     "output_type": "stream",
     "text": [
      "                   all        807      26754      0.324      0.269      0.184     0.0821       0.18      0.138      0.054     0.0146\n"
     ]
    },
    {
     "name": "stderr",
     "output_type": "stream",
     "text": [
      "\n"
     ]
    },
    {
     "name": "stdout",
     "output_type": "stream",
     "text": [
      "\n",
      "      Epoch    GPU_mem   box_loss   seg_loss   cls_loss   dfl_loss  Instances       Size\n"
     ]
    },
    {
     "name": "stderr",
     "output_type": "stream",
     "text": [
      "      17/50      12.3G    0.01102    0.01762      1.658      1.627        258        640:  47%|████▋     | 144/306 [04:26<08:15,  3.06s/it]C:\\Users\\kkm\\ultralytics\\ultralytics\\data\\augment.py:1144: RuntimeWarning: divide by zero encountered in divide\n",
      "  xy = xy[:, :2] / xy[:, 2:3]\n",
      "      17/50      12.3G    0.01118    0.01786      1.686      1.642        354        640: 100%|██████████| 306/306 [14:15<00:00,  2.79s/it]\n",
      "                 Class     Images  Instances      Box(P          R      mAP50  mAP50-95)     Mask(P          R      mAP50  mAP50-95): 100%|██████████| 51/51 [19:08<00:00, 22.53s/it]"
     ]
    },
    {
     "name": "stdout",
     "output_type": "stream",
     "text": [
      "                   all        807      26754       0.32      0.245      0.177       0.08      0.139      0.114     0.0377     0.0113\n"
     ]
    },
    {
     "name": "stderr",
     "output_type": "stream",
     "text": [
      "\n"
     ]
    },
    {
     "name": "stdout",
     "output_type": "stream",
     "text": [
      "\n",
      "      Epoch    GPU_mem   box_loss   seg_loss   cls_loss   dfl_loss  Instances       Size\n"
     ]
    },
    {
     "name": "stderr",
     "output_type": "stream",
     "text": [
      "      18/50      12.9G    0.01099    0.01779      1.672      1.619        271        640: 100%|██████████| 306/306 [24:51<00:00,  4.87s/it]\n",
      "                 Class     Images  Instances      Box(P          R      mAP50  mAP50-95)     Mask(P          R      mAP50  mAP50-95): 100%|██████████| 51/51 [02:41<00:00,  3.17s/it]"
     ]
    },
    {
     "name": "stdout",
     "output_type": "stream",
     "text": [
      "                   all        807      26754      0.335      0.245      0.183     0.0859      0.191      0.136     0.0565     0.0157\n"
     ]
    },
    {
     "name": "stderr",
     "output_type": "stream",
     "text": [
      "\n"
     ]
    },
    {
     "name": "stdout",
     "output_type": "stream",
     "text": [
      "\n",
      "      Epoch    GPU_mem   box_loss   seg_loss   cls_loss   dfl_loss  Instances       Size\n"
     ]
    },
    {
     "name": "stderr",
     "output_type": "stream",
     "text": [
      "      19/50      12.4G    0.01093    0.01766      1.673      1.619        336        640: 100%|██████████| 306/306 [09:28<00:00,  1.86s/it]\n",
      "                 Class     Images  Instances      Box(P          R      mAP50  mAP50-95)     Mask(P          R      mAP50  mAP50-95): 100%|██████████| 51/51 [19:12<00:00, 22.60s/it]"
     ]
    },
    {
     "name": "stdout",
     "output_type": "stream",
     "text": [
      "                   all        807      26754      0.352      0.262      0.196     0.0937      0.179      0.134     0.0531     0.0155\n"
     ]
    },
    {
     "name": "stderr",
     "output_type": "stream",
     "text": [
      "\n"
     ]
    },
    {
     "name": "stdout",
     "output_type": "stream",
     "text": [
      "\n",
      "      Epoch    GPU_mem   box_loss   seg_loss   cls_loss   dfl_loss  Instances       Size\n"
     ]
    },
    {
     "name": "stderr",
     "output_type": "stream",
     "text": [
      "      20/50      12.8G    0.01073    0.01754      1.655      1.595        190        640: 100%|██████████| 306/306 [10:31<00:00,  2.06s/it]\n",
      "                 Class     Images  Instances      Box(P          R      mAP50  mAP50-95)     Mask(P          R      mAP50  mAP50-95): 100%|██████████| 51/51 [03:33<00:00,  4.18s/it]"
     ]
    },
    {
     "name": "stdout",
     "output_type": "stream",
     "text": [
      "                   all        807      26754      0.335      0.275      0.198     0.0923      0.169      0.146     0.0547     0.0164\n"
     ]
    },
    {
     "name": "stderr",
     "output_type": "stream",
     "text": [
      "\n"
     ]
    },
    {
     "name": "stdout",
     "output_type": "stream",
     "text": [
      "\n",
      "      Epoch    GPU_mem   box_loss   seg_loss   cls_loss   dfl_loss  Instances       Size\n"
     ]
    },
    {
     "name": "stderr",
     "output_type": "stream",
     "text": [
      "      21/50        13G    0.01081    0.01747      1.654        1.6        116        640: 100%|██████████| 306/306 [09:51<00:00,  1.93s/it]\n",
      "                 Class     Images  Instances      Box(P          R      mAP50  mAP50-95)     Mask(P          R      mAP50  mAP50-95): 100%|██████████| 51/51 [19:05<00:00, 22.47s/it]"
     ]
    },
    {
     "name": "stdout",
     "output_type": "stream",
     "text": [
      "                   all        807      26754      0.332      0.272      0.199     0.0955      0.192      0.152     0.0628     0.0184\n"
     ]
    },
    {
     "name": "stderr",
     "output_type": "stream",
     "text": [
      "\n"
     ]
    },
    {
     "name": "stdout",
     "output_type": "stream",
     "text": [
      "\n",
      "      Epoch    GPU_mem   box_loss   seg_loss   cls_loss   dfl_loss  Instances       Size\n"
     ]
    },
    {
     "name": "stderr",
     "output_type": "stream",
     "text": [
      "      22/50      12.6G    0.01078    0.01741      1.653      1.593        392        640: 100%|██████████| 306/306 [19:41<00:00,  3.86s/it]\n",
      "                 Class     Images  Instances      Box(P          R      mAP50  mAP50-95)     Mask(P          R      mAP50  mAP50-95): 100%|██████████| 51/51 [04:34<00:00,  5.39s/it]"
     ]
    },
    {
     "name": "stdout",
     "output_type": "stream",
     "text": [
      "                   all        807      26754      0.347       0.27      0.202     0.0958      0.195      0.149      0.062     0.0175\n"
     ]
    },
    {
     "name": "stderr",
     "output_type": "stream",
     "text": [
      "\n"
     ]
    },
    {
     "name": "stdout",
     "output_type": "stream",
     "text": [
      "\n",
      "      Epoch    GPU_mem   box_loss   seg_loss   cls_loss   dfl_loss  Instances       Size\n"
     ]
    },
    {
     "name": "stderr",
     "output_type": "stream",
     "text": [
      "      23/50      12.5G    0.01059     0.0173      1.622      1.579        335        640: 100%|██████████| 306/306 [12:23<00:00,  2.43s/it]\n",
      "                 Class     Images  Instances      Box(P          R      mAP50  mAP50-95)     Mask(P          R      mAP50  mAP50-95): 100%|██████████| 51/51 [20:34<00:00, 24.20s/it]"
     ]
    },
    {
     "name": "stdout",
     "output_type": "stream",
     "text": [
      "                   all        807      26754      0.328       0.27      0.191     0.0912      0.183      0.152     0.0591     0.0169\n"
     ]
    },
    {
     "name": "stderr",
     "output_type": "stream",
     "text": [
      "\n"
     ]
    },
    {
     "name": "stdout",
     "output_type": "stream",
     "text": [
      "\n",
      "      Epoch    GPU_mem   box_loss   seg_loss   cls_loss   dfl_loss  Instances       Size\n"
     ]
    },
    {
     "name": "stderr",
     "output_type": "stream",
     "text": [
      "      24/50      12.3G    0.01057    0.01722      1.611      1.572        264        640: 100%|██████████| 306/306 [09:16<00:00,  1.82s/it]\n",
      "                 Class     Images  Instances      Box(P          R      mAP50  mAP50-95)     Mask(P          R      mAP50  mAP50-95): 100%|██████████| 51/51 [02:48<00:00,  3.30s/it]"
     ]
    },
    {
     "name": "stdout",
     "output_type": "stream",
     "text": [
      "                   all        807      26754      0.319      0.262       0.19     0.0933      0.191      0.152     0.0624     0.0175\n"
     ]
    },
    {
     "name": "stderr",
     "output_type": "stream",
     "text": [
      "\n"
     ]
    },
    {
     "name": "stdout",
     "output_type": "stream",
     "text": [
      "\n",
      "      Epoch    GPU_mem   box_loss   seg_loss   cls_loss   dfl_loss  Instances       Size\n"
     ]
    },
    {
     "name": "stderr",
     "output_type": "stream",
     "text": [
      "      25/50      12.5G    0.01052    0.01716      1.613      1.575        228        640: 100%|██████████| 306/306 [16:30<00:00,  3.24s/it]\n",
      "                 Class     Images  Instances      Box(P          R      mAP50  mAP50-95)     Mask(P          R      mAP50  mAP50-95): 100%|██████████| 51/51 [18:59<00:00, 22.35s/it]"
     ]
    },
    {
     "name": "stdout",
     "output_type": "stream",
     "text": [
      "                   all        807      26754       0.35      0.258        0.2     0.0961      0.193      0.143     0.0587     0.0157\n"
     ]
    },
    {
     "name": "stderr",
     "output_type": "stream",
     "text": [
      "\n"
     ]
    },
    {
     "name": "stdout",
     "output_type": "stream",
     "text": [
      "\n",
      "      Epoch    GPU_mem   box_loss   seg_loss   cls_loss   dfl_loss  Instances       Size\n"
     ]
    },
    {
     "name": "stderr",
     "output_type": "stream",
     "text": [
      "      26/50      13.1G    0.01043    0.01706      1.591      1.561        264        640: 100%|██████████| 306/306 [12:24<00:00,  2.43s/it]\n",
      "                 Class     Images  Instances      Box(P          R      mAP50  mAP50-95)     Mask(P          R      mAP50  mAP50-95): 100%|██████████| 51/51 [03:52<00:00,  4.55s/it]"
     ]
    },
    {
     "name": "stdout",
     "output_type": "stream",
     "text": [
      "                   all        807      26754      0.356      0.279       0.21      0.102      0.207       0.16     0.0692     0.0194\n"
     ]
    },
    {
     "name": "stderr",
     "output_type": "stream",
     "text": [
      "\n"
     ]
    },
    {
     "name": "stdout",
     "output_type": "stream",
     "text": [
      "\n",
      "      Epoch    GPU_mem   box_loss   seg_loss   cls_loss   dfl_loss  Instances       Size\n"
     ]
    },
    {
     "name": "stderr",
     "output_type": "stream",
     "text": [
      "      27/50      12.6G     0.0104    0.01708      1.596      1.557         95        640: 100%|██████████| 306/306 [11:46<00:00,  2.31s/it]\n",
      "                 Class     Images  Instances      Box(P          R      mAP50  mAP50-95)     Mask(P          R      mAP50  mAP50-95): 100%|██████████| 51/51 [18:53<00:00, 22.23s/it]"
     ]
    },
    {
     "name": "stdout",
     "output_type": "stream",
     "text": [
      "                   all        807      26754      0.363      0.281      0.214      0.105      0.216      0.163     0.0687     0.0204\n"
     ]
    },
    {
     "name": "stderr",
     "output_type": "stream",
     "text": [
      "\n"
     ]
    },
    {
     "name": "stdout",
     "output_type": "stream",
     "text": [
      "\n",
      "      Epoch    GPU_mem   box_loss   seg_loss   cls_loss   dfl_loss  Instances       Size\n"
     ]
    },
    {
     "name": "stderr",
     "output_type": "stream",
     "text": [
      "      28/50      12.4G    0.01031    0.01698      1.574      1.553        294        640: 100%|██████████| 306/306 [08:58<00:00,  1.76s/it]\n",
      "                 Class     Images  Instances      Box(P          R      mAP50  mAP50-95)     Mask(P          R      mAP50  mAP50-95): 100%|██████████| 51/51 [02:40<00:00,  3.14s/it]"
     ]
    },
    {
     "name": "stdout",
     "output_type": "stream",
     "text": [
      "                   all        807      26754      0.348      0.273      0.201     0.0981      0.206      0.165     0.0687     0.0202\n"
     ]
    },
    {
     "name": "stderr",
     "output_type": "stream",
     "text": [
      "\n"
     ]
    },
    {
     "name": "stdout",
     "output_type": "stream",
     "text": [
      "\n",
      "      Epoch    GPU_mem   box_loss   seg_loss   cls_loss   dfl_loss  Instances       Size\n"
     ]
    },
    {
     "name": "stderr",
     "output_type": "stream",
     "text": [
      "      29/50      12.7G    0.01036    0.01706      1.582      1.553        181        640: 100%|██████████| 306/306 [16:13<00:00,  3.18s/it]\n",
      "                 Class     Images  Instances      Box(P          R      mAP50  mAP50-95)     Mask(P          R      mAP50  mAP50-95): 100%|██████████| 51/51 [19:03<00:00, 22.41s/it]"
     ]
    },
    {
     "name": "stdout",
     "output_type": "stream",
     "text": [
      "                   all        807      26754       0.37      0.295      0.224       0.11       0.22      0.175     0.0762     0.0225\n"
     ]
    },
    {
     "name": "stderr",
     "output_type": "stream",
     "text": [
      "\n"
     ]
    },
    {
     "name": "stdout",
     "output_type": "stream",
     "text": [
      "\n",
      "      Epoch    GPU_mem   box_loss   seg_loss   cls_loss   dfl_loss  Instances       Size\n"
     ]
    },
    {
     "name": "stderr",
     "output_type": "stream",
     "text": [
      "      30/50      12.6G    0.01022    0.01678      1.562       1.54        187        640: 100%|██████████| 306/306 [16:13<00:00,  3.18s/it]\n",
      "                 Class     Images  Instances      Box(P          R      mAP50  mAP50-95)     Mask(P          R      mAP50  mAP50-95): 100%|██████████| 51/51 [02:42<00:00,  3.19s/it]"
     ]
    },
    {
     "name": "stdout",
     "output_type": "stream",
     "text": [
      "                   all        807      26754      0.357      0.274      0.209      0.102      0.211       0.16     0.0663     0.0187\n"
     ]
    },
    {
     "name": "stderr",
     "output_type": "stream",
     "text": [
      "\n"
     ]
    },
    {
     "name": "stdout",
     "output_type": "stream",
     "text": [
      "\n",
      "      Epoch    GPU_mem   box_loss   seg_loss   cls_loss   dfl_loss  Instances       Size\n"
     ]
    },
    {
     "name": "stderr",
     "output_type": "stream",
     "text": [
      "      31/50      12.7G    0.01023    0.01678      1.549      1.541        495        640: 100%|██████████| 306/306 [14:18<00:00,  2.80s/it]\n",
      "                 Class     Images  Instances      Box(P          R      mAP50  mAP50-95)     Mask(P          R      mAP50  mAP50-95): 100%|██████████| 51/51 [19:07<00:00, 22.50s/it]"
     ]
    },
    {
     "name": "stdout",
     "output_type": "stream",
     "text": [
      "                   all        807      26754      0.358      0.278      0.211      0.104      0.224      0.171     0.0732     0.0212\n"
     ]
    },
    {
     "name": "stderr",
     "output_type": "stream",
     "text": [
      "\n"
     ]
    },
    {
     "name": "stdout",
     "output_type": "stream",
     "text": [
      "\n",
      "      Epoch    GPU_mem   box_loss   seg_loss   cls_loss   dfl_loss  Instances       Size\n"
     ]
    },
    {
     "name": "stderr",
     "output_type": "stream",
     "text": [
      "      32/50        13G    0.01021    0.01664      1.547      1.538        265        640: 100%|██████████| 306/306 [10:36<00:00,  2.08s/it]\n",
      "                 Class     Images  Instances      Box(P          R      mAP50  mAP50-95)     Mask(P          R      mAP50  mAP50-95): 100%|██████████| 51/51 [03:15<00:00,  3.84s/it]"
     ]
    },
    {
     "name": "stdout",
     "output_type": "stream",
     "text": [
      "                   all        807      26754      0.355       0.29      0.214      0.106       0.23      0.176     0.0761     0.0224\n"
     ]
    },
    {
     "name": "stderr",
     "output_type": "stream",
     "text": [
      "\n"
     ]
    },
    {
     "name": "stdout",
     "output_type": "stream",
     "text": [
      "\n",
      "      Epoch    GPU_mem   box_loss   seg_loss   cls_loss   dfl_loss  Instances       Size\n"
     ]
    },
    {
     "name": "stderr",
     "output_type": "stream",
     "text": [
      "      33/50      12.5G    0.01007    0.01662      1.549      1.521        321        640: 100%|██████████| 306/306 [11:35<00:00,  2.27s/it]\n",
      "                 Class     Images  Instances      Box(P          R      mAP50  mAP50-95)     Mask(P          R      mAP50  mAP50-95): 100%|██████████| 51/51 [18:39<00:00, 21.95s/it]"
     ]
    },
    {
     "name": "stdout",
     "output_type": "stream",
     "text": [
      "                   all        807      26754      0.361      0.293      0.227      0.112      0.209      0.172     0.0695     0.0204\n"
     ]
    },
    {
     "name": "stderr",
     "output_type": "stream",
     "text": [
      "\n"
     ]
    },
    {
     "name": "stdout",
     "output_type": "stream",
     "text": [
      "\n",
      "      Epoch    GPU_mem   box_loss   seg_loss   cls_loss   dfl_loss  Instances       Size\n"
     ]
    },
    {
     "name": "stderr",
     "output_type": "stream",
     "text": [
      "      34/50      12.3G    0.01008    0.01658       1.53      1.517        246        640: 100%|██████████| 306/306 [11:19<00:00,  2.22s/it]\n",
      "                 Class     Images  Instances      Box(P          R      mAP50  mAP50-95)     Mask(P          R      mAP50  mAP50-95): 100%|██████████| 51/51 [04:43<00:00,  5.55s/it]"
     ]
    },
    {
     "name": "stdout",
     "output_type": "stream",
     "text": [
      "                   all        807      26754      0.353      0.285      0.212      0.106      0.227      0.174     0.0798     0.0246\n"
     ]
    },
    {
     "name": "stderr",
     "output_type": "stream",
     "text": [
      "\n"
     ]
    },
    {
     "name": "stdout",
     "output_type": "stream",
     "text": [
      "\n",
      "      Epoch    GPU_mem   box_loss   seg_loss   cls_loss   dfl_loss  Instances       Size\n"
     ]
    },
    {
     "name": "stderr",
     "output_type": "stream",
     "text": [
      "      35/50      12.6G    0.01002     0.0165      1.513      1.518        156        640: 100%|██████████| 306/306 [09:20<00:00,  1.83s/it]\n",
      "                 Class     Images  Instances      Box(P          R      mAP50  mAP50-95)     Mask(P          R      mAP50  mAP50-95): 100%|██████████| 51/51 [19:02<00:00, 22.40s/it]"
     ]
    },
    {
     "name": "stdout",
     "output_type": "stream",
     "text": [
      "                   all        807      26754      0.375      0.289      0.221      0.111      0.224      0.172     0.0763     0.0236\n"
     ]
    },
    {
     "name": "stderr",
     "output_type": "stream",
     "text": [
      "\n"
     ]
    },
    {
     "name": "stdout",
     "output_type": "stream",
     "text": [
      "\n",
      "      Epoch    GPU_mem   box_loss   seg_loss   cls_loss   dfl_loss  Instances       Size\n"
     ]
    },
    {
     "name": "stderr",
     "output_type": "stream",
     "text": [
      "      36/50      12.9G   0.009977    0.01642      1.517      1.516        256        640: 100%|██████████| 306/306 [37:23<00:00,  7.33s/it]\n",
      "                 Class     Images  Instances      Box(P          R      mAP50  mAP50-95)     Mask(P          R      mAP50  mAP50-95): 100%|██████████| 51/51 [02:41<00:00,  3.17s/it]"
     ]
    },
    {
     "name": "stdout",
     "output_type": "stream",
     "text": [
      "                   all        807      26754      0.365      0.281      0.215      0.108      0.228      0.171     0.0794     0.0251\n"
     ]
    },
    {
     "name": "stderr",
     "output_type": "stream",
     "text": [
      "\n"
     ]
    },
    {
     "name": "stdout",
     "output_type": "stream",
     "text": [
      "\n",
      "      Epoch    GPU_mem   box_loss   seg_loss   cls_loss   dfl_loss  Instances       Size\n"
     ]
    },
    {
     "name": "stderr",
     "output_type": "stream",
     "text": [
      "      37/50      12.5G   0.009942    0.01639      1.517      1.505        423        640: 100%|██████████| 306/306 [18:36<00:00,  3.65s/it]\n",
      "                 Class     Images  Instances      Box(P          R      mAP50  mAP50-95)     Mask(P          R      mAP50  mAP50-95): 100%|██████████| 51/51 [21:43<00:00, 25.55s/it]"
     ]
    },
    {
     "name": "stdout",
     "output_type": "stream",
     "text": [
      "                   all        807      26754      0.363      0.276      0.218      0.108      0.221      0.162      0.074     0.0207\n"
     ]
    },
    {
     "name": "stderr",
     "output_type": "stream",
     "text": [
      "\n"
     ]
    },
    {
     "name": "stdout",
     "output_type": "stream",
     "text": [
      "\n",
      "      Epoch    GPU_mem   box_loss   seg_loss   cls_loss   dfl_loss  Instances       Size\n"
     ]
    },
    {
     "name": "stderr",
     "output_type": "stream",
     "text": [
      "      38/50      12.6G   0.009856    0.01637      1.497      1.499        323        640: 100%|██████████| 306/306 [18:11<00:00,  3.57s/it]\n",
      "                 Class     Images  Instances      Box(P          R      mAP50  mAP50-95)     Mask(P          R      mAP50  mAP50-95): 100%|██████████| 51/51 [02:35<00:00,  3.05s/it]"
     ]
    },
    {
     "name": "stdout",
     "output_type": "stream",
     "text": [
      "                   all        807      26754       0.37      0.294      0.229      0.113      0.213      0.179     0.0774     0.0236\n"
     ]
    },
    {
     "name": "stderr",
     "output_type": "stream",
     "text": [
      "\n"
     ]
    },
    {
     "name": "stdout",
     "output_type": "stream",
     "text": [
      "\n",
      "      Epoch    GPU_mem   box_loss   seg_loss   cls_loss   dfl_loss  Instances       Size\n"
     ]
    },
    {
     "name": "stderr",
     "output_type": "stream",
     "text": [
      "      39/50      12.4G   0.009894    0.01637      1.494      1.502        450        640: 100%|██████████| 306/306 [25:48<00:00,  5.06s/it]\n",
      "                 Class     Images  Instances      Box(P          R      mAP50  mAP50-95)     Mask(P          R      mAP50  mAP50-95): 100%|██████████| 51/51 [21:52<00:00, 25.73s/it]"
     ]
    },
    {
     "name": "stdout",
     "output_type": "stream",
     "text": [
      "                   all        807      26754      0.369      0.289      0.225      0.114      0.222      0.173     0.0804     0.0254\n"
     ]
    },
    {
     "name": "stderr",
     "output_type": "stream",
     "text": [
      "\n"
     ]
    },
    {
     "name": "stdout",
     "output_type": "stream",
     "text": [
      "\n",
      "      Epoch    GPU_mem   box_loss   seg_loss   cls_loss   dfl_loss  Instances       Size\n"
     ]
    },
    {
     "name": "stderr",
     "output_type": "stream",
     "text": [
      "      40/50      12.6G   0.009809    0.01627      1.481      1.491        190        640: 100%|██████████| 306/306 [18:11<00:00,  3.57s/it]\n",
      "                 Class     Images  Instances      Box(P          R      mAP50  mAP50-95)     Mask(P          R      mAP50  mAP50-95): 100%|██████████| 51/51 [03:37<00:00,  4.27s/it]"
     ]
    },
    {
     "name": "stdout",
     "output_type": "stream",
     "text": [
      "                   all        807      26754       0.36       0.28      0.215      0.107       0.22      0.171     0.0754     0.0235\n"
     ]
    },
    {
     "name": "stderr",
     "output_type": "stream",
     "text": [
      "\n"
     ]
    },
    {
     "name": "stdout",
     "output_type": "stream",
     "text": [
      "Closing dataloader mosaic\n",
      "\n",
      "      Epoch    GPU_mem   box_loss   seg_loss   cls_loss   dfl_loss  Instances       Size\n"
     ]
    },
    {
     "name": "stderr",
     "output_type": "stream",
     "text": [
      "      41/50      12.5G     0.0102    0.01602      1.643      1.577        122        640: 100%|██████████| 306/306 [13:22<00:00,  2.62s/it]\n",
      "                 Class     Images  Instances      Box(P          R      mAP50  mAP50-95)     Mask(P          R      mAP50  mAP50-95): 100%|██████████| 51/51 [21:30<00:00, 25.31s/it]"
     ]
    },
    {
     "name": "stdout",
     "output_type": "stream",
     "text": [
      "                   all        807      26754      0.361      0.297      0.228      0.114      0.224      0.184     0.0788     0.0219\n"
     ]
    },
    {
     "name": "stderr",
     "output_type": "stream",
     "text": [
      "\n"
     ]
    },
    {
     "name": "stdout",
     "output_type": "stream",
     "text": [
      "\n",
      "      Epoch    GPU_mem   box_loss   seg_loss   cls_loss   dfl_loss  Instances       Size\n"
     ]
    },
    {
     "name": "stderr",
     "output_type": "stream",
     "text": [
      "      42/50      12.2G    0.01016    0.01588      1.614      1.577        295        640: 100%|██████████| 306/306 [09:46<00:00,  1.92s/it]\n",
      "                 Class     Images  Instances      Box(P          R      mAP50  mAP50-95)     Mask(P          R      mAP50  mAP50-95): 100%|██████████| 51/51 [02:35<00:00,  3.05s/it]"
     ]
    },
    {
     "name": "stdout",
     "output_type": "stream",
     "text": [
      "                   all        807      26754      0.363      0.287       0.22      0.109      0.241      0.185     0.0843     0.0248\n"
     ]
    },
    {
     "name": "stderr",
     "output_type": "stream",
     "text": [
      "\n"
     ]
    },
    {
     "name": "stdout",
     "output_type": "stream",
     "text": [
      "\n",
      "      Epoch    GPU_mem   box_loss   seg_loss   cls_loss   dfl_loss  Instances       Size\n"
     ]
    },
    {
     "name": "stderr",
     "output_type": "stream",
     "text": [
      "      43/50      12.4G    0.01011    0.01588      1.599      1.568        206        640: 100%|██████████| 306/306 [14:25<00:00,  2.83s/it]\n",
      "                 Class     Images  Instances      Box(P          R      mAP50  mAP50-95)     Mask(P          R      mAP50  mAP50-95): 100%|██████████| 51/51 [21:27<00:00, 25.24s/it]"
     ]
    },
    {
     "name": "stdout",
     "output_type": "stream",
     "text": [
      "                   all        807      26754      0.359       0.28       0.22      0.111       0.22       0.17     0.0733     0.0206\n"
     ]
    },
    {
     "name": "stderr",
     "output_type": "stream",
     "text": [
      "\n"
     ]
    },
    {
     "name": "stdout",
     "output_type": "stream",
     "text": [
      "\n",
      "      Epoch    GPU_mem   box_loss   seg_loss   cls_loss   dfl_loss  Instances       Size\n"
     ]
    },
    {
     "name": "stderr",
     "output_type": "stream",
     "text": [
      "      44/50      12.1G   0.009944    0.01566      1.577      1.554         95        640: 100%|██████████| 306/306 [08:36<00:00,  1.69s/it]\n",
      "                 Class     Images  Instances      Box(P          R      mAP50  mAP50-95)     Mask(P          R      mAP50  mAP50-95): 100%|██████████| 51/51 [03:01<00:00,  3.57s/it]"
     ]
    },
    {
     "name": "stdout",
     "output_type": "stream",
     "text": [
      "                   all        807      26754      0.352      0.292      0.216      0.107      0.233      0.187     0.0831     0.0246\n"
     ]
    },
    {
     "name": "stderr",
     "output_type": "stream",
     "text": [
      "\n"
     ]
    },
    {
     "name": "stdout",
     "output_type": "stream",
     "text": [
      "\n",
      "      Epoch    GPU_mem   box_loss   seg_loss   cls_loss   dfl_loss  Instances       Size\n"
     ]
    },
    {
     "name": "stderr",
     "output_type": "stream",
     "text": [
      "      45/50      12.5G   0.009972    0.01577      1.578      1.554        107        640: 100%|██████████| 306/306 [12:42<00:00,  2.49s/it]\n",
      "                 Class     Images  Instances      Box(P          R      mAP50  mAP50-95)     Mask(P          R      mAP50  mAP50-95): 100%|██████████| 51/51 [21:39<00:00, 25.47s/it]"
     ]
    },
    {
     "name": "stdout",
     "output_type": "stream",
     "text": [
      "                   all        807      26754      0.367      0.295      0.227      0.113      0.226      0.185     0.0807     0.0232\n"
     ]
    },
    {
     "name": "stderr",
     "output_type": "stream",
     "text": [
      "\n"
     ]
    },
    {
     "name": "stdout",
     "output_type": "stream",
     "text": [
      "\n",
      "      Epoch    GPU_mem   box_loss   seg_loss   cls_loss   dfl_loss  Instances       Size\n"
     ]
    },
    {
     "name": "stderr",
     "output_type": "stream",
     "text": [
      "      46/50      12.2G   0.009953    0.01569      1.569      1.552        173        640: 100%|██████████| 306/306 [09:20<00:00,  1.83s/it]\n",
      "                 Class     Images  Instances      Box(P          R      mAP50  mAP50-95)     Mask(P          R      mAP50  mAP50-95): 100%|██████████| 51/51 [02:55<00:00,  3.45s/it]"
     ]
    },
    {
     "name": "stdout",
     "output_type": "stream",
     "text": [
      "                   all        807      26754      0.356      0.296      0.222      0.112      0.229      0.194     0.0851     0.0256\n"
     ]
    },
    {
     "name": "stderr",
     "output_type": "stream",
     "text": [
      "\n"
     ]
    },
    {
     "name": "stdout",
     "output_type": "stream",
     "text": [
      "\n",
      "      Epoch    GPU_mem   box_loss   seg_loss   cls_loss   dfl_loss  Instances       Size\n"
     ]
    },
    {
     "name": "stderr",
     "output_type": "stream",
     "text": [
      "      47/50      12.4G   0.009877    0.01565      1.559      1.542        145        640: 100%|██████████| 306/306 [26:06<00:00,  5.12s/it]\n",
      "                 Class     Images  Instances      Box(P          R      mAP50  mAP50-95)     Mask(P          R      mAP50  mAP50-95): 100%|██████████| 51/51 [22:07<00:00, 26.03s/it]"
     ]
    },
    {
     "name": "stdout",
     "output_type": "stream",
     "text": [
      "                   all        807      26754      0.356      0.292      0.216      0.109      0.225      0.185     0.0814     0.0235\n"
     ]
    },
    {
     "name": "stderr",
     "output_type": "stream",
     "text": [
      "\n"
     ]
    },
    {
     "name": "stdout",
     "output_type": "stream",
     "text": [
      "\n",
      "      Epoch    GPU_mem   box_loss   seg_loss   cls_loss   dfl_loss  Instances       Size\n"
     ]
    },
    {
     "name": "stderr",
     "output_type": "stream",
     "text": [
      "      48/50      12.8G   0.009859    0.01561      1.549      1.541        215        640: 100%|██████████| 306/306 [19:53<00:00,  3.90s/it]\n",
      "                 Class     Images  Instances      Box(P          R      mAP50  mAP50-95)     Mask(P          R      mAP50  mAP50-95): 100%|██████████| 51/51 [02:48<00:00,  3.30s/it]"
     ]
    },
    {
     "name": "stdout",
     "output_type": "stream",
     "text": [
      "                   all        807      26754      0.366      0.294       0.23      0.116      0.244      0.191     0.0911     0.0276\n"
     ]
    },
    {
     "name": "stderr",
     "output_type": "stream",
     "text": [
      "\n"
     ]
    },
    {
     "name": "stdout",
     "output_type": "stream",
     "text": [
      "\n",
      "      Epoch    GPU_mem   box_loss   seg_loss   cls_loss   dfl_loss  Instances       Size\n"
     ]
    },
    {
     "name": "stderr",
     "output_type": "stream",
     "text": [
      "      49/50      12.2G    0.00979    0.01559      1.535      1.528        150        640: 100%|██████████| 306/306 [08:27<00:00,  1.66s/it]\n",
      "                 Class     Images  Instances      Box(P          R      mAP50  mAP50-95)     Mask(P          R      mAP50  mAP50-95): 100%|██████████| 51/51 [22:51<00:00, 26.89s/it]"
     ]
    },
    {
     "name": "stdout",
     "output_type": "stream",
     "text": [
      "                   all        807      26754      0.371      0.288      0.224      0.113      0.248      0.188     0.0863     0.0268\n"
     ]
    },
    {
     "name": "stderr",
     "output_type": "stream",
     "text": [
      "\n"
     ]
    },
    {
     "name": "stdout",
     "output_type": "stream",
     "text": [
      "\n",
      "      Epoch    GPU_mem   box_loss   seg_loss   cls_loss   dfl_loss  Instances       Size\n"
     ]
    },
    {
     "name": "stderr",
     "output_type": "stream",
     "text": [
      "      50/50      12.3G   0.009684    0.01552      1.512      1.526        133        640: 100%|██████████| 306/306 [11:40<00:00,  2.29s/it]\n",
      "                 Class     Images  Instances      Box(P          R      mAP50  mAP50-95)     Mask(P          R      mAP50  mAP50-95): 100%|██████████| 51/51 [03:42<00:00,  4.37s/it]"
     ]
    },
    {
     "name": "stdout",
     "output_type": "stream",
     "text": [
      "                   all        807      26754      0.362      0.295      0.226      0.116      0.234      0.188      0.088     0.0254\n"
     ]
    },
    {
     "name": "stderr",
     "output_type": "stream",
     "text": [
      "\n"
     ]
    },
    {
     "name": "stdout",
     "output_type": "stream",
     "text": [
      "\n",
      "50 epochs completed in 21.518 hours.\n",
      "Optimizer stripped from runs\\segment\\train3\\weights\\last.pt, 124.8MB\n",
      "Optimizer stripped from runs\\segment\\train3\\weights\\best.pt, 124.8MB\n",
      "\n",
      "Validating runs\\segment\\train3\\weights\\best.pt...\n",
      "Ultralytics 8.3.70  Python-3.9.21 torch-1.9.1+cu111 CUDA:0 (NVIDIA GeForce RTX 3060, 12287MiB)\n",
      "YOLO11x-seg summary (fused): 491 layers, 62,003,283 parameters, 0 gradients, 318.5 GFLOPs\n"
     ]
    },
    {
     "name": "stderr",
     "output_type": "stream",
     "text": [
      "                 Class     Images  Instances      Box(P          R      mAP50  mAP50-95)     Mask(P          R      mAP50  mAP50-95): 100%|██████████| 51/51 [00:54<00:00,  1.08s/it]\n"
     ]
    },
    {
     "name": "stdout",
     "output_type": "stream",
     "text": [
      "                   all        807      26754      0.366      0.294       0.23      0.116      0.244      0.191     0.0909     0.0276\n",
      "Speed: 0.2ms preprocess, 33.4ms inference, 0.0ms loss, 1.5ms postprocess per image\n",
      "Results saved to \u001b[1mruns\\segment\\train3\u001b[0m\n",
      "Ultralytics 8.3.70  Python-3.9.21 torch-1.9.1+cu111 CUDA:0 (NVIDIA GeForce RTX 3060, 12287MiB)\n",
      "YOLO11x-seg summary (fused): 491 layers, 62,003,283 parameters, 0 gradients, 318.5 GFLOPs\n"
     ]
    },
    {
     "name": "stderr",
     "output_type": "stream",
     "text": [
      "\u001b[34m\u001b[1mval: \u001b[0mScanning D:\\019.위성영상객체판독\\2.Validation\\valid_road\\labels.cache... 918 images, 0 backgrounds, 111 corrupt: 100%|██████████| 918/918 [00:00<?, ?it/s]"
     ]
    },
    {
     "name": "stdout",
     "output_type": "stream",
     "text": [
      "\u001b[34m\u001b[1mval: \u001b[0mWARNING  D:\\019.\\2.Validation\\valid_road\\images\\BLD00047_PS3_K3A_NIA0276.png: ignoring corrupt image/label: non-normalized or out of bounds coordinates [     1.0022]\n",
      "\u001b[34m\u001b[1mval: \u001b[0mWARNING  D:\\019.\\2.Validation\\valid_road\\images\\BLD00047_PS3_K3A_NIA0276_1.png: ignoring corrupt image/label: non-normalized or out of bounds coordinates [     1.0022]\n",
      "\u001b[34m\u001b[1mval: \u001b[0mWARNING  D:\\019.\\2.Validation\\valid_road\\images\\BLD00047_PS3_K3A_NIA0276_1_2.png: ignoring corrupt image/label: non-normalized or out of bounds coordinates [     1.0022]\n",
      "\u001b[34m\u001b[1mval: \u001b[0mWARNING  D:\\019.\\2.Validation\\valid_road\\images\\BLD00358_PS3_K3A_NIA0276.png: ignoring corrupt image/label: non-normalized or out of bounds coordinates [     1.0013]\n",
      "\u001b[34m\u001b[1mval: \u001b[0mWARNING  D:\\019.\\2.Validation\\valid_road\\images\\BLD00358_PS3_K3A_NIA0276_1.png: ignoring corrupt image/label: non-normalized or out of bounds coordinates [     1.0013]\n",
      "\u001b[34m\u001b[1mval: \u001b[0mWARNING  D:\\019.\\2.Validation\\valid_road\\images\\BLD00358_PS3_K3A_NIA0276_1_2.png: ignoring corrupt image/label: non-normalized or out of bounds coordinates [     1.0013]\n",
      "\u001b[34m\u001b[1mval: \u001b[0mWARNING  D:\\019.\\2.Validation\\valid_road\\images\\BLD00594_PS3_K3A_NIA0277.png: ignoring corrupt image/label: non-normalized or out of bounds coordinates [     1.0009]\n",
      "\u001b[34m\u001b[1mval: \u001b[0mWARNING  D:\\019.\\2.Validation\\valid_road\\images\\BLD00594_PS3_K3A_NIA0277_1.png: ignoring corrupt image/label: non-normalized or out of bounds coordinates [     1.0009]\n",
      "\u001b[34m\u001b[1mval: \u001b[0mWARNING  D:\\019.\\2.Validation\\valid_road\\images\\BLD00594_PS3_K3A_NIA0277_1_2.png: ignoring corrupt image/label: non-normalized or out of bounds coordinates [     1.0009]\n",
      "\u001b[34m\u001b[1mval: \u001b[0mWARNING  D:\\019.\\2.Validation\\valid_road\\images\\BLD00647_PS3_K3A_NIA0277.png: ignoring corrupt image/label: non-normalized or out of bounds coordinates [     1.0013      1.0006]\n",
      "\u001b[34m\u001b[1mval: \u001b[0mWARNING  D:\\019.\\2.Validation\\valid_road\\images\\BLD00647_PS3_K3A_NIA0277_1.png: ignoring corrupt image/label: non-normalized or out of bounds coordinates [     1.0013      1.0006]\n",
      "\u001b[34m\u001b[1mval: \u001b[0mWARNING  D:\\019.\\2.Validation\\valid_road\\images\\BLD00647_PS3_K3A_NIA0277_1_2.png: ignoring corrupt image/label: non-normalized or out of bounds coordinates [     1.0013      1.0006]\n",
      "\u001b[34m\u001b[1mval: \u001b[0mWARNING  D:\\019.\\2.Validation\\valid_road\\images\\BLD00665_PS3_K3A_NIA0277.png: ignoring corrupt image/label: non-normalized or out of bounds coordinates [     1.0009]\n",
      "\u001b[34m\u001b[1mval: \u001b[0mWARNING  D:\\019.\\2.Validation\\valid_road\\images\\BLD00665_PS3_K3A_NIA0277_1.png: ignoring corrupt image/label: non-normalized or out of bounds coordinates [     1.0009]\n",
      "\u001b[34m\u001b[1mval: \u001b[0mWARNING  D:\\019.\\2.Validation\\valid_road\\images\\BLD00665_PS3_K3A_NIA0277_1_2.png: ignoring corrupt image/label: non-normalized or out of bounds coordinates [     1.0009]\n",
      "\u001b[34m\u001b[1mval: \u001b[0mWARNING  D:\\019.\\2.Validation\\valid_road\\images\\BLD00836_PS3_K3A_NIA0277.png: ignoring corrupt image/label: non-normalized or out of bounds coordinates [     1.0006      1.0011]\n",
      "\u001b[34m\u001b[1mval: \u001b[0mWARNING  D:\\019.\\2.Validation\\valid_road\\images\\BLD00836_PS3_K3A_NIA0277_1.png: ignoring corrupt image/label: non-normalized or out of bounds coordinates [     1.0006      1.0011]\n",
      "\u001b[34m\u001b[1mval: \u001b[0mWARNING  D:\\019.\\2.Validation\\valid_road\\images\\BLD00836_PS3_K3A_NIA0277_1_2.png: ignoring corrupt image/label: non-normalized or out of bounds coordinates [     1.0006      1.0011]\n",
      "\u001b[34m\u001b[1mval: \u001b[0mWARNING  D:\\019.\\2.Validation\\valid_road\\images\\BLD00882_PS3_K3A_NIA0277.png: ignoring corrupt image/label: non-normalized or out of bounds coordinates [     1.0032]\n",
      "\u001b[34m\u001b[1mval: \u001b[0mWARNING  D:\\019.\\2.Validation\\valid_road\\images\\BLD00882_PS3_K3A_NIA0277_1.png: ignoring corrupt image/label: non-normalized or out of bounds coordinates [     1.0032]\n",
      "\u001b[34m\u001b[1mval: \u001b[0mWARNING  D:\\019.\\2.Validation\\valid_road\\images\\BLD00882_PS3_K3A_NIA0277_1_2.png: ignoring corrupt image/label: non-normalized or out of bounds coordinates [     1.0032]\n",
      "\u001b[34m\u001b[1mval: \u001b[0mWARNING  D:\\019.\\2.Validation\\valid_road\\images\\BLD01648_PS3_K3A_NIA0373.png: ignoring corrupt image/label: non-normalized or out of bounds coordinates [     1.0009      1.0005]\n",
      "\u001b[34m\u001b[1mval: \u001b[0mWARNING  D:\\019.\\2.Validation\\valid_road\\images\\BLD01648_PS3_K3A_NIA0373_1.png: ignoring corrupt image/label: non-normalized or out of bounds coordinates [     1.0009      1.0005]\n",
      "\u001b[34m\u001b[1mval: \u001b[0mWARNING  D:\\019.\\2.Validation\\valid_road\\images\\BLD01648_PS3_K3A_NIA0373_1_2.png: ignoring corrupt image/label: non-normalized or out of bounds coordinates [     1.0009      1.0005]\n",
      "\u001b[34m\u001b[1mval: \u001b[0mWARNING  D:\\019.\\2.Validation\\valid_road\\images\\BLD02429_PS3_K3A_NIA0375.png: 15 duplicate labels removed\n",
      "\u001b[34m\u001b[1mval: \u001b[0mWARNING  D:\\019.\\2.Validation\\valid_road\\images\\BLD02429_PS3_K3A_NIA0375_1.png: 15 duplicate labels removed\n",
      "\u001b[34m\u001b[1mval: \u001b[0mWARNING  D:\\019.\\2.Validation\\valid_road\\images\\BLD02429_PS3_K3A_NIA0375_1_2.png: 15 duplicate labels removed\n",
      "\u001b[34m\u001b[1mval: \u001b[0mWARNING  D:\\019.\\2.Validation\\valid_road\\images\\BLD03193_PS3_K3A_NIA0376.png: ignoring corrupt image/label: non-normalized or out of bounds coordinates [     1.0004]\n",
      "\u001b[34m\u001b[1mval: \u001b[0mWARNING  D:\\019.\\2.Validation\\valid_road\\images\\BLD03193_PS3_K3A_NIA0376_1.png: ignoring corrupt image/label: non-normalized or out of bounds coordinates [     1.0004]\n",
      "\u001b[34m\u001b[1mval: \u001b[0mWARNING  D:\\019.\\2.Validation\\valid_road\\images\\BLD03193_PS3_K3A_NIA0376_1_2.png: ignoring corrupt image/label: non-normalized or out of bounds coordinates [     1.0004]\n",
      "\u001b[34m\u001b[1mval: \u001b[0mWARNING  D:\\019.\\2.Validation\\valid_road\\images\\BLD03632_PS3_K3A_NIA0376.png: ignoring corrupt image/label: non-normalized or out of bounds coordinates [     1.0009]\n",
      "\u001b[34m\u001b[1mval: \u001b[0mWARNING  D:\\019.\\2.Validation\\valid_road\\images\\BLD03632_PS3_K3A_NIA0376_1.png: ignoring corrupt image/label: non-normalized or out of bounds coordinates [     1.0009]\n",
      "\u001b[34m\u001b[1mval: \u001b[0mWARNING  D:\\019.\\2.Validation\\valid_road\\images\\BLD03632_PS3_K3A_NIA0376_1_2.png: ignoring corrupt image/label: non-normalized or out of bounds coordinates [     1.0009]\n",
      "\u001b[34m\u001b[1mval: \u001b[0mWARNING  D:\\019.\\2.Validation\\valid_road\\images\\BLD05458_PS3_K3A_NIA0380.png: ignoring corrupt image/label: non-normalized or out of bounds coordinates [     1.0034]\n",
      "\u001b[34m\u001b[1mval: \u001b[0mWARNING  D:\\019.\\2.Validation\\valid_road\\images\\BLD05458_PS3_K3A_NIA0380_1.png: ignoring corrupt image/label: non-normalized or out of bounds coordinates [     1.0034]\n",
      "\u001b[34m\u001b[1mval: \u001b[0mWARNING  D:\\019.\\2.Validation\\valid_road\\images\\BLD05458_PS3_K3A_NIA0380_1_2.png: ignoring corrupt image/label: non-normalized or out of bounds coordinates [     1.0034]\n",
      "\u001b[34m\u001b[1mval: \u001b[0mWARNING  D:\\019.\\2.Validation\\valid_road\\images\\BLD05507_PS3_K3A_NIA0380.png: ignoring corrupt image/label: non-normalized or out of bounds coordinates [     1.0006]\n",
      "\u001b[34m\u001b[1mval: \u001b[0mWARNING  D:\\019.\\2.Validation\\valid_road\\images\\BLD05507_PS3_K3A_NIA0380_1.png: ignoring corrupt image/label: non-normalized or out of bounds coordinates [     1.0006]\n",
      "\u001b[34m\u001b[1mval: \u001b[0mWARNING  D:\\019.\\2.Validation\\valid_road\\images\\BLD05507_PS3_K3A_NIA0380_1_2.png: ignoring corrupt image/label: non-normalized or out of bounds coordinates [     1.0006]\n",
      "\u001b[34m\u001b[1mval: \u001b[0mWARNING  D:\\019.\\2.Validation\\valid_road\\images\\BLD05665_PS3_K3A_NIA0380.png: ignoring corrupt image/label: non-normalized or out of bounds coordinates [     1.0013]\n",
      "\u001b[34m\u001b[1mval: \u001b[0mWARNING  D:\\019.\\2.Validation\\valid_road\\images\\BLD05665_PS3_K3A_NIA0380_1.png: ignoring corrupt image/label: non-normalized or out of bounds coordinates [     1.0013]\n",
      "\u001b[34m\u001b[1mval: \u001b[0mWARNING  D:\\019.\\2.Validation\\valid_road\\images\\BLD05665_PS3_K3A_NIA0380_1_2.png: ignoring corrupt image/label: non-normalized or out of bounds coordinates [     1.0013]\n",
      "\u001b[34m\u001b[1mval: \u001b[0mWARNING  D:\\019.\\2.Validation\\valid_road\\images\\BLD05673_PS3_K3A_NIA0380.png: ignoring corrupt image/label: non-normalized or out of bounds coordinates [     1.0018]\n",
      "\u001b[34m\u001b[1mval: \u001b[0mWARNING  D:\\019.\\2.Validation\\valid_road\\images\\BLD05673_PS3_K3A_NIA0380_1.png: ignoring corrupt image/label: non-normalized or out of bounds coordinates [     1.0018]\n",
      "\u001b[34m\u001b[1mval: \u001b[0mWARNING  D:\\019.\\2.Validation\\valid_road\\images\\BLD05673_PS3_K3A_NIA0380_1_2.png: ignoring corrupt image/label: non-normalized or out of bounds coordinates [     1.0018]\n",
      "\u001b[34m\u001b[1mval: \u001b[0mWARNING  D:\\019.\\2.Validation\\valid_road\\images\\BLD06217_PS3_K3A_NIA0381.png: ignoring corrupt image/label: non-normalized or out of bounds coordinates [     1.0003]\n",
      "\u001b[34m\u001b[1mval: \u001b[0mWARNING  D:\\019.\\2.Validation\\valid_road\\images\\BLD06217_PS3_K3A_NIA0381_1.png: ignoring corrupt image/label: non-normalized or out of bounds coordinates [     1.0003]\n",
      "\u001b[34m\u001b[1mval: \u001b[0mWARNING  D:\\019.\\2.Validation\\valid_road\\images\\BLD06217_PS3_K3A_NIA0381_1_2.png: ignoring corrupt image/label: non-normalized or out of bounds coordinates [     1.0003]\n",
      "\u001b[34m\u001b[1mval: \u001b[0mWARNING  D:\\019.\\2.Validation\\valid_road\\images\\BLD06439_PS3_K3A_NIA0381.png: ignoring corrupt image/label: non-normalized or out of bounds coordinates [          1]\n",
      "\u001b[34m\u001b[1mval: \u001b[0mWARNING  D:\\019.\\2.Validation\\valid_road\\images\\BLD06439_PS3_K3A_NIA0381_1.png: ignoring corrupt image/label: non-normalized or out of bounds coordinates [          1]\n",
      "\u001b[34m\u001b[1mval: \u001b[0mWARNING  D:\\019.\\2.Validation\\valid_road\\images\\BLD06439_PS3_K3A_NIA0381_1_2.png: ignoring corrupt image/label: non-normalized or out of bounds coordinates [          1]\n",
      "\u001b[34m\u001b[1mval: \u001b[0mWARNING  D:\\019.\\2.Validation\\valid_road\\images\\BLD06550_PS3_K3A_NIA0381.png: ignoring corrupt image/label: non-normalized or out of bounds coordinates [     1.0011]\n",
      "\u001b[34m\u001b[1mval: \u001b[0mWARNING  D:\\019.\\2.Validation\\valid_road\\images\\BLD06550_PS3_K3A_NIA0381_1.png: ignoring corrupt image/label: non-normalized or out of bounds coordinates [     1.0011]\n",
      "\u001b[34m\u001b[1mval: \u001b[0mWARNING  D:\\019.\\2.Validation\\valid_road\\images\\BLD06550_PS3_K3A_NIA0381_1_2.png: ignoring corrupt image/label: non-normalized or out of bounds coordinates [     1.0011]\n",
      "\u001b[34m\u001b[1mval: \u001b[0mWARNING  D:\\019.\\2.Validation\\valid_road\\images\\BLD07110_PS3_K3A_NIA0382.png: ignoring corrupt image/label: non-normalized or out of bounds coordinates [     1.0005]\n",
      "\u001b[34m\u001b[1mval: \u001b[0mWARNING  D:\\019.\\2.Validation\\valid_road\\images\\BLD07110_PS3_K3A_NIA0382_1.png: ignoring corrupt image/label: non-normalized or out of bounds coordinates [     1.0005]\n",
      "\u001b[34m\u001b[1mval: \u001b[0mWARNING  D:\\019.\\2.Validation\\valid_road\\images\\BLD07110_PS3_K3A_NIA0382_1_2.png: ignoring corrupt image/label: non-normalized or out of bounds coordinates [     1.0005]\n",
      "\u001b[34m\u001b[1mval: \u001b[0mWARNING  D:\\019.\\2.Validation\\valid_road\\images\\BLD07819_PS3_K3A_NIA0383.png: ignoring corrupt image/label: non-normalized or out of bounds coordinates [     1.0004      1.0006]\n",
      "\u001b[34m\u001b[1mval: \u001b[0mWARNING  D:\\019.\\2.Validation\\valid_road\\images\\BLD07819_PS3_K3A_NIA0383_1.png: ignoring corrupt image/label: non-normalized or out of bounds coordinates [     1.0004      1.0006]\n",
      "\u001b[34m\u001b[1mval: \u001b[0mWARNING  D:\\019.\\2.Validation\\valid_road\\images\\BLD07819_PS3_K3A_NIA0383_1_2.png: ignoring corrupt image/label: non-normalized or out of bounds coordinates [     1.0004      1.0006]\n",
      "\u001b[34m\u001b[1mval: \u001b[0mWARNING  D:\\019.\\2.Validation\\valid_road\\images\\BLD07845_PS3_K3A_NIA0383.png: ignoring corrupt image/label: non-normalized or out of bounds coordinates [     1.0011]\n",
      "\u001b[34m\u001b[1mval: \u001b[0mWARNING  D:\\019.\\2.Validation\\valid_road\\images\\BLD07845_PS3_K3A_NIA0383_1.png: ignoring corrupt image/label: non-normalized or out of bounds coordinates [     1.0011]\n",
      "\u001b[34m\u001b[1mval: \u001b[0mWARNING  D:\\019.\\2.Validation\\valid_road\\images\\BLD07845_PS3_K3A_NIA0383_1_2.png: ignoring corrupt image/label: non-normalized or out of bounds coordinates [     1.0011]\n",
      "\u001b[34m\u001b[1mval: \u001b[0mWARNING  D:\\019.\\2.Validation\\valid_road\\images\\BLD08016_PS3_K3A_NIA0384.png: ignoring corrupt image/label: non-normalized or out of bounds coordinates [     1.0008]\n",
      "\u001b[34m\u001b[1mval: \u001b[0mWARNING  D:\\019.\\2.Validation\\valid_road\\images\\BLD08016_PS3_K3A_NIA0384_1.png: ignoring corrupt image/label: non-normalized or out of bounds coordinates [     1.0008]\n",
      "\u001b[34m\u001b[1mval: \u001b[0mWARNING  D:\\019.\\2.Validation\\valid_road\\images\\BLD08016_PS3_K3A_NIA0384_1_2.png: ignoring corrupt image/label: non-normalized or out of bounds coordinates [     1.0008]\n",
      "\u001b[34m\u001b[1mval: \u001b[0mWARNING  D:\\019.\\2.Validation\\valid_road\\images\\BLD08066_PS3_K3A_NIA0384.png: ignoring corrupt image/label: non-normalized or out of bounds coordinates [     1.0001]\n",
      "\u001b[34m\u001b[1mval: \u001b[0mWARNING  D:\\019.\\2.Validation\\valid_road\\images\\BLD08066_PS3_K3A_NIA0384_1.png: ignoring corrupt image/label: non-normalized or out of bounds coordinates [     1.0001]\n",
      "\u001b[34m\u001b[1mval: \u001b[0mWARNING  D:\\019.\\2.Validation\\valid_road\\images\\BLD08066_PS3_K3A_NIA0384_1_2.png: ignoring corrupt image/label: non-normalized or out of bounds coordinates [     1.0001]\n",
      "\u001b[34m\u001b[1mval: \u001b[0mWARNING  D:\\019.\\2.Validation\\valid_road\\images\\BLD09356_PS3_K3A_NIA0386.png: ignoring corrupt image/label: non-normalized or out of bounds coordinates [     1.0012]\n",
      "\u001b[34m\u001b[1mval: \u001b[0mWARNING  D:\\019.\\2.Validation\\valid_road\\images\\BLD09356_PS3_K3A_NIA0386_1.png: ignoring corrupt image/label: non-normalized or out of bounds coordinates [     1.0012]\n",
      "\u001b[34m\u001b[1mval: \u001b[0mWARNING  D:\\019.\\2.Validation\\valid_road\\images\\BLD09356_PS3_K3A_NIA0386_1_2.png: ignoring corrupt image/label: non-normalized or out of bounds coordinates [     1.0012]\n",
      "\u001b[34m\u001b[1mval: \u001b[0mWARNING  D:\\019.\\2.Validation\\valid_road\\images\\BLD09375_PS3_K3A_NIA0386.png: ignoring corrupt image/label: non-normalized or out of bounds coordinates [     1.0004]\n",
      "\u001b[34m\u001b[1mval: \u001b[0mWARNING  D:\\019.\\2.Validation\\valid_road\\images\\BLD09375_PS3_K3A_NIA0386_1.png: ignoring corrupt image/label: non-normalized or out of bounds coordinates [     1.0004]\n",
      "\u001b[34m\u001b[1mval: \u001b[0mWARNING  D:\\019.\\2.Validation\\valid_road\\images\\BLD09375_PS3_K3A_NIA0386_1_2.png: ignoring corrupt image/label: non-normalized or out of bounds coordinates [     1.0004]\n",
      "\u001b[34m\u001b[1mval: \u001b[0mWARNING  D:\\019.\\2.Validation\\valid_road\\images\\BLD09420_PS3_K3A_NIA0386.png: ignoring corrupt image/label: non-normalized or out of bounds coordinates [     1.0013]\n",
      "\u001b[34m\u001b[1mval: \u001b[0mWARNING  D:\\019.\\2.Validation\\valid_road\\images\\BLD09420_PS3_K3A_NIA0386_1.png: ignoring corrupt image/label: non-normalized or out of bounds coordinates [     1.0013]\n",
      "\u001b[34m\u001b[1mval: \u001b[0mWARNING  D:\\019.\\2.Validation\\valid_road\\images\\BLD09420_PS3_K3A_NIA0386_1_2.png: ignoring corrupt image/label: non-normalized or out of bounds coordinates [     1.0013]\n",
      "\u001b[34m\u001b[1mval: \u001b[0mWARNING  D:\\019.\\2.Validation\\valid_road\\images\\BLD09875_PS3_K3A_NIA0387.png: ignoring corrupt image/label: non-normalized or out of bounds coordinates [     1.0039]\n",
      "\u001b[34m\u001b[1mval: \u001b[0mWARNING  D:\\019.\\2.Validation\\valid_road\\images\\BLD09875_PS3_K3A_NIA0387_1.png: ignoring corrupt image/label: non-normalized or out of bounds coordinates [     1.0039]\n",
      "\u001b[34m\u001b[1mval: \u001b[0mWARNING  D:\\019.\\2.Validation\\valid_road\\images\\BLD09875_PS3_K3A_NIA0387_1_2.png: ignoring corrupt image/label: non-normalized or out of bounds coordinates [     1.0039]\n",
      "\u001b[34m\u001b[1mval: \u001b[0mWARNING  D:\\019.\\2.Validation\\valid_road\\images\\BLD09922_PS3_K3A_NIA0387.png: ignoring corrupt image/label: non-normalized or out of bounds coordinates [     1.0015]\n",
      "\u001b[34m\u001b[1mval: \u001b[0mWARNING  D:\\019.\\2.Validation\\valid_road\\images\\BLD09922_PS3_K3A_NIA0387_1.png: ignoring corrupt image/label: non-normalized or out of bounds coordinates [     1.0015]\n",
      "\u001b[34m\u001b[1mval: \u001b[0mWARNING  D:\\019.\\2.Validation\\valid_road\\images\\BLD09922_PS3_K3A_NIA0387_1_2.png: ignoring corrupt image/label: non-normalized or out of bounds coordinates [     1.0015]\n",
      "\u001b[34m\u001b[1mval: \u001b[0mWARNING  D:\\019.\\2.Validation\\valid_road\\images\\BLD10506_PS3_K3A_NIA0388.png: ignoring corrupt image/label: non-normalized or out of bounds coordinates [     1.0005]\n",
      "\u001b[34m\u001b[1mval: \u001b[0mWARNING  D:\\019.\\2.Validation\\valid_road\\images\\BLD10506_PS3_K3A_NIA0388_1.png: ignoring corrupt image/label: non-normalized or out of bounds coordinates [     1.0005]\n",
      "\u001b[34m\u001b[1mval: \u001b[0mWARNING  D:\\019.\\2.Validation\\valid_road\\images\\BLD10506_PS3_K3A_NIA0388_1_2.png: ignoring corrupt image/label: non-normalized or out of bounds coordinates [     1.0005]\n",
      "\u001b[34m\u001b[1mval: \u001b[0mWARNING  D:\\019.\\2.Validation\\valid_road\\images\\BLD10541_PS3_K3A_NIA0389.png: ignoring corrupt image/label: non-normalized or out of bounds coordinates [     1.0012]\n",
      "\u001b[34m\u001b[1mval: \u001b[0mWARNING  D:\\019.\\2.Validation\\valid_road\\images\\BLD10541_PS3_K3A_NIA0389_1.png: ignoring corrupt image/label: non-normalized or out of bounds coordinates [     1.0012]\n",
      "\u001b[34m\u001b[1mval: \u001b[0mWARNING  D:\\019.\\2.Validation\\valid_road\\images\\BLD10541_PS3_K3A_NIA0389_1_2.png: ignoring corrupt image/label: non-normalized or out of bounds coordinates [     1.0012]\n",
      "\u001b[34m\u001b[1mval: \u001b[0mWARNING  D:\\019.\\2.Validation\\valid_road\\images\\BLD10878_PS3_K3A_NIA0389.png: ignoring corrupt image/label: non-normalized or out of bounds coordinates [     1.0007      1.0002]\n",
      "\u001b[34m\u001b[1mval: \u001b[0mWARNING  D:\\019.\\2.Validation\\valid_road\\images\\BLD10878_PS3_K3A_NIA0389_1.png: ignoring corrupt image/label: non-normalized or out of bounds coordinates [     1.0007      1.0002]\n",
      "\u001b[34m\u001b[1mval: \u001b[0mWARNING  D:\\019.\\2.Validation\\valid_road\\images\\BLD10878_PS3_K3A_NIA0389_1_2.png: ignoring corrupt image/label: non-normalized or out of bounds coordinates [     1.0007      1.0002]\n",
      "\u001b[34m\u001b[1mval: \u001b[0mWARNING  D:\\019.\\2.Validation\\valid_road\\images\\BLD11131_PS3_K3A_NIA0389.png: ignoring corrupt image/label: non-normalized or out of bounds coordinates [     1.0004]\n",
      "\u001b[34m\u001b[1mval: \u001b[0mWARNING  D:\\019.\\2.Validation\\valid_road\\images\\BLD11131_PS3_K3A_NIA0389_1.png: ignoring corrupt image/label: non-normalized or out of bounds coordinates [     1.0004]\n",
      "\u001b[34m\u001b[1mval: \u001b[0mWARNING  D:\\019.\\2.Validation\\valid_road\\images\\BLD11131_PS3_K3A_NIA0389_1_2.png: ignoring corrupt image/label: non-normalized or out of bounds coordinates [     1.0004]\n",
      "\u001b[34m\u001b[1mval: \u001b[0mWARNING  D:\\019.\\2.Validation\\valid_road\\images\\BLD11154_PS3_K3A_NIA0390.png: ignoring corrupt image/label: non-normalized or out of bounds coordinates [     1.0078]\n",
      "\u001b[34m\u001b[1mval: \u001b[0mWARNING  D:\\019.\\2.Validation\\valid_road\\images\\BLD11154_PS3_K3A_NIA0390_1.png: ignoring corrupt image/label: non-normalized or out of bounds coordinates [     1.0078]\n",
      "\u001b[34m\u001b[1mval: \u001b[0mWARNING  D:\\019.\\2.Validation\\valid_road\\images\\BLD11154_PS3_K3A_NIA0390_1_2.png: ignoring corrupt image/label: non-normalized or out of bounds coordinates [     1.0078]\n",
      "\u001b[34m\u001b[1mval: \u001b[0mWARNING  D:\\019.\\2.Validation\\valid_road\\images\\BLD11213_PS3_K3A_NIA0390.png: ignoring corrupt image/label: non-normalized or out of bounds coordinates [     1.0004]\n",
      "\u001b[34m\u001b[1mval: \u001b[0mWARNING  D:\\019.\\2.Validation\\valid_road\\images\\BLD11213_PS3_K3A_NIA0390_1.png: ignoring corrupt image/label: non-normalized or out of bounds coordinates [     1.0004]\n",
      "\u001b[34m\u001b[1mval: \u001b[0mWARNING  D:\\019.\\2.Validation\\valid_road\\images\\BLD11213_PS3_K3A_NIA0390_1_2.png: ignoring corrupt image/label: non-normalized or out of bounds coordinates [     1.0004]\n",
      "\u001b[34m\u001b[1mval: \u001b[0mWARNING  D:\\019.\\2.Validation\\valid_road\\images\\BLD11822_PS3_K3A_NIA0391.png: ignoring corrupt image/label: non-normalized or out of bounds coordinates [     1.0038      1.0014]\n",
      "\u001b[34m\u001b[1mval: \u001b[0mWARNING  D:\\019.\\2.Validation\\valid_road\\images\\BLD11822_PS3_K3A_NIA0391_1.png: ignoring corrupt image/label: non-normalized or out of bounds coordinates [     1.0038      1.0014]\n",
      "\u001b[34m\u001b[1mval: \u001b[0mWARNING  D:\\019.\\2.Validation\\valid_road\\images\\BLD11822_PS3_K3A_NIA0391_1_2.png: ignoring corrupt image/label: non-normalized or out of bounds coordinates [     1.0038      1.0014]\n",
      "\u001b[34m\u001b[1mval: \u001b[0mWARNING  D:\\019.\\2.Validation\\valid_road\\images\\BLD12006_PS3_K3A_NIA0391.png: ignoring corrupt image/label: non-normalized or out of bounds coordinates [     1.0003]\n",
      "\u001b[34m\u001b[1mval: \u001b[0mWARNING  D:\\019.\\2.Validation\\valid_road\\images\\BLD12006_PS3_K3A_NIA0391_1.png: ignoring corrupt image/label: non-normalized or out of bounds coordinates [     1.0003]\n",
      "\u001b[34m\u001b[1mval: \u001b[0mWARNING  D:\\019.\\2.Validation\\valid_road\\images\\BLD12006_PS3_K3A_NIA0391_1_2.png: ignoring corrupt image/label: non-normalized or out of bounds coordinates [     1.0003]\n",
      "\u001b[34m\u001b[1mval: \u001b[0mWARNING  D:\\019.\\2.Validation\\valid_road\\images\\BLD12071_PS3_K3A_NIA0391.png: ignoring corrupt image/label: non-normalized or out of bounds coordinates [     1.0016]\n",
      "\u001b[34m\u001b[1mval: \u001b[0mWARNING  D:\\019.\\2.Validation\\valid_road\\images\\BLD12071_PS3_K3A_NIA0391_1.png: ignoring corrupt image/label: non-normalized or out of bounds coordinates [     1.0016]\n",
      "\u001b[34m\u001b[1mval: \u001b[0mWARNING  D:\\019.\\2.Validation\\valid_road\\images\\BLD12071_PS3_K3A_NIA0391_1_2.png: ignoring corrupt image/label: non-normalized or out of bounds coordinates [     1.0016]\n",
      "\u001b[34m\u001b[1mval: \u001b[0mWARNING  D:\\019.\\2.Validation\\valid_road\\images\\BLD12257_PS3_K3A_NIA0391.png: ignoring corrupt image/label: non-normalized or out of bounds coordinates [     1.0002]\n",
      "\u001b[34m\u001b[1mval: \u001b[0mWARNING  D:\\019.\\2.Validation\\valid_road\\images\\BLD12257_PS3_K3A_NIA0391_1.png: ignoring corrupt image/label: non-normalized or out of bounds coordinates [     1.0002]\n",
      "\u001b[34m\u001b[1mval: \u001b[0mWARNING  D:\\019.\\2.Validation\\valid_road\\images\\BLD12257_PS3_K3A_NIA0391_1_2.png: ignoring corrupt image/label: non-normalized or out of bounds coordinates [     1.0002]\n"
     ]
    },
    {
     "name": "stderr",
     "output_type": "stream",
     "text": [
      "\n",
      "                 Class     Images  Instances      Box(P          R      mAP50  mAP50-95)     Mask(P          R      mAP50  mAP50-95): 100%|██████████| 101/101 [01:22<00:00,  1.23it/s]\n"
     ]
    },
    {
     "name": "stdout",
     "output_type": "stream",
     "text": [
      "                   all        807      26754      0.368      0.294      0.231      0.116      0.243      0.189     0.0898      0.027\n",
      "Speed: 0.2ms preprocess, 67.6ms inference, 0.0ms loss, 1.6ms postprocess per image\n",
      "Results saved to \u001b[1mruns\\segment\\train32\u001b[0m\n",
      "\n",
      "image 1/1 D:\\019.\\2.Validation\\validate\\images\\BLD01603_PS3_K3A_NIA0373.png: 640x640 5 roads, 74.2ms\n",
      "Speed: 9.0ms preprocess, 74.2ms inference, 8.3ms postprocess per image at shape (1, 3, 640, 640)\n",
      "Ultralytics 8.3.70  Python-3.9.21 torch-1.9.1+cu111 CPU (AMD Ryzen 7 5700X 8-Core Processor)\n",
      "\n",
      "\u001b[34m\u001b[1mPyTorch:\u001b[0m starting from 'runs\\segment\\train3\\weights\\best.pt' with input shape (1, 3, 640, 640) BCHW and output shape(s) ((1, 37, 8400), (1, 32, 160, 160)) (119.0 MB)\n",
      "\n",
      "\u001b[34m\u001b[1mONNX:\u001b[0m starting export with onnx 1.17.0 opset 12...\n",
      "\u001b[34m\u001b[1mONNX:\u001b[0m slimming with onnxslim 0.1.48...\n",
      "\u001b[34m\u001b[1mONNX:\u001b[0m export success  11.8s, saved as 'runs\\segment\\train3\\weights\\best.onnx' (236.8 MB)\n",
      "\n",
      "Export complete (14.4s)\n",
      "Results saved to \u001b[1mD:\\019.\\runs\\segment\\train3\\weights\u001b[0m\n",
      "Predict:         yolo predict task=segment model=runs\\segment\\train3\\weights\\best.onnx imgsz=640  \n",
      "Validate:        yolo val task=segment model=runs\\segment\\train3\\weights\\best.onnx imgsz=640 data=D:/019./road_dataset.yaml  \n",
      "Visualize:       https://netron.app\n"
     ]
    }
   ],
   "source": [
    "from ultralytics import YOLO\n",
    "import os\n",
    "os.environ['KMP_DUPLICATE_LIB_OK'] = 'TRUE'\n",
    "# YOLO 모델 불러오기\n",
    "model = YOLO(\"yolo11x-seg.pt\")\n",
    "\n",
    "# 튜닝된 최적의 하이퍼파라미터 설정\n",
    "best_hyp = {\n",
    "    'lr0': 0.01,  # 초기 학습률 (적당히 높은 값에서 시작)\n",
    "    'lrf': 0.2,  # 학습 종료 시점의 학습률 (전체 lr의 20%로 감소)\n",
    "    'momentum': 0.937,  # 모멘텀 (기본값)\n",
    "    'weight_decay': 0.0005,  # 가중치 감소 (과적합 방지)\n",
    "    'warmup_epochs': 3.0,  # 워밍업 epoch 수\n",
    "    'warmup_momentum': 0.8,  # 워밍업 모멘텀\n",
    "    'warmup_bias_lr': 0.1,  # 워밍업 초반 learning rate\n",
    "    'box': 0.05,  # 박스 손실 비중 (기본값)\n",
    "    'cls': 0.5,  # 클래스 손실 비중 (기본값)\n",
    "    'kobj': 1.0,  # 양성 샘플 가중치 (기본값)\n",
    "    'iou': 0.2,  # IoU 임계값 (0.2 ~ 0.3 권장)\n",
    "    'hsv_h': 0.015,  # 색상 변화율 (기본값)\n",
    "    'hsv_s': 0.7,  # 채도 변화율 (기본값)\n",
    "    'hsv_v': 0.4,  # 명도 변화율 (기본값)\n",
    "    'degrees': 10.0,  # 회전 각도 (10도)\n",
    "    'translate': 0.1,  # 이미지 이동 (10% 이동)\n",
    "    'scale': 0.5,  # 이미지 스케일 변환 (50% ~ 150% 확장)\n",
    "    'shear': 0.0,  # 전단 변환 비율 (보통 사용하지 않음)\n",
    "    'perspective': 0.0,  # 원근 변환 (0으로 설정하여 비활성화)\n",
    "    'flipud': 0.0,  # 상하 반전 (보통 사용하지 않음)\n",
    "    'fliplr': 0.5,  # 좌우 반전 확률 (50% 확률로 수행)\n",
    "    'mosaic': 1.0,  # 모자이크 증강 활성화\n",
    "    'mixup': 0.0,  # Mixup 비활성화 (일반적으로 초기 학습에선 사용하지 않음)\n",
    "    'copy_paste': 0.0,  # Copy-paste 비활성화 (객체가 많을 때 사용 가능)\n",
    "    'shear': 2.0,          # 전단 변환 추가 (기본 0에서 2도 정도로 설정)\n",
    "    'perspective': 0.001,  # 약간의 원근감 부여\n",
    "    'scale': 0.3,          # 크기 변환을 더 다양하게 설정 (최대 30% 축소/확장)\n",
    "    'flipud': 0.5,         # 상하 반전도 50% 확률로 활성화\n",
    "    'translate': 0.2,      # 이미지 이동 범위 늘리기 (20%)\n",
    "    'degrees': 30.0,        # 회전 각도를 30도로 확대\n",
    "    'erasing': 0.6,\n",
    "    'crop_fraction': 1.0\n",
    "}\n",
    "\n",
    "\n",
    "# YOLO 모델 학습 시작\n",
    "train_results = model.train(\n",
    "    data=\"D:/019.위성영상객체판독/road_dataset.yaml\",  # 데이터셋 경로\n",
    "    epochs=50,  # 학습 에포크 수\n",
    "    imgsz=640,  # 이미지 크기\n",
    "    device=\"cuda\",  # GPU 사용\n",
    "    batch=8,\n",
    "    workers=0,  # 병렬 처리 수\n",
    "    **best_hyp  # 최적의 하이퍼파라미터 적용\n",
    ")\n",
    "\n",
    "# 모델 검증\n",
    "metrics = model.val()\n",
    "\n",
    "# 이미지에서 객체 탐지\n",
    "results = model(\"D:/019.위성영상객체판독/2.Validation/validate/images/BLD01603_PS3_K3A_NIA0373.png\")\n",
    "results[0].show()\n",
    "\n",
    "# 모델을 ONNX 형식으로 내보내기\n",
    "path = model.export(format=\"onnx\")"
   ]
  }
 ],
 "metadata": {
  "kernelspec": {
   "display_name": "yolo",
   "language": "python",
   "name": "python3"
  },
  "language_info": {
   "codemirror_mode": {
    "name": "ipython",
    "version": 3
   },
   "file_extension": ".py",
   "mimetype": "text/x-python",
   "name": "python",
   "nbconvert_exporter": "python",
   "pygments_lexer": "ipython3",
   "version": "3.9.21"
  }
 },
 "nbformat": 4,
 "nbformat_minor": 2
}
